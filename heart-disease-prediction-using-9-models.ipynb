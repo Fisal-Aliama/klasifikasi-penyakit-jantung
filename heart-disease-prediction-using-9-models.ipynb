{
 "cells": [
  {
   "cell_type": "markdown",
   "id": "624d8064",
   "metadata": {
    "papermill": {
     "duration": 0.028007,
     "end_time": "2024-04-28T09:34:28.987112",
     "exception": false,
     "start_time": "2024-04-28T09:34:28.959105",
     "status": "completed"
    },
    "tags": []
   },
   "source": [
    "# Heart Disease Prediction Using 9 Models"
   ]
  },
  {
   "cell_type": "markdown",
   "id": "7080ebb1",
   "metadata": {
    "papermill": {
     "duration": 0.025784,
     "end_time": "2024-04-28T09:34:29.040785",
     "exception": false,
     "start_time": "2024-04-28T09:34:29.015001",
     "status": "completed"
    },
    "tags": []
   },
   "source": [
    "`Author:` [Fahad Ur Rehman](https://github.com/FahadUrRehman07)\\\n",
    "`Date:` 15.April.2024\\\n",
    "`Dataset:` [Hear Disease UCI](https://www.kaggle.com/datasets/redwankarimsony/heart-disease-data)"
   ]
  },
  {
   "cell_type": "markdown",
   "id": "2ade62f5",
   "metadata": {
    "papermill": {
     "duration": 0.027974,
     "end_time": "2024-04-28T09:34:29.096139",
     "exception": false,
     "start_time": "2024-04-28T09:34:29.068165",
     "status": "completed"
    },
    "tags": []
   },
   "source": [
    "### `INSPIRATION OF THE PROJECT`\n",
    "World Health Organization has estimated 12 million deaths occur worldwide, every year due to Heart diseases. Half the deaths in the United States and other developed countries are due to cardio vascular diseases. The early prognosis of cardiovascular diseases can aid in making decisions on lifestyle changes in high risk patients and in turn reduce the complications. This research intends to pinpoint the most relevant/risk factors of heart disease as well as predict the overall risk using 9 models(`[LOGISTIC REGRESSION,KNN, NB,SVM, Random Forest, Decision Tree, XGBoost, GradientBoosting, AdaBoost]`).\n",
    "\n",
    "\n"
   ]
  },
  {
   "cell_type": "markdown",
   "id": "9f0e8439",
   "metadata": {
    "papermill": {
     "duration": 0.028198,
     "end_time": "2024-04-28T09:34:29.152665",
     "exception": false,
     "start_time": "2024-04-28T09:34:29.124467",
     "status": "completed"
    },
    "tags": []
   },
   "source": [
    "### About Dataset (Meta data)\n",
    "#### Context\n",
    "This is a multivariate type of dataset which means providing or involving a variety of separate mathematical or statistical variables, multivariate numerical data analysis. It is composed of 14 attributes which are age, sex, chest pain type, resting blood pressure, serum cholesterol, fasting blood sugar, resting electrocardiographic results, maximum heart rate achieved, exercise-induced angina, oldpeak — ST depression induced by exercise relative to rest, the slope of the peak exercise ST segment, number of major vessels and Thalassemia. This database includes 76 attributes, but all published studies relate to the use of a subset of 14 of them. The Cleveland database is the only one used by ML researchers to date. One of the major tasks on this dataset is to predict based on the given attributes of a patient that whether that particular person has heart disease or not and other is the experimental task to diagnose and find out various insights from this dataset which could help in understanding the problem more.\n",
    "\n",
    "### Content\n",
    "#### Column Descriptions:\n",
    "* `id `(Unique id for each patient)\n",
    "* `age` (Age of the patient in years)\n",
    "* `origin` (place of study)\n",
    "* `sex` (Male/Female)\n",
    "* `cp` chest pain type \n",
    "  1. typical angina.\n",
    "  2. atypical angina.\n",
    "  3. non-anginal.\n",
    "  4. asymptomatic.\n",
    "* `trestbps` resting blood pressure (resting blood pressure (in mm Hg on admission to the hospital))\n",
    "* `chol` (serum cholesterol in mg/dl)\n",
    "* `fbs` (if fasting blood sugar > 120 mg/dl)\n",
    "* `restecg` (resting electrocardiographic results)\n",
    "* `-- Values:` [normal, stt abnormality, lv hypertrophy]\n",
    "* `thalach:` maximum heart rate achieved\n",
    "* `exang:` exercise-induced angina (True/ False)\n",
    "* `oldpeak:` ST depression induced by exercise relative to rest\n",
    "* `slope:` the slope of the peak exercise ST segment\n",
    "* `ca:` number of major vessels (0-3) colored by fluoroscopy\n",
    "* `thal:`[normal; fixed defect; reversible defect]\n",
    "* `num:` the predicted attribute\n",
    "\n",
    "### Acknowledgements\n",
    "#### Creators:\n",
    "* Hungarian Institute of Cardiology. Budapest: Andras Janosi, M.D.\n",
    "* University Hospital, Zurich, Switzerland: William Steinbrunn, M.D.\n",
    "* University Hospital, Basel, Switzerland: Matthias Pfisterer, M.D.\n",
    "* V.A. Medical Center, Long Beach and Cleveland Clinic Foundation: Robert Detrano, M.D., Ph.D.\n",
    "\n",
    "#### Relevant Papers:\n",
    "* Detrano, R., Janosi, A., Steinbrunn, W., Pfisterer, M., Schmid, J., Sandhu, S., Guppy, K., Lee, S., & Froelicher, V. (1989). International application of a new probability algorithm for the diagnosis of coronary artery disease. American Journal of Cardiology, 64,304--310.\n",
    "* David W. Aha & Dennis Kibler. \"Instance-based prediction of heart-disease presence with the Cleveland database.\" \n",
    "* Gennari, J.H., Langley, P, & Fisher, D. (1989). Models of incremental concept formation. Artificial Intelligence, 40, 11--61. \n",
    "\n",
    "#### Citation Request:\n",
    "The authors of the databases have requested that any publications resulting from the use of the data include the names of the principal investigator responsible for the data collection at each institution. \n",
    "\n",
    "**They would be:**\n",
    "* Hungarian Institute of Cardiology. Budapest: Andras Janosi, M.D.\n",
    "* University Hospital, Zurich, Switzerland: William Steinbrunn, M.D.\n",
    "* University Hospital, Basel, Switzerland: Matthias Pfisterer, M.D.\n",
    "* V.A. Medical Center, Long Beach and Cleveland Clinic Foundation:Robert Detrano, M.D., Ph.D."
   ]
  },
  {
   "cell_type": "markdown",
   "id": "bcfe66ab",
   "metadata": {
    "papermill": {
     "duration": 0.02932,
     "end_time": "2024-04-28T09:34:29.210264",
     "exception": false,
     "start_time": "2024-04-28T09:34:29.180944",
     "status": "completed"
    },
    "tags": []
   },
   "source": [
    "# Aims & Objectives\n",
    "* we will fill this after some exploratory data analysis"
   ]
  },
  {
   "cell_type": "markdown",
   "id": "39296ff3",
   "metadata": {
    "papermill": {
     "duration": 0.028364,
     "end_time": "2024-04-28T09:34:29.266703",
     "exception": false,
     "start_time": "2024-04-28T09:34:29.238339",
     "status": "completed"
    },
    "tags": []
   },
   "source": [
    "# Import Libraries\n",
    "lets start the project by importing all the libraries that we will need in the project."
   ]
  },
  {
   "cell_type": "code",
   "execution_count": 1,
   "id": "253ad18f",
   "metadata": {
    "execution": {
     "iopub.execute_input": "2024-04-28T09:34:29.323957Z",
     "iopub.status.busy": "2024-04-28T09:34:29.323606Z",
     "iopub.status.idle": "2024-04-28T09:34:32.727191Z",
     "shell.execute_reply": "2024-04-28T09:34:32.726430Z"
    },
    "papermill": {
     "duration": 3.434593,
     "end_time": "2024-04-28T09:34:32.729455",
     "exception": false,
     "start_time": "2024-04-28T09:34:29.294862",
     "status": "completed"
    },
    "tags": []
   },
   "outputs": [],
   "source": [
    "# import libraries\n",
    "\n",
    "# 1. to handle the data\n",
    "import pandas as pd\n",
    "import numpy as np\n",
    "\n",
    "# 2. To Viusalize the data\n",
    "import matplotlib.pyplot as plt\n",
    "import seaborn as sns\n",
    "import plotly.express as px\n",
    "from yellowbrick.cluster import KElbowVisualizer\n",
    "from matplotlib.colors import ListedColormap\n",
    "\n",
    "# 3. To preprocess the data\n",
    "from sklearn.preprocessing import StandardScaler, MinMaxScaler, LabelEncoder\n",
    "from sklearn.impute import SimpleImputer, KNNImputer\n",
    "\n",
    "# 4. import Iterative imputer\n",
    "from sklearn.experimental import enable_iterative_imputer\n",
    "from sklearn.impute import IterativeImputer\n",
    "\n",
    "# 5. Machine Learning\n",
    "from sklearn.model_selection import train_test_split,GridSearchCV, cross_val_score\n",
    "\n",
    "# 6. For Classification task.\n",
    "from sklearn.linear_model import LogisticRegression\n",
    "from sklearn.neighbors import KNeighborsClassifier\n",
    "from sklearn.svm import SVC\n",
    "from sklearn.tree import DecisionTreeClassifier\n",
    "from sklearn.ensemble import RandomForestClassifier,AdaBoostClassifier,GradientBoostingClassifier,ExtraTreesClassifier,RandomForestRegressor\n",
    "from xgboost import XGBClassifier\n",
    "\n",
    "# 7. Metrics\n",
    "from sklearn.metrics import accuracy_score, confusion_matrix, classification_report\n",
    "\n",
    "# 8. Ignore warnings\n",
    "import warnings\n",
    "warnings.filterwarnings('ignore')\n"
   ]
  },
  {
   "cell_type": "markdown",
   "id": "1fe6827f",
   "metadata": {
    "papermill": {
     "duration": 0.024514,
     "end_time": "2024-04-28T09:34:32.778868",
     "exception": false,
     "start_time": "2024-04-28T09:34:32.754354",
     "status": "completed"
    },
    "tags": []
   },
   "source": [
    "# Load the Dataset"
   ]
  },
  {
   "cell_type": "code",
   "execution_count": 2,
   "id": "057cb2b2",
   "metadata": {
    "execution": {
     "iopub.execute_input": "2024-04-28T09:34:32.830894Z",
     "iopub.status.busy": "2024-04-28T09:34:32.830359Z",
     "iopub.status.idle": "2024-04-28T09:34:32.887043Z",
     "shell.execute_reply": "2024-04-28T09:34:32.886171Z"
    },
    "papermill": {
     "duration": 0.084979,
     "end_time": "2024-04-28T09:34:32.889122",
     "exception": false,
     "start_time": "2024-04-28T09:34:32.804143",
     "status": "completed"
    },
    "tags": []
   },
   "outputs": [
    {
     "data": {
      "text/html": [
       "<div>\n",
       "<style scoped>\n",
       "    .dataframe tbody tr th:only-of-type {\n",
       "        vertical-align: middle;\n",
       "    }\n",
       "\n",
       "    .dataframe tbody tr th {\n",
       "        vertical-align: top;\n",
       "    }\n",
       "\n",
       "    .dataframe thead th {\n",
       "        text-align: right;\n",
       "    }\n",
       "</style>\n",
       "<table border=\"1\" class=\"dataframe\">\n",
       "  <thead>\n",
       "    <tr style=\"text-align: right;\">\n",
       "      <th></th>\n",
       "      <th>id</th>\n",
       "      <th>age</th>\n",
       "      <th>sex</th>\n",
       "      <th>dataset</th>\n",
       "      <th>cp</th>\n",
       "      <th>trestbps</th>\n",
       "      <th>chol</th>\n",
       "      <th>fbs</th>\n",
       "      <th>restecg</th>\n",
       "      <th>thalch</th>\n",
       "      <th>exang</th>\n",
       "      <th>oldpeak</th>\n",
       "      <th>slope</th>\n",
       "      <th>ca</th>\n",
       "      <th>thal</th>\n",
       "      <th>num</th>\n",
       "    </tr>\n",
       "  </thead>\n",
       "  <tbody>\n",
       "    <tr>\n",
       "      <th>0</th>\n",
       "      <td>1</td>\n",
       "      <td>63</td>\n",
       "      <td>Male</td>\n",
       "      <td>Cleveland</td>\n",
       "      <td>typical angina</td>\n",
       "      <td>145.0</td>\n",
       "      <td>233.0</td>\n",
       "      <td>True</td>\n",
       "      <td>lv hypertrophy</td>\n",
       "      <td>150.0</td>\n",
       "      <td>False</td>\n",
       "      <td>2.3</td>\n",
       "      <td>downsloping</td>\n",
       "      <td>0.0</td>\n",
       "      <td>fixed defect</td>\n",
       "      <td>0</td>\n",
       "    </tr>\n",
       "    <tr>\n",
       "      <th>1</th>\n",
       "      <td>2</td>\n",
       "      <td>67</td>\n",
       "      <td>Male</td>\n",
       "      <td>Cleveland</td>\n",
       "      <td>asymptomatic</td>\n",
       "      <td>160.0</td>\n",
       "      <td>286.0</td>\n",
       "      <td>False</td>\n",
       "      <td>lv hypertrophy</td>\n",
       "      <td>108.0</td>\n",
       "      <td>True</td>\n",
       "      <td>1.5</td>\n",
       "      <td>flat</td>\n",
       "      <td>3.0</td>\n",
       "      <td>normal</td>\n",
       "      <td>2</td>\n",
       "    </tr>\n",
       "    <tr>\n",
       "      <th>2</th>\n",
       "      <td>3</td>\n",
       "      <td>67</td>\n",
       "      <td>Male</td>\n",
       "      <td>Cleveland</td>\n",
       "      <td>asymptomatic</td>\n",
       "      <td>120.0</td>\n",
       "      <td>229.0</td>\n",
       "      <td>False</td>\n",
       "      <td>lv hypertrophy</td>\n",
       "      <td>129.0</td>\n",
       "      <td>True</td>\n",
       "      <td>2.6</td>\n",
       "      <td>flat</td>\n",
       "      <td>2.0</td>\n",
       "      <td>reversable defect</td>\n",
       "      <td>1</td>\n",
       "    </tr>\n",
       "    <tr>\n",
       "      <th>3</th>\n",
       "      <td>4</td>\n",
       "      <td>37</td>\n",
       "      <td>Male</td>\n",
       "      <td>Cleveland</td>\n",
       "      <td>non-anginal</td>\n",
       "      <td>130.0</td>\n",
       "      <td>250.0</td>\n",
       "      <td>False</td>\n",
       "      <td>normal</td>\n",
       "      <td>187.0</td>\n",
       "      <td>False</td>\n",
       "      <td>3.5</td>\n",
       "      <td>downsloping</td>\n",
       "      <td>0.0</td>\n",
       "      <td>normal</td>\n",
       "      <td>0</td>\n",
       "    </tr>\n",
       "    <tr>\n",
       "      <th>4</th>\n",
       "      <td>5</td>\n",
       "      <td>41</td>\n",
       "      <td>Female</td>\n",
       "      <td>Cleveland</td>\n",
       "      <td>atypical angina</td>\n",
       "      <td>130.0</td>\n",
       "      <td>204.0</td>\n",
       "      <td>False</td>\n",
       "      <td>lv hypertrophy</td>\n",
       "      <td>172.0</td>\n",
       "      <td>False</td>\n",
       "      <td>1.4</td>\n",
       "      <td>upsloping</td>\n",
       "      <td>0.0</td>\n",
       "      <td>normal</td>\n",
       "      <td>0</td>\n",
       "    </tr>\n",
       "  </tbody>\n",
       "</table>\n",
       "</div>"
      ],
      "text/plain": [
       "   id  age     sex    dataset               cp  trestbps   chol    fbs  \\\n",
       "0   1   63    Male  Cleveland   typical angina     145.0  233.0   True   \n",
       "1   2   67    Male  Cleveland     asymptomatic     160.0  286.0  False   \n",
       "2   3   67    Male  Cleveland     asymptomatic     120.0  229.0  False   \n",
       "3   4   37    Male  Cleveland      non-anginal     130.0  250.0  False   \n",
       "4   5   41  Female  Cleveland  atypical angina     130.0  204.0  False   \n",
       "\n",
       "          restecg  thalch  exang  oldpeak        slope   ca  \\\n",
       "0  lv hypertrophy   150.0  False      2.3  downsloping  0.0   \n",
       "1  lv hypertrophy   108.0   True      1.5         flat  3.0   \n",
       "2  lv hypertrophy   129.0   True      2.6         flat  2.0   \n",
       "3          normal   187.0  False      3.5  downsloping  0.0   \n",
       "4  lv hypertrophy   172.0  False      1.4    upsloping  0.0   \n",
       "\n",
       "                thal  num  \n",
       "0       fixed defect    0  \n",
       "1             normal    2  \n",
       "2  reversable defect    1  \n",
       "3             normal    0  \n",
       "4             normal    0  "
      ]
     },
     "execution_count": 2,
     "metadata": {},
     "output_type": "execute_result"
    }
   ],
   "source": [
    "\n",
    "df = pd.read_csv(\"/kaggle/input/heart-disease-data/heart_disease_uci.csv\")\n",
    "\n",
    "# print the first 5 rows of the dataframe\n",
    "df.head()"
   ]
  },
  {
   "cell_type": "markdown",
   "id": "421b2205",
   "metadata": {
    "papermill": {
     "duration": 0.023967,
     "end_time": "2024-04-28T09:34:32.939474",
     "exception": false,
     "start_time": "2024-04-28T09:34:32.915507",
     "status": "completed"
    },
    "tags": []
   },
   "source": [
    "# Exploratory Data Analysis (EDA)\n",
    "### Explore Each Column"
   ]
  },
  {
   "cell_type": "code",
   "execution_count": 3,
   "id": "d34e7c66",
   "metadata": {
    "execution": {
     "iopub.execute_input": "2024-04-28T09:34:33.029359Z",
     "iopub.status.busy": "2024-04-28T09:34:33.028492Z",
     "iopub.status.idle": "2024-04-28T09:34:33.052045Z",
     "shell.execute_reply": "2024-04-28T09:34:33.050783Z"
    },
    "papermill": {
     "duration": 0.051892,
     "end_time": "2024-04-28T09:34:33.054041",
     "exception": false,
     "start_time": "2024-04-28T09:34:33.002149",
     "status": "completed"
    },
    "tags": []
   },
   "outputs": [
    {
     "name": "stdout",
     "output_type": "stream",
     "text": [
      "<class 'pandas.core.frame.DataFrame'>\n",
      "RangeIndex: 920 entries, 0 to 919\n",
      "Data columns (total 16 columns):\n",
      " #   Column    Non-Null Count  Dtype  \n",
      "---  ------    --------------  -----  \n",
      " 0   id        920 non-null    int64  \n",
      " 1   age       920 non-null    int64  \n",
      " 2   sex       920 non-null    object \n",
      " 3   dataset   920 non-null    object \n",
      " 4   cp        920 non-null    object \n",
      " 5   trestbps  861 non-null    float64\n",
      " 6   chol      890 non-null    float64\n",
      " 7   fbs       830 non-null    object \n",
      " 8   restecg   918 non-null    object \n",
      " 9   thalch    865 non-null    float64\n",
      " 10  exang     865 non-null    object \n",
      " 11  oldpeak   858 non-null    float64\n",
      " 12  slope     611 non-null    object \n",
      " 13  ca        309 non-null    float64\n",
      " 14  thal      434 non-null    object \n",
      " 15  num       920 non-null    int64  \n",
      "dtypes: float64(5), int64(3), object(8)\n",
      "memory usage: 115.1+ KB\n"
     ]
    }
   ],
   "source": [
    "# Exploring the data type of each column\n",
    "df.info()"
   ]
  },
  {
   "cell_type": "code",
   "execution_count": 4,
   "id": "00f951d2",
   "metadata": {
    "execution": {
     "iopub.execute_input": "2024-04-28T09:34:33.105442Z",
     "iopub.status.busy": "2024-04-28T09:34:33.105167Z",
     "iopub.status.idle": "2024-04-28T09:34:33.110627Z",
     "shell.execute_reply": "2024-04-28T09:34:33.109770Z"
    },
    "papermill": {
     "duration": 0.033901,
     "end_time": "2024-04-28T09:34:33.112660",
     "exception": false,
     "start_time": "2024-04-28T09:34:33.078759",
     "status": "completed"
    },
    "tags": []
   },
   "outputs": [
    {
     "data": {
      "text/plain": [
       "(920, 16)"
      ]
     },
     "execution_count": 4,
     "metadata": {},
     "output_type": "execute_result"
    }
   ],
   "source": [
    "# Checking the data shape\n",
    "df.shape"
   ]
  },
  {
   "cell_type": "code",
   "execution_count": 5,
   "id": "4ea96964",
   "metadata": {
    "execution": {
     "iopub.execute_input": "2024-04-28T09:34:33.166390Z",
     "iopub.status.busy": "2024-04-28T09:34:33.166111Z",
     "iopub.status.idle": "2024-04-28T09:34:33.175773Z",
     "shell.execute_reply": "2024-04-28T09:34:33.174039Z"
    },
    "papermill": {
     "duration": 0.040087,
     "end_time": "2024-04-28T09:34:33.178526",
     "exception": false,
     "start_time": "2024-04-28T09:34:33.138439",
     "status": "completed"
    },
    "tags": []
   },
   "outputs": [
    {
     "data": {
      "text/plain": [
       "(1, 920)"
      ]
     },
     "execution_count": 5,
     "metadata": {},
     "output_type": "execute_result"
    }
   ],
   "source": [
    "# Id column\n",
    "df['id'].min(), df['id'].max()"
   ]
  },
  {
   "cell_type": "code",
   "execution_count": 6,
   "id": "ae760435",
   "metadata": {
    "execution": {
     "iopub.execute_input": "2024-04-28T09:34:33.243731Z",
     "iopub.status.busy": "2024-04-28T09:34:33.243378Z",
     "iopub.status.idle": "2024-04-28T09:34:33.249796Z",
     "shell.execute_reply": "2024-04-28T09:34:33.248841Z"
    },
    "papermill": {
     "duration": 0.036956,
     "end_time": "2024-04-28T09:34:33.251932",
     "exception": false,
     "start_time": "2024-04-28T09:34:33.214976",
     "status": "completed"
    },
    "tags": []
   },
   "outputs": [
    {
     "data": {
      "text/plain": [
       "(28, 77)"
      ]
     },
     "execution_count": 6,
     "metadata": {},
     "output_type": "execute_result"
    }
   ],
   "source": [
    "# age column\n",
    "df['age'].min(), df['age'].max()"
   ]
  },
  {
   "cell_type": "markdown",
   "id": "ee95b6fa",
   "metadata": {
    "papermill": {
     "duration": 0.026836,
     "end_time": "2024-04-28T09:34:33.304409",
     "exception": false,
     "start_time": "2024-04-28T09:34:33.277573",
     "status": "completed"
    },
    "tags": []
   },
   "source": [
    "## Visualizations"
   ]
  },
  {
   "cell_type": "code",
   "execution_count": 7,
   "id": "1ef9ab71",
   "metadata": {
    "execution": {
     "iopub.execute_input": "2024-04-28T09:34:33.368036Z",
     "iopub.status.busy": "2024-04-28T09:34:33.367448Z",
     "iopub.status.idle": "2024-04-28T09:34:33.377952Z",
     "shell.execute_reply": "2024-04-28T09:34:33.377060Z"
    },
    "papermill": {
     "duration": 0.043267,
     "end_time": "2024-04-28T09:34:33.380183",
     "exception": false,
     "start_time": "2024-04-28T09:34:33.336916",
     "status": "completed"
    },
    "tags": []
   },
   "outputs": [
    {
     "data": {
      "text/plain": [
       "count    920.000000\n",
       "mean      53.510870\n",
       "std        9.424685\n",
       "min       28.000000\n",
       "25%       47.000000\n",
       "50%       54.000000\n",
       "75%       60.000000\n",
       "max       77.000000\n",
       "Name: age, dtype: float64"
      ]
     },
     "execution_count": 7,
     "metadata": {},
     "output_type": "execute_result"
    }
   ],
   "source": [
    "# lets summerize the age column\n",
    "df['age'].describe()"
   ]
  },
  {
   "cell_type": "markdown",
   "id": "9c692b4b",
   "metadata": {
    "papermill": {
     "duration": 0.026581,
     "end_time": "2024-04-28T09:34:33.439326",
     "exception": false,
     "start_time": "2024-04-28T09:34:33.412745",
     "status": "completed"
    },
    "tags": []
   },
   "source": [
    "NO missing values in the column so we are good to go..."
   ]
  },
  {
   "cell_type": "code",
   "execution_count": 8,
   "id": "f78244b7",
   "metadata": {
    "execution": {
     "iopub.execute_input": "2024-04-28T09:34:33.495757Z",
     "iopub.status.busy": "2024-04-28T09:34:33.495344Z",
     "iopub.status.idle": "2024-04-28T09:34:33.969496Z",
     "shell.execute_reply": "2024-04-28T09:34:33.968602Z"
    },
    "papermill": {
     "duration": 0.50646,
     "end_time": "2024-04-28T09:34:33.971890",
     "exception": false,
     "start_time": "2024-04-28T09:34:33.465430",
     "status": "completed"
    },
    "tags": []
   },
   "outputs": [
    {
     "data": {
      "text/plain": [
       "<Axes: xlabel='age', ylabel='Count'>"
      ]
     },
     "execution_count": 8,
     "metadata": {},
     "output_type": "execute_result"
    },
    {
     "data": {
      "image/png": "[encoded data removed]",
      "text/plain": [
       "<Figure size 800x550 with 1 Axes>"
      ]
     },
     "metadata": {},
     "output_type": "display_data"
    }
   ],
   "source": [
    "import seaborn as sns\n",
    "\n",
    "# Define custom colors\n",
    "custom_colors = [\"#FF5733\", \"#3366FF\", \"#33FF57\"]  # Example colors, you can adjust as needed\n",
    "\n",
    "# Plot the histogram with custom colors\n",
    "sns.histplot(df['age'], kde=True, color=\"#FF5733\", palette=custom_colors)\n"
   ]
  },
  {
   "cell_type": "markdown",
   "id": "1961434a",
   "metadata": {
    "papermill": {
     "duration": 0.025566,
     "end_time": "2024-04-28T09:34:34.024319",
     "exception": false,
     "start_time": "2024-04-28T09:34:33.998753",
     "status": "completed"
    },
    "tags": []
   },
   "source": [
    "The age column distribution seems to be normaly distributed because we can clearly see the bill curve."
   ]
  },
  {
   "cell_type": "code",
   "execution_count": 9,
   "id": "ad69ae85",
   "metadata": {
    "execution": {
     "iopub.execute_input": "2024-04-28T09:34:34.076621Z",
     "iopub.status.busy": "2024-04-28T09:34:34.075867Z",
     "iopub.status.idle": "2024-04-28T09:34:34.482101Z",
     "shell.execute_reply": "2024-04-28T09:34:34.481309Z"
    },
    "papermill": {
     "duration": 0.435068,
     "end_time": "2024-04-28T09:34:34.484486",
     "exception": false,
     "start_time": "2024-04-28T09:34:34.049418",
     "status": "completed"
    },
    "tags": []
   },
   "outputs": [
    {
     "name": "stdout",
     "output_type": "stream",
     "text": [
      "Mean 53.51086956521739\n",
      "Median 54.0\n",
      "Mode 0    54\n",
      "Name: age, dtype: int64\n"
     ]
    },
    {
     "data": {
      "image/png": "[encoded data removed]",
      "text/plain": [
       "<Figure size 800x550 with 1 Axes>"
      ]
     },
     "metadata": {},
     "output_type": "display_data"
    }
   ],
   "source": [
    "# Plot the mean, Median and mode of age column using sns\n",
    "sns.histplot(df['age'], kde=True)\n",
    "plt.axvline(df['age'].mean(), color='Red')\n",
    "plt.axvline(df['age'].median(), color= 'Green')\n",
    "plt.axvline(df['age'].mode()[0], color='Blue')\n",
    "\n",
    "# print the value of mean, median and mode of age column\n",
    "print('Mean', df['age'].mean())\n",
    "print('Median', df['age'].median())\n",
    "print('Mode', df['age'].mode())\n"
   ]
  },
  {
   "cell_type": "markdown",
   "id": "37c1af4c",
   "metadata": {
    "papermill": {
     "duration": 0.026136,
     "end_time": "2024-04-28T09:34:34.537960",
     "exception": false,
     "start_time": "2024-04-28T09:34:34.511824",
     "status": "completed"
    },
    "tags": []
   },
   "source": [
    "Lets explore the gender base distribution of the dataset for age column"
   ]
  },
  {
   "cell_type": "code",
   "execution_count": 10,
   "id": "dbaf001e",
   "metadata": {
    "execution": {
     "iopub.execute_input": "2024-04-28T09:34:34.591606Z",
     "iopub.status.busy": "2024-04-28T09:34:34.591296Z",
     "iopub.status.idle": "2024-04-28T09:34:36.137927Z",
     "shell.execute_reply": "2024-04-28T09:34:36.137040Z"
    },
    "papermill": {
     "duration": 1.575938,
     "end_time": "2024-04-28T09:34:36.139973",
     "exception": false,
     "start_time": "2024-04-28T09:34:34.564035",
     "status": "completed"
    },
    "tags": []
   },
   "outputs": [
    {
     "data": {
      "text/html": [
       "        <script type=\"text/javascript\">\n",
       "        window.PlotlyConfig = {MathJaxConfig: 'local'};\n",
       "        if (window.MathJax && window.MathJax.Hub && window.MathJax.Hub.Config) {window.MathJax.Hub.Config({SVG: {font: \"STIX-Web\"}});}\n",
       "        if (typeof require !== 'undefined') {\n",
       "        require.undef(\"plotly\");\n",
       "        requirejs.config({\n",
       "            paths: {\n",
       "                'plotly': ['https://cdn.plot.ly/plotly-2.27.0.min']\n",
       "            }\n",
       "        });\n",
       "        require(['plotly'], function(Plotly) {\n",
       "            window._Plotly = Plotly;\n",
       "        });\n",
       "        }\n",
       "        </script>\n",
       "        "
      ]
     },
     "metadata": {},
     "output_type": "display_data"
    },
    {
     "data": {
      "text/html": [
       "<div>                            <div id=\"2d97ee18-4eda-49da-9159-67df17c9beae\" class=\"plotly-graph-div\" style=\"height:525px; width:100%;\"></div>            <script type=\"text/javascript\">                require([\"plotly\"], function(Plotly) {                    window.PLOTLYENV=window.PLOTLYENV || {};                                    if (document.getElementById(\"2d97ee18-4eda-49da-9159-67df17c9beae\")) {                    Plotly.newPlot(                        \"2d97ee18-4eda-49da-9159-67df17c9beae\",                        [{\"alignmentgroup\":\"True\",\"bingroup\":\"x\",\"hovertemplate\":\"sex=Male\\u003cbr\\u003eage=%{x}\\u003cbr\\u003ecount=%{y}\\u003cextra\\u003e\\u003c\\u002fextra\\u003e\",\"legendgroup\":\"Male\",\"marker\":{\"color\":\"#636efa\",\"pattern\":{\"shape\":\"\"}},\"name\":\"Male\",\"offsetgroup\":\"Male\",\"orientation\":\"v\",\"showlegend\":true,\"x\":[63,67,67,37,56,63,53,57,56,44,52,57,48,54,49,64,58,58,60,43,40,60,64,59,44,42,43,57,55,61,40,59,58,51,50,53,65,44,44,60,54,50,41,54,51,58,54,60,60,54,59,46,67,62,65,44,60,48,58,45,39,68,52,44,47,66,62,52,59,52,48,45,34,49,54,59,57,61,39,56,52,41,58,63,65,48,51,55,65,54,44,54,51,29,51,70,62,35,51,59,59,52,64,58,47,57,41,45,52,55,64,70,51,58,60,68,46,77,48,57,52,35,70,53,64,57,52,56,43,53,48,42,59,42,66,54,69,50,51,43,67,69,59,57,43,45,58,50,55,38,41,52,56,59,53,47,54,66,49,54,56,46,42,41,61,67,58,47,52,62,57,58,64,43,70,57,44,61,42,52,59,40,42,61,66,46,59,64,57,57,47,35,61,58,58,56,56,67,44,63,41,59,45,68,57,38,28,29,29,32,32,33,34,34,35,35,36,36,36,36,37,37,37,37,38,38,39,39,39,39,39,39,39,39,39,40,40,40,40,40,41,41,41,41,42,42,42,42,42,42,43,44,44,44,45,45,45,45,46,46,46,46,46,46,47,47,47,48,48,48,48,49,49,49,49,50,50,50,50,50,51,51,51,52,52,52,52,53,53,53,53,53,53,54,54,54,54,54,54,54,54,54,55,55,55,55,55,55,55,56,56,56,56,57,58,58,58,58,59,59,59,59,60,61,62,31,34,35,36,37,38,38,38,40,41,41,43,46,46,46,47,47,48,48,48,49,49,50,52,54,54,55,57,58,60,63,65,32,38,39,43,45,46,46,48,48,48,48,50,52,52,53,54,54,54,54,54,55,56,57,58,58,41,43,44,44,46,49,49,51,52,52,52,52,53,53,54,55,55,55,56,56,58,59,59,65,66,41,43,44,47,49,49,50,50,52,52,56,65,32,34,35,36,38,38,38,38,40,41,42,42,43,43,43,45,46,46,47,47,47,47,48,50,50,50,51,51,51,51,51,51,52,52,52,52,53,53,53,53,53,53,53,53,54,54,54,55,55,55,55,56,56,56,56,56,56,56,56,57,57,57,57,57,57,58,58,58,59,59,59,59,59,60,60,60,60,60,60,61,61,61,61,61,61,61,61,61,62,62,62,62,62,63,63,63,63,63,64,65,65,65,65,66,67,68,68,69,69,70,70,72,74,63,44,60,55,66,66,65,60,60,60,56,59,62,63,57,62,63,46,63,60,58,64,63,74,52,69,51,60,56,55,54,77,63,55,52,64,60,60,58,59,61,40,61,41,57,63,59,51,59,42,55,62,56,53,68,53,60,62,59,51,61,57,56,58,69,67,58,65,63,55,57,65,54,72,75,49,51,60,58,61,67,62,65,63,69,51,62,55,75,40,67,58,60,63,35,62,43,63,68,65,48,63,64,61,50,59,55,45,65,61,49,72,50,64,55,63,59,56,62,74,54,57,62,76,70,48,48,61,66,68,55,62,71,74,53,58,75,56,58,64,54,54,59,55,57,61,41,71,38,55,56,69,64,72,69,56,62,67,57,69,51,48,69,69,64,57,53,37,67,74,63,58,61,64,58,60,57,55,55,56,57,61,61,58,74,68,62,53,62,46,62,55,58,62],\"xaxis\":\"x\",\"yaxis\":\"y\",\"type\":\"histogram\"},{\"alignmentgroup\":\"True\",\"bingroup\":\"x\",\"hovertemplate\":\"sex=Female\\u003cbr\\u003eage=%{x}\\u003cbr\\u003ecount=%{y}\\u003cextra\\u003e\\u003c\\u002fextra\\u003e\",\"legendgroup\":\"Female\",\"marker\":{\"color\":\"#EF553B\",\"pattern\":{\"shape\":\"\"}},\"name\":\"Female\",\"offsetgroup\":\"Female\",\"orientation\":\"v\",\"showlegend\":true,\"x\":[41,62,57,56,48,58,50,58,66,69,65,71,61,65,41,51,46,54,65,65,51,53,53,53,51,62,44,63,60,57,71,61,43,62,35,63,45,56,62,43,55,60,42,67,54,58,54,45,59,62,56,60,63,62,68,45,50,50,64,64,62,37,66,46,46,64,41,54,39,63,34,67,52,55,74,54,49,41,49,60,51,42,67,76,44,58,60,71,66,39,58,55,58,55,63,57,57,30,31,32,34,35,35,37,37,37,38,39,41,41,41,42,43,43,43,43,43,43,43,44,45,45,45,46,47,47,48,48,48,48,48,48,48,49,49,49,49,50,50,51,51,51,51,52,52,52,52,53,53,53,54,54,54,54,54,54,54,55,55,55,56,57,57,59,61,62,33,49,50,51,59,40,47,48,56,47,54,58,38,38,50,51,62,62,64,64,66,73,63,64,54,61,51,54],\"xaxis\":\"x\",\"yaxis\":\"y\",\"type\":\"histogram\"}],                        {\"template\":{\"data\":{\"histogram2dcontour\":[{\"type\":\"histogram2dcontour\",\"colorbar\":{\"outlinewidth\":0,\"ticks\":\"\"},\"colorscale\":[[0.0,\"#0d0887\"],[0.1111111111111111,\"#46039f\"],[0.2222222222222222,\"#7201a8\"],[0.3333333333333333,\"#9c179e\"],[0.4444444444444444,\"#bd3786\"],[0.5555555555555556,\"#d8576b\"],[0.6666666666666666,\"#ed7953\"],[0.7777777777777778,\"#fb9f3a\"],[0.8888888888888888,\"#fdca26\"],[1.0,\"#f0f921\"]]}],\"choropleth\":[{\"type\":\"choropleth\",\"colorbar\":{\"outlinewidth\":0,\"ticks\":\"\"}}],\"histogram2d\":[{\"type\":\"histogram2d\",\"colorbar\":{\"outlinewidth\":0,\"ticks\":\"\"},\"colorscale\":[[0.0,\"#0d0887\"],[0.1111111111111111,\"#46039f\"],[0.2222222222222222,\"#7201a8\"],[0.3333333333333333,\"#9c179e\"],[0.4444444444444444,\"#bd3786\"],[0.5555555555555556,\"#d8576b\"],[0.6666666666666666,\"#ed7953\"],[0.7777777777777778,\"#fb9f3a\"],[0.8888888888888888,\"#fdca26\"],[1.0,\"#f0f921\"]]}],\"heatmap\":[{\"type\":\"heatmap\",\"colorbar\":{\"outlinewidth\":0,\"ticks\":\"\"},\"colorscale\":[[0.0,\"#0d0887\"],[0.1111111111111111,\"#46039f\"],[0.2222222222222222,\"#7201a8\"],[0.3333333333333333,\"#9c179e\"],[0.4444444444444444,\"#bd3786\"],[0.5555555555555556,\"#d8576b\"],[0.6666666666666666,\"#ed7953\"],[0.7777777777777778,\"#fb9f3a\"],[0.8888888888888888,\"#fdca26\"],[1.0,\"#f0f921\"]]}],\"heatmapgl\":[{\"type\":\"heatmapgl\",\"colorbar\":{\"outlinewidth\":0,\"ticks\":\"\"},\"colorscale\":[[0.0,\"#0d0887\"],[0.1111111111111111,\"#46039f\"],[0.2222222222222222,\"#7201a8\"],[0.3333333333333333,\"#9c179e\"],[0.4444444444444444,\"#bd3786\"],[0.5555555555555556,\"#d8576b\"],[0.6666666666666666,\"#ed7953\"],[0.7777777777777778,\"#fb9f3a\"],[0.8888888888888888,\"#fdca26\"],[1.0,\"#f0f921\"]]}],\"contourcarpet\":[{\"type\":\"contourcarpet\",\"colorbar\":{\"outlinewidth\":0,\"ticks\":\"\"}}],\"contour\":[{\"type\":\"contour\",\"colorbar\":{\"outlinewidth\":0,\"ticks\":\"\"},\"colorscale\":[[0.0,\"#0d0887\"],[0.1111111111111111,\"#46039f\"],[0.2222222222222222,\"#7201a8\"],[0.3333333333333333,\"#9c179e\"],[0.4444444444444444,\"#bd3786\"],[0.5555555555555556,\"#d8576b\"],[0.6666666666666666,\"#ed7953\"],[0.7777777777777778,\"#fb9f3a\"],[0.8888888888888888,\"#fdca26\"],[1.0,\"#f0f921\"]]}],\"surface\":[{\"type\":\"surface\",\"colorbar\":{\"outlinewidth\":0,\"ticks\":\"\"},\"colorscale\":[[0.0,\"#0d0887\"],[0.1111111111111111,\"#46039f\"],[0.2222222222222222,\"#7201a8\"],[0.3333333333333333,\"#9c179e\"],[0.4444444444444444,\"#bd3786\"],[0.5555555555555556,\"#d8576b\"],[0.6666666666666666,\"#ed7953\"],[0.7777777777777778,\"#fb9f3a\"],[0.8888888888888888,\"#fdca26\"],[1.0,\"#f0f921\"]]}],\"mesh3d\":[{\"type\":\"mesh3d\",\"colorbar\":{\"outlinewidth\":0,\"ticks\":\"\"}}],\"scatter\":[{\"fillpattern\":{\"fillmode\":\"overlay\",\"size\":10,\"solidity\":0.2},\"type\":\"scatter\"}],\"parcoords\":[{\"type\":\"parcoords\",\"line\":{\"colorbar\":{\"outlinewidth\":0,\"ticks\":\"\"}}}],\"scatterpolargl\":[{\"type\":\"scatterpolargl\",\"marker\":{\"colorbar\":{\"outlinewidth\":0,\"ticks\":\"\"}}}],\"bar\":[{\"error_x\":{\"color\":\"#2a3f5f\"},\"error_y\":{\"color\":\"#2a3f5f\"},\"marker\":{\"line\":{\"color\":\"#E5ECF6\",\"width\":0.5},\"pattern\":{\"fillmode\":\"overlay\",\"size\":10,\"solidity\":0.2}},\"type\":\"bar\"}],\"scattergeo\":[{\"type\":\"scattergeo\",\"marker\":{\"colorbar\":{\"outlinewidth\":0,\"ticks\":\"\"}}}],\"scatterpolar\":[{\"type\":\"scatterpolar\",\"marker\":{\"colorbar\":{\"outlinewidth\":0,\"ticks\":\"\"}}}],\"histogram\":[{\"marker\":{\"pattern\":{\"fillmode\":\"overlay\",\"size\":10,\"solidity\":0.2}},\"type\":\"histogram\"}],\"scattergl\":[{\"type\":\"scattergl\",\"marker\":{\"colorbar\":{\"outlinewidth\":0,\"ticks\":\"\"}}}],\"scatter3d\":[{\"type\":\"scatter3d\",\"line\":{\"colorbar\":{\"outlinewidth\":0,\"ticks\":\"\"}},\"marker\":{\"colorbar\":{\"outlinewidth\":0,\"ticks\":\"\"}}}],\"scattermapbox\":[{\"type\":\"scattermapbox\",\"marker\":{\"colorbar\":{\"outlinewidth\":0,\"ticks\":\"\"}}}],\"scatterternary\":[{\"type\":\"scatterternary\",\"marker\":{\"colorbar\":{\"outlinewidth\":0,\"ticks\":\"\"}}}],\"scattercarpet\":[{\"type\":\"scattercarpet\",\"marker\":{\"colorbar\":{\"outlinewidth\":0,\"ticks\":\"\"}}}],\"carpet\":[{\"aaxis\":{\"endlinecolor\":\"#2a3f5f\",\"gridcolor\":\"white\",\"linecolor\":\"white\",\"minorgridcolor\":\"white\",\"startlinecolor\":\"#2a3f5f\"},\"baxis\":{\"endlinecolor\":\"#2a3f5f\",\"gridcolor\":\"white\",\"linecolor\":\"white\",\"minorgridcolor\":\"white\",\"startlinecolor\":\"#2a3f5f\"},\"type\":\"carpet\"}],\"table\":[{\"cells\":{\"fill\":{\"color\":\"#EBF0F8\"},\"line\":{\"color\":\"white\"}},\"header\":{\"fill\":{\"color\":\"#C8D4E3\"},\"line\":{\"color\":\"white\"}},\"type\":\"table\"}],\"barpolar\":[{\"marker\":{\"line\":{\"color\":\"#E5ECF6\",\"width\":0.5},\"pattern\":{\"fillmode\":\"overlay\",\"size\":10,\"solidity\":0.2}},\"type\":\"barpolar\"}],\"pie\":[{\"automargin\":true,\"type\":\"pie\"}]},\"layout\":{\"autotypenumbers\":\"strict\",\"colorway\":[\"#636efa\",\"#EF553B\",\"#00cc96\",\"#ab63fa\",\"#FFA15A\",\"#19d3f3\",\"#FF6692\",\"#B6E880\",\"#FF97FF\",\"#FECB52\"],\"font\":{\"color\":\"#2a3f5f\"},\"hovermode\":\"closest\",\"hoverlabel\":{\"align\":\"left\"},\"paper_bgcolor\":\"white\",\"plot_bgcolor\":\"#E5ECF6\",\"polar\":{\"bgcolor\":\"#E5ECF6\",\"angularaxis\":{\"gridcolor\":\"white\",\"linecolor\":\"white\",\"ticks\":\"\"},\"radialaxis\":{\"gridcolor\":\"white\",\"linecolor\":\"white\",\"ticks\":\"\"}},\"ternary\":{\"bgcolor\":\"#E5ECF6\",\"aaxis\":{\"gridcolor\":\"white\",\"linecolor\":\"white\",\"ticks\":\"\"},\"baxis\":{\"gridcolor\":\"white\",\"linecolor\":\"white\",\"ticks\":\"\"},\"caxis\":{\"gridcolor\":\"white\",\"linecolor\":\"white\",\"ticks\":\"\"}},\"coloraxis\":{\"colorbar\":{\"outlinewidth\":0,\"ticks\":\"\"}},\"colorscale\":{\"sequential\":[[0.0,\"#0d0887\"],[0.1111111111111111,\"#46039f\"],[0.2222222222222222,\"#7201a8\"],[0.3333333333333333,\"#9c179e\"],[0.4444444444444444,\"#bd3786\"],[0.5555555555555556,\"#d8576b\"],[0.6666666666666666,\"#ed7953\"],[0.7777777777777778,\"#fb9f3a\"],[0.8888888888888888,\"#fdca26\"],[1.0,\"#f0f921\"]],\"sequentialminus\":[[0.0,\"#0d0887\"],[0.1111111111111111,\"#46039f\"],[0.2222222222222222,\"#7201a8\"],[0.3333333333333333,\"#9c179e\"],[0.4444444444444444,\"#bd3786\"],[0.5555555555555556,\"#d8576b\"],[0.6666666666666666,\"#ed7953\"],[0.7777777777777778,\"#fb9f3a\"],[0.8888888888888888,\"#fdca26\"],[1.0,\"#f0f921\"]],\"diverging\":[[0,\"#8e0152\"],[0.1,\"#c51b7d\"],[0.2,\"#de77ae\"],[0.3,\"#f1b6da\"],[0.4,\"#fde0ef\"],[0.5,\"#f7f7f7\"],[0.6,\"#e6f5d0\"],[0.7,\"#b8e186\"],[0.8,\"#7fbc41\"],[0.9,\"#4d9221\"],[1,\"#276419\"]]},\"xaxis\":{\"gridcolor\":\"white\",\"linecolor\":\"white\",\"ticks\":\"\",\"title\":{\"standoff\":15},\"zerolinecolor\":\"white\",\"automargin\":true,\"zerolinewidth\":2},\"yaxis\":{\"gridcolor\":\"white\",\"linecolor\":\"white\",\"ticks\":\"\",\"title\":{\"standoff\":15},\"zerolinecolor\":\"white\",\"automargin\":true,\"zerolinewidth\":2},\"scene\":{\"xaxis\":{\"backgroundcolor\":\"#E5ECF6\",\"gridcolor\":\"white\",\"linecolor\":\"white\",\"showbackground\":true,\"ticks\":\"\",\"zerolinecolor\":\"white\",\"gridwidth\":2},\"yaxis\":{\"backgroundcolor\":\"#E5ECF6\",\"gridcolor\":\"white\",\"linecolor\":\"white\",\"showbackground\":true,\"ticks\":\"\",\"zerolinecolor\":\"white\",\"gridwidth\":2},\"zaxis\":{\"backgroundcolor\":\"#E5ECF6\",\"gridcolor\":\"white\",\"linecolor\":\"white\",\"showbackground\":true,\"ticks\":\"\",\"zerolinecolor\":\"white\",\"gridwidth\":2}},\"shapedefaults\":{\"line\":{\"color\":\"#2a3f5f\"}},\"annotationdefaults\":{\"arrowcolor\":\"#2a3f5f\",\"arrowhead\":0,\"arrowwidth\":1},\"geo\":{\"bgcolor\":\"white\",\"landcolor\":\"#E5ECF6\",\"subunitcolor\":\"white\",\"showland\":true,\"showlakes\":true,\"lakecolor\":\"white\"},\"title\":{\"x\":0.05},\"mapbox\":{\"style\":\"light\"}}},\"xaxis\":{\"anchor\":\"y\",\"domain\":[0.0,1.0],\"title\":{\"text\":\"age\"}},\"yaxis\":{\"anchor\":\"x\",\"domain\":[0.0,1.0],\"title\":{\"text\":\"count\"}},\"legend\":{\"title\":{\"text\":\"sex\"},\"tracegroupgap\":0},\"margin\":{\"t\":60},\"barmode\":\"relative\"},                        {\"responsive\": true}                    ).then(function(){\n",
       "                            \n",
       "var gd = document.getElementById('2d97ee18-4eda-49da-9159-67df17c9beae');\n",
       "var x = new MutationObserver(function (mutations, observer) {{\n",
       "        var display = window.getComputedStyle(gd).display;\n",
       "        if (!display || display === 'none') {{\n",
       "            console.log([gd, 'removed!']);\n",
       "            Plotly.purge(gd);\n",
       "            observer.disconnect();\n",
       "        }}\n",
       "}});\n",
       "\n",
       "// Listen for the removal of the full notebook cells\n",
       "var notebookContainer = gd.closest('#notebook-container');\n",
       "if (notebookContainer) {{\n",
       "    x.observe(notebookContainer, {childList: true});\n",
       "}}\n",
       "\n",
       "// Listen for the clearing of the current output cell\n",
       "var outputEl = gd.closest('.output');\n",
       "if (outputEl) {{\n",
       "    x.observe(outputEl, {childList: true});\n",
       "}}\n",
       "\n",
       "                        })                };                });            </script>        </div>"
      ]
     },
     "metadata": {},
     "output_type": "display_data"
    }
   ],
   "source": [
    "# plot the histogram of age column using plotly and coloring this by sex\n",
    "\n",
    "fig = px.histogram(data_frame=df, x='age', color= 'sex')\n",
    "fig.show()"
   ]
  },
  {
   "cell_type": "code",
   "execution_count": 11,
   "id": "6ae6b981",
   "metadata": {
    "execution": {
     "iopub.execute_input": "2024-04-28T09:34:36.196686Z",
     "iopub.status.busy": "2024-04-28T09:34:36.196360Z",
     "iopub.status.idle": "2024-04-28T09:34:36.204297Z",
     "shell.execute_reply": "2024-04-28T09:34:36.203309Z"
    },
    "papermill": {
     "duration": 0.03811,
     "end_time": "2024-04-28T09:34:36.206276",
     "exception": false,
     "start_time": "2024-04-28T09:34:36.168166",
     "status": "completed"
    },
    "tags": []
   },
   "outputs": [
    {
     "data": {
      "text/plain": [
       "sex\n",
       "Male      726\n",
       "Female    194\n",
       "Name: count, dtype: int64"
      ]
     },
     "execution_count": 11,
     "metadata": {},
     "output_type": "execute_result"
    }
   ],
   "source": [
    "# Find the values of sex column\n",
    "df['sex'].value_counts()"
   ]
  },
  {
   "cell_type": "code",
   "execution_count": 12,
   "id": "c9fd8f69",
   "metadata": {
    "execution": {
     "iopub.execute_input": "2024-04-28T09:34:36.266339Z",
     "iopub.status.busy": "2024-04-28T09:34:36.265812Z",
     "iopub.status.idle": "2024-04-28T09:34:36.272003Z",
     "shell.execute_reply": "2024-04-28T09:34:36.271113Z"
    },
    "papermill": {
     "duration": 0.038316,
     "end_time": "2024-04-28T09:34:36.274163",
     "exception": false,
     "start_time": "2024-04-28T09:34:36.235847",
     "status": "completed"
    },
    "tags": []
   },
   "outputs": [
    {
     "name": "stdout",
     "output_type": "stream",
     "text": [
      "Male percentage i the data: 78.91%\n",
      "Female percentage in the data : 21.09%\n",
      "Males are 274.23% more than female in the data.\n"
     ]
    }
   ],
   "source": [
    "# calculating the percentage fo male and female value counts in the data\n",
    "\n",
    "male_count = 726\n",
    "female_count = 194\n",
    "\n",
    "total_count = male_count + female_count\n",
    "\n",
    "# calculate percentages\n",
    "male_percentage = (male_count/total_count)*100\n",
    "female_percentages = (female_count/total_count)*100\n",
    "\n",
    "# display the results\n",
    "print(f'Male percentage i the data: {male_percentage:.2f}%')\n",
    "print(f'Female percentage in the data : {female_percentages:.2f}%')\n",
    "\n",
    "# Difference\n",
    "difference_percentage = ((male_count - female_count)/female_count) * 100\n",
    "print(f'Males are {difference_percentage:.2f}% more than female in the data.')\n"
   ]
  },
  {
   "cell_type": "code",
   "execution_count": 13,
   "id": "bc92a02a",
   "metadata": {
    "execution": {
     "iopub.execute_input": "2024-04-28T09:34:36.333740Z",
     "iopub.status.busy": "2024-04-28T09:34:36.333427Z",
     "iopub.status.idle": "2024-04-28T09:34:36.338891Z",
     "shell.execute_reply": "2024-04-28T09:34:36.337966Z"
    },
    "papermill": {
     "duration": 0.038282,
     "end_time": "2024-04-28T09:34:36.340970",
     "exception": false,
     "start_time": "2024-04-28T09:34:36.302688",
     "status": "completed"
    },
    "tags": []
   },
   "outputs": [
    {
     "data": {
      "text/plain": [
       "3.7422680412371134"
      ]
     },
     "execution_count": 13,
     "metadata": {},
     "output_type": "execute_result"
    }
   ],
   "source": [
    "726/194"
   ]
  },
  {
   "cell_type": "code",
   "execution_count": 14,
   "id": "66b8f450",
   "metadata": {
    "execution": {
     "iopub.execute_input": "2024-04-28T09:34:36.399018Z",
     "iopub.status.busy": "2024-04-28T09:34:36.398321Z",
     "iopub.status.idle": "2024-04-28T09:34:36.412214Z",
     "shell.execute_reply": "2024-04-28T09:34:36.411393Z"
    },
    "papermill": {
     "duration": 0.044424,
     "end_time": "2024-04-28T09:34:36.414224",
     "exception": false,
     "start_time": "2024-04-28T09:34:36.369800",
     "status": "completed"
    },
    "tags": []
   },
   "outputs": [
    {
     "data": {
      "text/plain": [
       "sex     age\n",
       "Female  54     15\n",
       "        51     11\n",
       "        62     10\n",
       "        43      9\n",
       "        48      9\n",
       "               ..\n",
       "Male    77      2\n",
       "        28      1\n",
       "        31      1\n",
       "        33      1\n",
       "        76      1\n",
       "Name: count, Length: 91, dtype: int64"
      ]
     },
     "execution_count": 14,
     "metadata": {},
     "output_type": "execute_result"
    }
   ],
   "source": [
    "# Find the values count of age column grouping by sex column\n",
    "df.groupby('sex')['age'].value_counts()"
   ]
  },
  {
   "cell_type": "markdown",
   "id": "a1bddc5f",
   "metadata": {
    "papermill": {
     "duration": 0.031639,
     "end_time": "2024-04-28T09:34:36.475367",
     "exception": false,
     "start_time": "2024-04-28T09:34:36.443728",
     "status": "completed"
    },
    "tags": []
   },
   "source": [
    "#### Exploring the dataset column"
   ]
  },
  {
   "cell_type": "code",
   "execution_count": 15,
   "id": "bd32cdac",
   "metadata": {
    "execution": {
     "iopub.execute_input": "2024-04-28T09:34:36.536130Z",
     "iopub.status.busy": "2024-04-28T09:34:36.535175Z",
     "iopub.status.idle": "2024-04-28T09:34:36.544043Z",
     "shell.execute_reply": "2024-04-28T09:34:36.542852Z"
    },
    "papermill": {
     "duration": 0.040243,
     "end_time": "2024-04-28T09:34:36.546306",
     "exception": false,
     "start_time": "2024-04-28T09:34:36.506063",
     "status": "completed"
    },
    "tags": []
   },
   "outputs": [
    {
     "data": {
      "text/plain": [
       "dataset\n",
       "Cleveland        304\n",
       "Hungary          293\n",
       "VA Long Beach    200\n",
       "Switzerland      123\n",
       "Name: count, dtype: int64"
      ]
     },
     "execution_count": 15,
     "metadata": {},
     "output_type": "execute_result"
    }
   ],
   "source": [
    "# find the unique values in the dataset column\n",
    "df['dataset'].value_counts()"
   ]
  },
  {
   "cell_type": "code",
   "execution_count": 16,
   "id": "b165e1f2",
   "metadata": {
    "execution": {
     "iopub.execute_input": "2024-04-28T09:34:36.602135Z",
     "iopub.status.busy": "2024-04-28T09:34:36.601870Z",
     "iopub.status.idle": "2024-04-28T09:34:36.699421Z",
     "shell.execute_reply": "2024-04-28T09:34:36.698244Z"
    },
    "papermill": {
     "duration": 0.127888,
     "end_time": "2024-04-28T09:34:36.701547",
     "exception": false,
     "start_time": "2024-04-28T09:34:36.573659",
     "status": "completed"
    },
    "tags": []
   },
   "outputs": [
    {
     "data": {
      "text/html": [
       "<div>                            <div id=\"949b82b0-ff71-443d-b29e-00fbf3b632f5\" class=\"plotly-graph-div\" style=\"height:525px; width:100%;\"></div>            <script type=\"text/javascript\">                require([\"plotly\"], function(Plotly) {                    window.PLOTLYENV=window.PLOTLYENV || {};                                    if (document.getElementById(\"949b82b0-ff71-443d-b29e-00fbf3b632f5\")) {                    Plotly.newPlot(                        \"949b82b0-ff71-443d-b29e-00fbf3b632f5\",                        [{\"alignmentgroup\":\"True\",\"hovertemplate\":\"sex=Male\\u003cbr\\u003edataset=%{x}\\u003cbr\\u003ecount=%{y}\\u003cextra\\u003e\\u003c\\u002fextra\\u003e\",\"legendgroup\":\"Male\",\"marker\":{\"color\":\"#636efa\",\"pattern\":{\"shape\":\"\"}},\"name\":\"Male\",\"offsetgroup\":\"Male\",\"orientation\":\"v\",\"showlegend\":true,\"textposition\":\"auto\",\"x\":[\"Cleveland\",\"Cleveland\",\"Cleveland\",\"Cleveland\",\"Cleveland\",\"Cleveland\",\"Cleveland\",\"Cleveland\",\"Cleveland\",\"Cleveland\",\"Cleveland\",\"Cleveland\",\"Cleveland\",\"Cleveland\",\"Cleveland\",\"Cleveland\",\"Cleveland\",\"Cleveland\",\"Cleveland\",\"Cleveland\",\"Cleveland\",\"Cleveland\",\"Cleveland\",\"Cleveland\",\"Cleveland\",\"Cleveland\",\"Cleveland\",\"Cleveland\",\"Cleveland\",\"Cleveland\",\"Cleveland\",\"Cleveland\",\"Cleveland\",\"Cleveland\",\"Cleveland\",\"Cleveland\",\"Cleveland\",\"Cleveland\",\"Cleveland\",\"Cleveland\",\"Cleveland\",\"Cleveland\",\"Cleveland\",\"Cleveland\",\"Cleveland\",\"Cleveland\",\"Cleveland\",\"Cleveland\",\"Cleveland\",\"Cleveland\",\"Cleveland\",\"Cleveland\",\"Cleveland\",\"Cleveland\",\"Cleveland\",\"Cleveland\",\"Cleveland\",\"Cleveland\",\"Cleveland\",\"Cleveland\",\"Cleveland\",\"Cleveland\",\"Cleveland\",\"Cleveland\",\"Cleveland\",\"Cleveland\",\"Cleveland\",\"Cleveland\",\"Cleveland\",\"Cleveland\",\"Cleveland\",\"Cleveland\",\"Cleveland\",\"Cleveland\",\"Cleveland\",\"Cleveland\",\"Cleveland\",\"Cleveland\",\"Cleveland\",\"Cleveland\",\"Cleveland\",\"Cleveland\",\"Cleveland\",\"Cleveland\",\"Cleveland\",\"Cleveland\",\"Cleveland\",\"Cleveland\",\"Cleveland\",\"Cleveland\",\"Cleveland\",\"Cleveland\",\"Cleveland\",\"Cleveland\",\"Cleveland\",\"Cleveland\",\"Cleveland\",\"Cleveland\",\"Cleveland\",\"Cleveland\",\"Cleveland\",\"Cleveland\",\"Cleveland\",\"Cleveland\",\"Cleveland\",\"Cleveland\",\"Cleveland\",\"Cleveland\",\"Cleveland\",\"Cleveland\",\"Cleveland\",\"Cleveland\",\"Cleveland\",\"Cleveland\",\"Cleveland\",\"Cleveland\",\"Cleveland\",\"Cleveland\",\"Cleveland\",\"Cleveland\",\"Cleveland\",\"Cleveland\",\"Cleveland\",\"Cleveland\",\"Cleveland\",\"Cleveland\",\"Cleveland\",\"Cleveland\",\"Cleveland\",\"Cleveland\",\"Cleveland\",\"Cleveland\",\"Cleveland\",\"Cleveland\",\"Cleveland\",\"Cleveland\",\"Cleveland\",\"Cleveland\",\"Cleveland\",\"Cleveland\",\"Cleveland\",\"Cleveland\",\"Cleveland\",\"Cleveland\",\"Cleveland\",\"Cleveland\",\"Cleveland\",\"Cleveland\",\"Cleveland\",\"Cleveland\",\"Cleveland\",\"Cleveland\",\"Cleveland\",\"Cleveland\",\"Cleveland\",\"Cleveland\",\"Cleveland\",\"Cleveland\",\"Cleveland\",\"Cleveland\",\"Cleveland\",\"Cleveland\",\"Cleveland\",\"Cleveland\",\"Cleveland\",\"Cleveland\",\"Cleveland\",\"Cleveland\",\"Cleveland\",\"Cleveland\",\"Cleveland\",\"Cleveland\",\"Cleveland\",\"Cleveland\",\"Cleveland\",\"Cleveland\",\"Cleveland\",\"Cleveland\",\"Cleveland\",\"Cleveland\",\"Cleveland\",\"Cleveland\",\"Cleveland\",\"Cleveland\",\"Cleveland\",\"Cleveland\",\"Cleveland\",\"Cleveland\",\"Cleveland\",\"Cleveland\",\"Cleveland\",\"Cleveland\",\"Cleveland\",\"Cleveland\",\"Cleveland\",\"Cleveland\",\"Cleveland\",\"Cleveland\",\"Cleveland\",\"Cleveland\",\"Cleveland\",\"Cleveland\",\"Cleveland\",\"Cleveland\",\"Cleveland\",\"Cleveland\",\"Cleveland\",\"Hungary\",\"Hungary\",\"Hungary\",\"Hungary\",\"Hungary\",\"Hungary\",\"Hungary\",\"Hungary\",\"Hungary\",\"Hungary\",\"Hungary\",\"Hungary\",\"Hungary\",\"Hungary\",\"Hungary\",\"Hungary\",\"Hungary\",\"Hungary\",\"Hungary\",\"Hungary\",\"Hungary\",\"Hungary\",\"Hungary\",\"Hungary\",\"Hungary\",\"Hungary\",\"Hungary\",\"Hungary\",\"Hungary\",\"Hungary\",\"Hungary\",\"Hungary\",\"Hungary\",\"Hungary\",\"Hungary\",\"Hungary\",\"Hungary\",\"Hungary\",\"Hungary\",\"Hungary\",\"Hungary\",\"Hungary\",\"Hungary\",\"Hungary\",\"Hungary\",\"Hungary\",\"Hungary\",\"Hungary\",\"Hungary\",\"Hungary\",\"Hungary\",\"Hungary\",\"Hungary\",\"Hungary\",\"Hungary\",\"Hungary\",\"Hungary\",\"Hungary\",\"Hungary\",\"Hungary\",\"Hungary\",\"Hungary\",\"Hungary\",\"Hungary\",\"Hungary\",\"Hungary\",\"Hungary\",\"Hungary\",\"Hungary\",\"Hungary\",\"Hungary\",\"Hungary\",\"Hungary\",\"Hungary\",\"Hungary\",\"Hungary\",\"Hungary\",\"Hungary\",\"Hungary\",\"Hungary\",\"Hungary\",\"Hungary\",\"Hungary\",\"Hungary\",\"Hungary\",\"Hungary\",\"Hungary\",\"Hungary\",\"Hungary\",\"Hungary\",\"Hungary\",\"Hungary\",\"Hungary\",\"Hungary\",\"Hungary\",\"Hungary\",\"Hungary\",\"Hungary\",\"Hungary\",\"Hungary\",\"Hungary\",\"Hungary\",\"Hungary\",\"Hungary\",\"Hungary\",\"Hungary\",\"Hungary\",\"Hungary\",\"Hungary\",\"Hungary\",\"Hungary\",\"Hungary\",\"Hungary\",\"Hungary\",\"Hungary\",\"Hungary\",\"Hungary\",\"Hungary\",\"Hungary\",\"Hungary\",\"Hungary\",\"Hungary\",\"Hungary\",\"Hungary\",\"Hungary\",\"Hungary\",\"Hungary\",\"Hungary\",\"Hungary\",\"Hungary\",\"Hungary\",\"Hungary\",\"Hungary\",\"Hungary\",\"Hungary\",\"Hungary\",\"Hungary\",\"Hungary\",\"Hungary\",\"Hungary\",\"Hungary\",\"Hungary\",\"Hungary\",\"Hungary\",\"Hungary\",\"Hungary\",\"Hungary\",\"Hungary\",\"Hungary\",\"Hungary\",\"Hungary\",\"Hungary\",\"Hungary\",\"Hungary\",\"Hungary\",\"Hungary\",\"Hungary\",\"Hungary\",\"Hungary\",\"Hungary\",\"Hungary\",\"Hungary\",\"Hungary\",\"Hungary\",\"Hungary\",\"Hungary\",\"Hungary\",\"Hungary\",\"Hungary\",\"Hungary\",\"Hungary\",\"Hungary\",\"Hungary\",\"Hungary\",\"Hungary\",\"Hungary\",\"Hungary\",\"Hungary\",\"Hungary\",\"Hungary\",\"Hungary\",\"Hungary\",\"Hungary\",\"Hungary\",\"Hungary\",\"Hungary\",\"Hungary\",\"Hungary\",\"Hungary\",\"Hungary\",\"Hungary\",\"Hungary\",\"Hungary\",\"Hungary\",\"Hungary\",\"Hungary\",\"Hungary\",\"Hungary\",\"Hungary\",\"Hungary\",\"Hungary\",\"Hungary\",\"Hungary\",\"Hungary\",\"Hungary\",\"Hungary\",\"Hungary\",\"Hungary\",\"Hungary\",\"Hungary\",\"Hungary\",\"Hungary\",\"Switzerland\",\"Switzerland\",\"Switzerland\",\"Switzerland\",\"Switzerland\",\"Switzerland\",\"Switzerland\",\"Switzerland\",\"Switzerland\",\"Switzerland\",\"Switzerland\",\"Switzerland\",\"Switzerland\",\"Switzerland\",\"Switzerland\",\"Switzerland\",\"Switzerland\",\"Switzerland\",\"Switzerland\",\"Switzerland\",\"Switzerland\",\"Switzerland\",\"Switzerland\",\"Switzerland\",\"Switzerland\",\"Switzerland\",\"Switzerland\",\"Switzerland\",\"Switzerland\",\"Switzerland\",\"Switzerland\",\"Switzerland\",\"Switzerland\",\"Switzerland\",\"Switzerland\",\"Switzerland\",\"Switzerland\",\"Switzerland\",\"Switzerland\",\"Switzerland\",\"Switzerland\",\"Switzerland\",\"Switzerland\",\"Switzerland\",\"Switzerland\",\"Switzerland\",\"Switzerland\",\"Switzerland\",\"Switzerland\",\"Switzerland\",\"Switzerland\",\"Switzerland\",\"Switzerland\",\"Switzerland\",\"Switzerland\",\"Switzerland\",\"Switzerland\",\"Switzerland\",\"Switzerland\",\"Switzerland\",\"Switzerland\",\"Switzerland\",\"Switzerland\",\"Switzerland\",\"Switzerland\",\"Switzerland\",\"Switzerland\",\"Switzerland\",\"Switzerland\",\"Switzerland\",\"Switzerland\",\"Switzerland\",\"Switzerland\",\"Switzerland\",\"Switzerland\",\"Switzerland\",\"Switzerland\",\"Switzerland\",\"Switzerland\",\"Switzerland\",\"Switzerland\",\"Switzerland\",\"Switzerland\",\"Switzerland\",\"Switzerland\",\"Switzerland\",\"Switzerland\",\"Switzerland\",\"Switzerland\",\"Switzerland\",\"Switzerland\",\"Switzerland\",\"Switzerland\",\"Switzerland\",\"Switzerland\",\"Switzerland\",\"Switzerland\",\"Switzerland\",\"Switzerland\",\"Switzerland\",\"Switzerland\",\"Switzerland\",\"Switzerland\",\"Switzerland\",\"Switzerland\",\"Switzerland\",\"Switzerland\",\"Switzerland\",\"Switzerland\",\"Switzerland\",\"Switzerland\",\"Switzerland\",\"Switzerland\",\"VA Long Beach\",\"VA Long Beach\",\"VA Long Beach\",\"VA Long Beach\",\"VA Long Beach\",\"VA Long Beach\",\"VA Long Beach\",\"VA Long Beach\",\"VA Long Beach\",\"VA Long Beach\",\"VA Long Beach\",\"VA Long Beach\",\"VA Long Beach\",\"VA Long Beach\",\"VA Long Beach\",\"VA Long Beach\",\"VA Long Beach\",\"VA Long Beach\",\"VA Long Beach\",\"VA Long Beach\",\"VA Long Beach\",\"VA Long Beach\",\"VA Long Beach\",\"VA Long Beach\",\"VA Long Beach\",\"VA Long Beach\",\"VA Long Beach\",\"VA Long Beach\",\"VA Long Beach\",\"VA Long Beach\",\"VA Long Beach\",\"VA Long Beach\",\"VA Long Beach\",\"VA Long Beach\",\"VA Long Beach\",\"VA Long Beach\",\"VA Long Beach\",\"VA Long Beach\",\"VA Long Beach\",\"VA Long Beach\",\"VA Long Beach\",\"VA Long Beach\",\"VA Long Beach\",\"VA Long Beach\",\"VA Long Beach\",\"VA Long Beach\",\"VA Long Beach\",\"VA Long Beach\",\"VA Long Beach\",\"VA Long Beach\",\"VA Long Beach\",\"VA Long Beach\",\"VA Long Beach\",\"VA Long Beach\",\"VA Long Beach\",\"VA Long Beach\",\"VA Long Beach\",\"VA Long Beach\",\"VA Long Beach\",\"VA Long Beach\",\"VA Long Beach\",\"VA Long Beach\",\"VA Long Beach\",\"VA Long Beach\",\"VA Long Beach\",\"VA Long Beach\",\"VA Long Beach\",\"VA Long Beach\",\"VA Long Beach\",\"VA Long Beach\",\"VA Long Beach\",\"VA Long Beach\",\"VA Long Beach\",\"VA Long Beach\",\"VA Long Beach\",\"VA Long Beach\",\"VA Long Beach\",\"VA Long Beach\",\"VA Long Beach\",\"VA Long Beach\",\"VA Long Beach\",\"VA Long Beach\",\"VA Long Beach\",\"VA Long Beach\",\"VA Long Beach\",\"VA Long Beach\",\"VA Long Beach\",\"VA Long Beach\",\"VA Long Beach\",\"VA Long Beach\",\"VA Long Beach\",\"VA Long Beach\",\"VA Long Beach\",\"VA Long Beach\",\"VA Long Beach\",\"VA Long Beach\",\"VA Long Beach\",\"VA Long Beach\",\"VA Long Beach\",\"VA Long Beach\",\"VA Long Beach\",\"VA Long Beach\",\"VA Long Beach\",\"VA Long Beach\",\"VA Long Beach\",\"VA Long Beach\",\"VA Long Beach\",\"VA Long Beach\",\"VA Long Beach\",\"VA Long Beach\",\"VA Long Beach\",\"VA Long Beach\",\"VA Long Beach\",\"VA Long Beach\",\"VA Long Beach\",\"VA Long Beach\",\"VA Long Beach\",\"VA Long Beach\",\"VA Long Beach\",\"VA Long Beach\",\"VA Long Beach\",\"VA Long Beach\",\"VA Long Beach\",\"VA Long Beach\",\"VA Long Beach\",\"VA Long Beach\",\"VA Long Beach\",\"VA Long Beach\",\"VA Long Beach\",\"VA Long Beach\",\"VA Long Beach\",\"VA Long Beach\",\"VA Long Beach\",\"VA Long Beach\",\"VA Long Beach\",\"VA Long Beach\",\"VA Long Beach\",\"VA Long Beach\",\"VA Long Beach\",\"VA Long Beach\",\"VA Long Beach\",\"VA Long Beach\",\"VA Long Beach\",\"VA Long Beach\",\"VA Long Beach\",\"VA Long Beach\",\"VA Long Beach\",\"VA Long Beach\",\"VA Long Beach\",\"VA Long Beach\",\"VA Long Beach\",\"VA Long Beach\",\"VA Long Beach\",\"VA Long Beach\",\"VA Long Beach\",\"VA Long Beach\",\"VA Long Beach\",\"VA Long Beach\",\"VA Long Beach\",\"VA Long Beach\",\"VA Long Beach\",\"VA Long Beach\",\"VA Long Beach\",\"VA Long Beach\",\"VA Long Beach\",\"VA Long Beach\",\"VA Long Beach\",\"VA Long Beach\",\"VA Long Beach\",\"VA Long Beach\",\"VA Long Beach\",\"VA Long Beach\",\"VA Long Beach\",\"VA Long Beach\",\"VA Long Beach\",\"VA Long Beach\",\"VA Long Beach\",\"VA Long Beach\",\"VA Long Beach\",\"VA Long Beach\",\"VA Long Beach\",\"VA Long Beach\",\"VA Long Beach\",\"VA Long Beach\",\"VA Long Beach\",\"VA Long Beach\",\"VA Long Beach\",\"VA Long Beach\",\"VA Long Beach\",\"VA Long Beach\",\"VA Long Beach\",\"VA Long Beach\",\"VA Long Beach\",\"VA Long Beach\"],\"xaxis\":\"x\",\"y\":[1,1,1,1,1,1,1,1,1,1,1,1,1,1,1,1,1,1,1,1,1,1,1,1,1,1,1,1,1,1,1,1,1,1,1,1,1,1,1,1,1,1,1,1,1,1,1,1,1,1,1,1,1,1,1,1,1,1,1,1,1,1,1,1,1,1,1,1,1,1,1,1,1,1,1,1,1,1,1,1,1,1,1,1,1,1,1,1,1,1,1,1,1,1,1,1,1,1,1,1,1,1,1,1,1,1,1,1,1,1,1,1,1,1,1,1,1,1,1,1,1,1,1,1,1,1,1,1,1,1,1,1,1,1,1,1,1,1,1,1,1,1,1,1,1,1,1,1,1,1,1,1,1,1,1,1,1,1,1,1,1,1,1,1,1,1,1,1,1,1,1,1,1,1,1,1,1,1,1,1,1,1,1,1,1,1,1,1,1,1,1,1,1,1,1,1,1,1,1,1,1,1,1,1,1,1,1,1,1,1,1,1,1,1,1,1,1,1,1,1,1,1,1,1,1,1,1,1,1,1,1,1,1,1,1,1,1,1,1,1,1,1,1,1,1,1,1,1,1,1,1,1,1,1,1,1,1,1,1,1,1,1,1,1,1,1,1,1,1,1,1,1,1,1,1,1,1,1,1,1,1,1,1,1,1,1,1,1,1,1,1,1,1,1,1,1,1,1,1,1,1,1,1,1,1,1,1,1,1,1,1,1,1,1,1,1,1,1,1,1,1,1,1,1,1,1,1,1,1,1,1,1,1,1,1,1,1,1,1,1,1,1,1,1,1,1,1,1,1,1,1,1,1,1,1,1,1,1,1,1,1,1,1,1,1,1,1,1,1,1,1,1,1,1,1,1,1,1,1,1,1,1,1,1,1,1,1,1,1,1,1,1,1,1,1,1,1,1,1,1,1,1,1,1,1,1,1,1,1,1,1,1,1,1,1,1,1,1,1,1,1,1,1,1,1,1,1,1,1,1,1,1,1,1,1,1,1,1,1,1,1,1,1,1,1,1,1,1,1,1,1,1,1,1,1,1,1,1,1,1,1,1,1,1,1,1,1,1,1,1,1,1,1,1,1,1,1,1,1,1,1,1,1,1,1,1,1,1,1,1,1,1,1,1,1,1,1,1,1,1,1,1,1,1,1,1,1,1,1,1,1,1,1,1,1,1,1,1,1,1,1,1,1,1,1,1,1,1,1,1,1,1,1,1,1,1,1,1,1,1,1,1,1,1,1,1,1,1,1,1,1,1,1,1,1,1,1,1,1,1,1,1,1,1,1,1,1,1,1,1,1,1,1,1,1,1,1,1,1,1,1,1,1,1,1,1,1,1,1,1,1,1,1,1,1,1,1,1,1,1,1,1,1,1,1,1,1,1,1,1,1,1,1,1,1,1,1,1,1,1,1,1,1,1,1,1,1,1,1,1,1,1,1,1,1,1,1,1,1,1,1,1,1,1,1,1,1,1,1,1,1,1,1,1,1,1,1,1,1,1,1,1,1,1,1,1,1,1,1,1,1,1,1,1,1,1,1,1,1,1,1,1,1,1,1,1,1,1,1,1,1,1,1,1,1,1,1,1,1,1,1,1,1,1,1,1,1,1,1,1,1,1,1,1,1,1,1,1,1,1,1,1,1,1,1,1],\"yaxis\":\"y\",\"type\":\"bar\"},{\"alignmentgroup\":\"True\",\"hovertemplate\":\"sex=Female\\u003cbr\\u003edataset=%{x}\\u003cbr\\u003ecount=%{y}\\u003cextra\\u003e\\u003c\\u002fextra\\u003e\",\"legendgroup\":\"Female\",\"marker\":{\"color\":\"#EF553B\",\"pattern\":{\"shape\":\"\"}},\"name\":\"Female\",\"offsetgroup\":\"Female\",\"orientation\":\"v\",\"showlegend\":true,\"textposition\":\"auto\",\"x\":[\"Cleveland\",\"Cleveland\",\"Cleveland\",\"Cleveland\",\"Cleveland\",\"Cleveland\",\"Cleveland\",\"Cleveland\",\"Cleveland\",\"Cleveland\",\"Cleveland\",\"Cleveland\",\"Cleveland\",\"Cleveland\",\"Cleveland\",\"Cleveland\",\"Cleveland\",\"Cleveland\",\"Cleveland\",\"Cleveland\",\"Cleveland\",\"Cleveland\",\"Cleveland\",\"Cleveland\",\"Cleveland\",\"Cleveland\",\"Cleveland\",\"Cleveland\",\"Cleveland\",\"Cleveland\",\"Cleveland\",\"Cleveland\",\"Cleveland\",\"Cleveland\",\"Cleveland\",\"Cleveland\",\"Cleveland\",\"Cleveland\",\"Cleveland\",\"Cleveland\",\"Cleveland\",\"Cleveland\",\"Cleveland\",\"Cleveland\",\"Cleveland\",\"Cleveland\",\"Cleveland\",\"Cleveland\",\"Cleveland\",\"Cleveland\",\"Cleveland\",\"Cleveland\",\"Cleveland\",\"Cleveland\",\"Cleveland\",\"Cleveland\",\"Cleveland\",\"Cleveland\",\"Cleveland\",\"Cleveland\",\"Cleveland\",\"Cleveland\",\"Cleveland\",\"Cleveland\",\"Cleveland\",\"Cleveland\",\"Cleveland\",\"Cleveland\",\"Cleveland\",\"Cleveland\",\"Cleveland\",\"Cleveland\",\"Cleveland\",\"Cleveland\",\"Cleveland\",\"Cleveland\",\"Cleveland\",\"Cleveland\",\"Cleveland\",\"Cleveland\",\"Cleveland\",\"Cleveland\",\"Cleveland\",\"Cleveland\",\"Cleveland\",\"Cleveland\",\"Cleveland\",\"Cleveland\",\"Cleveland\",\"Cleveland\",\"Cleveland\",\"Cleveland\",\"Cleveland\",\"Cleveland\",\"Cleveland\",\"Cleveland\",\"Cleveland\",\"Hungary\",\"Hungary\",\"Hungary\",\"Hungary\",\"Hungary\",\"Hungary\",\"Hungary\",\"Hungary\",\"Hungary\",\"Hungary\",\"Hungary\",\"Hungary\",\"Hungary\",\"Hungary\",\"Hungary\",\"Hungary\",\"Hungary\",\"Hungary\",\"Hungary\",\"Hungary\",\"Hungary\",\"Hungary\",\"Hungary\",\"Hungary\",\"Hungary\",\"Hungary\",\"Hungary\",\"Hungary\",\"Hungary\",\"Hungary\",\"Hungary\",\"Hungary\",\"Hungary\",\"Hungary\",\"Hungary\",\"Hungary\",\"Hungary\",\"Hungary\",\"Hungary\",\"Hungary\",\"Hungary\",\"Hungary\",\"Hungary\",\"Hungary\",\"Hungary\",\"Hungary\",\"Hungary\",\"Hungary\",\"Hungary\",\"Hungary\",\"Hungary\",\"Hungary\",\"Hungary\",\"Hungary\",\"Hungary\",\"Hungary\",\"Hungary\",\"Hungary\",\"Hungary\",\"Hungary\",\"Hungary\",\"Hungary\",\"Hungary\",\"Hungary\",\"Hungary\",\"Hungary\",\"Hungary\",\"Hungary\",\"Hungary\",\"Hungary\",\"Hungary\",\"Hungary\",\"Hungary\",\"Hungary\",\"Hungary\",\"Hungary\",\"Hungary\",\"Hungary\",\"Hungary\",\"Hungary\",\"Hungary\",\"Switzerland\",\"Switzerland\",\"Switzerland\",\"Switzerland\",\"Switzerland\",\"Switzerland\",\"Switzerland\",\"Switzerland\",\"Switzerland\",\"Switzerland\",\"VA Long Beach\",\"VA Long Beach\",\"VA Long Beach\",\"VA Long Beach\",\"VA Long Beach\",\"VA Long Beach\"],\"xaxis\":\"x\",\"y\":[1,1,1,1,1,1,1,1,1,1,1,1,1,1,1,1,1,1,1,1,1,1,1,1,1,1,1,1,1,1,1,1,1,1,1,1,1,1,1,1,1,1,1,1,1,1,1,1,1,1,1,1,1,1,1,1,1,1,1,1,1,1,1,1,1,1,1,1,1,1,1,1,1,1,1,1,1,1,1,1,1,1,1,1,1,1,1,1,1,1,1,1,1,1,1,1,1,1,1,1,1,1,1,1,1,1,1,1,1,1,1,1,1,1,1,1,1,1,1,1,1,1,1,1,1,1,1,1,1,1,1,1,1,1,1,1,1,1,1,1,1,1,1,1,1,1,1,1,1,1,1,1,1,1,1,1,1,1,1,1,1,1,1,1,1,1,1,1,1,1,1,1,1,1,1,1,1,1,1,1,1,1,1,1,1,1,1,1,1,1,1,1,1,1],\"yaxis\":\"y\",\"type\":\"bar\"}],                        {\"template\":{\"data\":{\"histogram2dcontour\":[{\"type\":\"histogram2dcontour\",\"colorbar\":{\"outlinewidth\":0,\"ticks\":\"\"},\"colorscale\":[[0.0,\"#0d0887\"],[0.1111111111111111,\"#46039f\"],[0.2222222222222222,\"#7201a8\"],[0.3333333333333333,\"#9c179e\"],[0.4444444444444444,\"#bd3786\"],[0.5555555555555556,\"#d8576b\"],[0.6666666666666666,\"#ed7953\"],[0.7777777777777778,\"#fb9f3a\"],[0.8888888888888888,\"#fdca26\"],[1.0,\"#f0f921\"]]}],\"choropleth\":[{\"type\":\"choropleth\",\"colorbar\":{\"outlinewidth\":0,\"ticks\":\"\"}}],\"histogram2d\":[{\"type\":\"histogram2d\",\"colorbar\":{\"outlinewidth\":0,\"ticks\":\"\"},\"colorscale\":[[0.0,\"#0d0887\"],[0.1111111111111111,\"#46039f\"],[0.2222222222222222,\"#7201a8\"],[0.3333333333333333,\"#9c179e\"],[0.4444444444444444,\"#bd3786\"],[0.5555555555555556,\"#d8576b\"],[0.6666666666666666,\"#ed7953\"],[0.7777777777777778,\"#fb9f3a\"],[0.8888888888888888,\"#fdca26\"],[1.0,\"#f0f921\"]]}],\"heatmap\":[{\"type\":\"heatmap\",\"colorbar\":{\"outlinewidth\":0,\"ticks\":\"\"},\"colorscale\":[[0.0,\"#0d0887\"],[0.1111111111111111,\"#46039f\"],[0.2222222222222222,\"#7201a8\"],[0.3333333333333333,\"#9c179e\"],[0.4444444444444444,\"#bd3786\"],[0.5555555555555556,\"#d8576b\"],[0.6666666666666666,\"#ed7953\"],[0.7777777777777778,\"#fb9f3a\"],[0.8888888888888888,\"#fdca26\"],[1.0,\"#f0f921\"]]}],\"heatmapgl\":[{\"type\":\"heatmapgl\",\"colorbar\":{\"outlinewidth\":0,\"ticks\":\"\"},\"colorscale\":[[0.0,\"#0d0887\"],[0.1111111111111111,\"#46039f\"],[0.2222222222222222,\"#7201a8\"],[0.3333333333333333,\"#9c179e\"],[0.4444444444444444,\"#bd3786\"],[0.5555555555555556,\"#d8576b\"],[0.6666666666666666,\"#ed7953\"],[0.7777777777777778,\"#fb9f3a\"],[0.8888888888888888,\"#fdca26\"],[1.0,\"#f0f921\"]]}],\"contourcarpet\":[{\"type\":\"contourcarpet\",\"colorbar\":{\"outlinewidth\":0,\"ticks\":\"\"}}],\"contour\":[{\"type\":\"contour\",\"colorbar\":{\"outlinewidth\":0,\"ticks\":\"\"},\"colorscale\":[[0.0,\"#0d0887\"],[0.1111111111111111,\"#46039f\"],[0.2222222222222222,\"#7201a8\"],[0.3333333333333333,\"#9c179e\"],[0.4444444444444444,\"#bd3786\"],[0.5555555555555556,\"#d8576b\"],[0.6666666666666666,\"#ed7953\"],[0.7777777777777778,\"#fb9f3a\"],[0.8888888888888888,\"#fdca26\"],[1.0,\"#f0f921\"]]}],\"surface\":[{\"type\":\"surface\",\"colorbar\":{\"outlinewidth\":0,\"ticks\":\"\"},\"colorscale\":[[0.0,\"#0d0887\"],[0.1111111111111111,\"#46039f\"],[0.2222222222222222,\"#7201a8\"],[0.3333333333333333,\"#9c179e\"],[0.4444444444444444,\"#bd3786\"],[0.5555555555555556,\"#d8576b\"],[0.6666666666666666,\"#ed7953\"],[0.7777777777777778,\"#fb9f3a\"],[0.8888888888888888,\"#fdca26\"],[1.0,\"#f0f921\"]]}],\"mesh3d\":[{\"type\":\"mesh3d\",\"colorbar\":{\"outlinewidth\":0,\"ticks\":\"\"}}],\"scatter\":[{\"fillpattern\":{\"fillmode\":\"overlay\",\"size\":10,\"solidity\":0.2},\"type\":\"scatter\"}],\"parcoords\":[{\"type\":\"parcoords\",\"line\":{\"colorbar\":{\"outlinewidth\":0,\"ticks\":\"\"}}}],\"scatterpolargl\":[{\"type\":\"scatterpolargl\",\"marker\":{\"colorbar\":{\"outlinewidth\":0,\"ticks\":\"\"}}}],\"bar\":[{\"error_x\":{\"color\":\"#2a3f5f\"},\"error_y\":{\"color\":\"#2a3f5f\"},\"marker\":{\"line\":{\"color\":\"#E5ECF6\",\"width\":0.5},\"pattern\":{\"fillmode\":\"overlay\",\"size\":10,\"solidity\":0.2}},\"type\":\"bar\"}],\"scattergeo\":[{\"type\":\"scattergeo\",\"marker\":{\"colorbar\":{\"outlinewidth\":0,\"ticks\":\"\"}}}],\"scatterpolar\":[{\"type\":\"scatterpolar\",\"marker\":{\"colorbar\":{\"outlinewidth\":0,\"ticks\":\"\"}}}],\"histogram\":[{\"marker\":{\"pattern\":{\"fillmode\":\"overlay\",\"size\":10,\"solidity\":0.2}},\"type\":\"histogram\"}],\"scattergl\":[{\"type\":\"scattergl\",\"marker\":{\"colorbar\":{\"outlinewidth\":0,\"ticks\":\"\"}}}],\"scatter3d\":[{\"type\":\"scatter3d\",\"line\":{\"colorbar\":{\"outlinewidth\":0,\"ticks\":\"\"}},\"marker\":{\"colorbar\":{\"outlinewidth\":0,\"ticks\":\"\"}}}],\"scattermapbox\":[{\"type\":\"scattermapbox\",\"marker\":{\"colorbar\":{\"outlinewidth\":0,\"ticks\":\"\"}}}],\"scatterternary\":[{\"type\":\"scatterternary\",\"marker\":{\"colorbar\":{\"outlinewidth\":0,\"ticks\":\"\"}}}],\"scattercarpet\":[{\"type\":\"scattercarpet\",\"marker\":{\"colorbar\":{\"outlinewidth\":0,\"ticks\":\"\"}}}],\"carpet\":[{\"aaxis\":{\"endlinecolor\":\"#2a3f5f\",\"gridcolor\":\"white\",\"linecolor\":\"white\",\"minorgridcolor\":\"white\",\"startlinecolor\":\"#2a3f5f\"},\"baxis\":{\"endlinecolor\":\"#2a3f5f\",\"gridcolor\":\"white\",\"linecolor\":\"white\",\"minorgridcolor\":\"white\",\"startlinecolor\":\"#2a3f5f\"},\"type\":\"carpet\"}],\"table\":[{\"cells\":{\"fill\":{\"color\":\"#EBF0F8\"},\"line\":{\"color\":\"white\"}},\"header\":{\"fill\":{\"color\":\"#C8D4E3\"},\"line\":{\"color\":\"white\"}},\"type\":\"table\"}],\"barpolar\":[{\"marker\":{\"line\":{\"color\":\"#E5ECF6\",\"width\":0.5},\"pattern\":{\"fillmode\":\"overlay\",\"size\":10,\"solidity\":0.2}},\"type\":\"barpolar\"}],\"pie\":[{\"automargin\":true,\"type\":\"pie\"}]},\"layout\":{\"autotypenumbers\":\"strict\",\"colorway\":[\"#636efa\",\"#EF553B\",\"#00cc96\",\"#ab63fa\",\"#FFA15A\",\"#19d3f3\",\"#FF6692\",\"#B6E880\",\"#FF97FF\",\"#FECB52\"],\"font\":{\"color\":\"#2a3f5f\"},\"hovermode\":\"closest\",\"hoverlabel\":{\"align\":\"left\"},\"paper_bgcolor\":\"white\",\"plot_bgcolor\":\"#E5ECF6\",\"polar\":{\"bgcolor\":\"#E5ECF6\",\"angularaxis\":{\"gridcolor\":\"white\",\"linecolor\":\"white\",\"ticks\":\"\"},\"radialaxis\":{\"gridcolor\":\"white\",\"linecolor\":\"white\",\"ticks\":\"\"}},\"ternary\":{\"bgcolor\":\"#E5ECF6\",\"aaxis\":{\"gridcolor\":\"white\",\"linecolor\":\"white\",\"ticks\":\"\"},\"baxis\":{\"gridcolor\":\"white\",\"linecolor\":\"white\",\"ticks\":\"\"},\"caxis\":{\"gridcolor\":\"white\",\"linecolor\":\"white\",\"ticks\":\"\"}},\"coloraxis\":{\"colorbar\":{\"outlinewidth\":0,\"ticks\":\"\"}},\"colorscale\":{\"sequential\":[[0.0,\"#0d0887\"],[0.1111111111111111,\"#46039f\"],[0.2222222222222222,\"#7201a8\"],[0.3333333333333333,\"#9c179e\"],[0.4444444444444444,\"#bd3786\"],[0.5555555555555556,\"#d8576b\"],[0.6666666666666666,\"#ed7953\"],[0.7777777777777778,\"#fb9f3a\"],[0.8888888888888888,\"#fdca26\"],[1.0,\"#f0f921\"]],\"sequentialminus\":[[0.0,\"#0d0887\"],[0.1111111111111111,\"#46039f\"],[0.2222222222222222,\"#7201a8\"],[0.3333333333333333,\"#9c179e\"],[0.4444444444444444,\"#bd3786\"],[0.5555555555555556,\"#d8576b\"],[0.6666666666666666,\"#ed7953\"],[0.7777777777777778,\"#fb9f3a\"],[0.8888888888888888,\"#fdca26\"],[1.0,\"#f0f921\"]],\"diverging\":[[0,\"#8e0152\"],[0.1,\"#c51b7d\"],[0.2,\"#de77ae\"],[0.3,\"#f1b6da\"],[0.4,\"#fde0ef\"],[0.5,\"#f7f7f7\"],[0.6,\"#e6f5d0\"],[0.7,\"#b8e186\"],[0.8,\"#7fbc41\"],[0.9,\"#4d9221\"],[1,\"#276419\"]]},\"xaxis\":{\"gridcolor\":\"white\",\"linecolor\":\"white\",\"ticks\":\"\",\"title\":{\"standoff\":15},\"zerolinecolor\":\"white\",\"automargin\":true,\"zerolinewidth\":2},\"yaxis\":{\"gridcolor\":\"white\",\"linecolor\":\"white\",\"ticks\":\"\",\"title\":{\"standoff\":15},\"zerolinecolor\":\"white\",\"automargin\":true,\"zerolinewidth\":2},\"scene\":{\"xaxis\":{\"backgroundcolor\":\"#E5ECF6\",\"gridcolor\":\"white\",\"linecolor\":\"white\",\"showbackground\":true,\"ticks\":\"\",\"zerolinecolor\":\"white\",\"gridwidth\":2},\"yaxis\":{\"backgroundcolor\":\"#E5ECF6\",\"gridcolor\":\"white\",\"linecolor\":\"white\",\"showbackground\":true,\"ticks\":\"\",\"zerolinecolor\":\"white\",\"gridwidth\":2},\"zaxis\":{\"backgroundcolor\":\"#E5ECF6\",\"gridcolor\":\"white\",\"linecolor\":\"white\",\"showbackground\":true,\"ticks\":\"\",\"zerolinecolor\":\"white\",\"gridwidth\":2}},\"shapedefaults\":{\"line\":{\"color\":\"#2a3f5f\"}},\"annotationdefaults\":{\"arrowcolor\":\"#2a3f5f\",\"arrowhead\":0,\"arrowwidth\":1},\"geo\":{\"bgcolor\":\"white\",\"landcolor\":\"#E5ECF6\",\"subunitcolor\":\"white\",\"showland\":true,\"showlakes\":true,\"lakecolor\":\"white\"},\"title\":{\"x\":0.05},\"mapbox\":{\"style\":\"light\"}}},\"xaxis\":{\"anchor\":\"y\",\"domain\":[0.0,1.0],\"title\":{\"text\":\"dataset\"}},\"yaxis\":{\"anchor\":\"x\",\"domain\":[0.0,1.0],\"title\":{\"text\":\"count\"}},\"legend\":{\"title\":{\"text\":\"sex\"},\"tracegroupgap\":0},\"margin\":{\"t\":60},\"barmode\":\"relative\"},                        {\"responsive\": true}                    ).then(function(){\n",
       "                            \n",
       "var gd = document.getElementById('949b82b0-ff71-443d-b29e-00fbf3b632f5');\n",
       "var x = new MutationObserver(function (mutations, observer) {{\n",
       "        var display = window.getComputedStyle(gd).display;\n",
       "        if (!display || display === 'none') {{\n",
       "            console.log([gd, 'removed!']);\n",
       "            Plotly.purge(gd);\n",
       "            observer.disconnect();\n",
       "        }}\n",
       "}});\n",
       "\n",
       "// Listen for the removal of the full notebook cells\n",
       "var notebookContainer = gd.closest('#notebook-container');\n",
       "if (notebookContainer) {{\n",
       "    x.observe(notebookContainer, {childList: true});\n",
       "}}\n",
       "\n",
       "// Listen for the clearing of the current output cell\n",
       "var outputEl = gd.closest('.output');\n",
       "if (outputEl) {{\n",
       "    x.observe(outputEl, {childList: true});\n",
       "}}\n",
       "\n",
       "                        })                };                });            </script>        </div>"
      ]
     },
     "metadata": {},
     "output_type": "display_data"
    },
    {
     "name": "stdout",
     "output_type": "stream",
     "text": [
      "sex     dataset      \n",
      "Female  Cleveland         97\n",
      "        Hungary           81\n",
      "        Switzerland       10\n",
      "        VA Long Beach      6\n",
      "Male    Hungary          212\n",
      "        Cleveland        207\n",
      "        VA Long Beach    194\n",
      "        Switzerland      113\n",
      "Name: count, dtype: int64\n"
     ]
    }
   ],
   "source": [
    "# plot the countplot of dataset column\n",
    "fig =px.bar(df, x='dataset', color='sex')\n",
    "fig.show()\n",
    "\n",
    "# print the values of dataset column groupes by sex\n",
    "print (df.groupby('sex')['dataset'].value_counts())"
   ]
  },
  {
   "cell_type": "code",
   "execution_count": 17,
   "id": "104b5c97",
   "metadata": {
    "execution": {
     "iopub.execute_input": "2024-04-28T09:34:36.762853Z",
     "iopub.status.busy": "2024-04-28T09:34:36.762493Z",
     "iopub.status.idle": "2024-04-28T09:34:36.855634Z",
     "shell.execute_reply": "2024-04-28T09:34:36.854661Z"
    },
    "papermill": {
     "duration": 0.126826,
     "end_time": "2024-04-28T09:34:36.857755",
     "exception": false,
     "start_time": "2024-04-28T09:34:36.730929",
     "status": "completed"
    },
    "tags": []
   },
   "outputs": [
    {
     "data": {
      "text/html": [
       "<div>                            <div id=\"ab14a4ab-ae67-47c6-88c9-0c94a96bd8c4\" class=\"plotly-graph-div\" style=\"height:525px; width:100%;\"></div>            <script type=\"text/javascript\">                require([\"plotly\"], function(Plotly) {                    window.PLOTLYENV=window.PLOTLYENV || {};                                    if (document.getElementById(\"ab14a4ab-ae67-47c6-88c9-0c94a96bd8c4\")) {                    Plotly.newPlot(                        \"ab14a4ab-ae67-47c6-88c9-0c94a96bd8c4\",                        [{\"alignmentgroup\":\"True\",\"bingroup\":\"x\",\"hovertemplate\":\"dataset=Cleveland\\u003cbr\\u003eage=%{x}\\u003cbr\\u003ecount=%{y}\\u003cextra\\u003e\\u003c\\u002fextra\\u003e\",\"legendgroup\":\"Cleveland\",\"marker\":{\"color\":\"#636efa\",\"pattern\":{\"shape\":\"\"}},\"name\":\"Cleveland\",\"offsetgroup\":\"Cleveland\",\"orientation\":\"v\",\"showlegend\":true,\"x\":[63,67,67,37,41,56,62,57,63,53,57,56,56,44,52,57,48,54,48,49,64,58,58,58,60,50,58,66,43,40,69,60,64,59,44,42,43,57,55,61,65,40,71,59,61,58,51,50,65,53,41,65,44,44,60,54,50,41,54,51,51,46,58,54,54,60,60,54,59,46,65,67,62,65,44,65,60,51,48,58,45,53,39,68,52,44,47,53,53,51,66,62,62,44,63,52,59,60,52,48,45,34,57,71,49,54,59,57,61,39,61,56,52,43,62,41,58,35,63,65,48,63,51,55,65,45,56,54,44,62,54,51,29,51,43,55,70,62,35,51,59,59,52,64,58,47,57,41,45,60,52,42,67,55,64,70,51,58,60,68,46,77,54,58,48,57,52,54,35,45,70,53,59,62,64,57,52,56,43,53,48,56,42,59,60,63,42,66,54,69,50,51,43,62,68,67,69,45,50,59,50,64,57,64,43,45,58,50,55,62,37,38,41,66,52,56,46,46,64,59,41,54,39,53,63,34,47,67,54,66,52,55,49,74,54,54,56,46,49,42,41,41,49,61,60,67,58,47,52,62,57,58,64,51,43,42,67,76,70,57,44,58,60,44,61,42,52,59,40,42,61,66,46,71,59,64,66,39,57,58,57,47,55,35,61,58,58,58,56,56,67,55,44,63,63,41,59,57,45,68,57,57,38,28],\"xaxis\":\"x\",\"yaxis\":\"y\",\"type\":\"histogram\"},{\"alignmentgroup\":\"True\",\"bingroup\":\"x\",\"hovertemplate\":\"dataset=Hungary\\u003cbr\\u003eage=%{x}\\u003cbr\\u003ecount=%{y}\\u003cextra\\u003e\\u003c\\u002fextra\\u003e\",\"legendgroup\":\"Hungary\",\"marker\":{\"color\":\"#EF553B\",\"pattern\":{\"shape\":\"\"}},\"name\":\"Hungary\",\"offsetgroup\":\"Hungary\",\"orientation\":\"v\",\"showlegend\":true,\"x\":[29,29,30,31,32,32,32,33,34,34,34,35,35,35,35,36,36,36,36,37,37,37,37,37,37,37,38,38,38,39,39,39,39,39,39,39,39,39,39,40,40,40,40,40,41,41,41,41,41,41,41,42,42,42,42,42,42,42,43,43,43,43,43,43,43,43,44,44,44,44,45,45,45,45,45,45,45,46,46,46,46,46,46,46,47,47,47,47,47,48,48,48,48,48,48,48,48,48,48,48,49,49,49,49,49,49,49,49,50,50,50,50,50,50,50,51,51,51,51,51,51,51,52,52,52,52,52,52,52,52,53,53,53,53,53,53,53,53,53,54,54,54,54,54,54,54,54,54,54,54,54,54,54,54,54,55,55,55,55,55,55,55,55,55,55,56,56,56,56,56,57,57,57,58,58,58,58,59,59,59,59,59,60,61,61,62,62,31,33,34,35,36,37,38,38,38,40,41,41,43,46,46,46,47,47,48,48,48,49,49,49,50,50,51,52,54,54,55,57,58,59,60,63,65,32,38,39,40,43,45,46,46,48,48,48,48,50,52,52,53,54,54,54,54,54,55,56,57,58,58,41,43,44,44,46,47,48,49,49,51,52,52,52,52,53,53,54,55,55,55,56,56,56,58,59,59,65,66,41,43,44,47,47,49,49,50,50,52,52,54,56,58,65],\"xaxis\":\"x\",\"yaxis\":\"y\",\"type\":\"histogram\"},{\"alignmentgroup\":\"True\",\"bingroup\":\"x\",\"hovertemplate\":\"dataset=Switzerland\\u003cbr\\u003eage=%{x}\\u003cbr\\u003ecount=%{y}\\u003cextra\\u003e\\u003c\\u002fextra\\u003e\",\"legendgroup\":\"Switzerland\",\"marker\":{\"color\":\"#00cc96\",\"pattern\":{\"shape\":\"\"}},\"name\":\"Switzerland\",\"offsetgroup\":\"Switzerland\",\"orientation\":\"v\",\"showlegend\":true,\"x\":[32,34,35,36,38,38,38,38,38,38,40,41,42,42,43,43,43,45,46,46,47,47,47,47,48,50,50,50,50,51,51,51,51,51,51,51,52,52,52,52,53,53,53,53,53,53,53,53,54,54,54,55,55,55,55,56,56,56,56,56,56,56,56,57,57,57,57,57,57,58,58,58,59,59,59,59,59,60,60,60,60,60,60,61,61,61,61,61,61,61,61,61,62,62,62,62,62,62,62,63,63,63,63,63,64,64,64,65,65,65,65,66,66,67,68,68,69,69,70,70,72,73,74],\"xaxis\":\"x\",\"yaxis\":\"y\",\"type\":\"histogram\"},{\"alignmentgroup\":\"True\",\"bingroup\":\"x\",\"hovertemplate\":\"dataset=VA Long Beach\\u003cbr\\u003eage=%{x}\\u003cbr\\u003ecount=%{y}\\u003cextra\\u003e\\u003c\\u002fextra\\u003e\",\"legendgroup\":\"VA Long Beach\",\"marker\":{\"color\":\"#ab63fa\",\"pattern\":{\"shape\":\"\"}},\"name\":\"VA Long Beach\",\"offsetgroup\":\"VA Long Beach\",\"orientation\":\"v\",\"showlegend\":true,\"x\":[63,44,60,55,66,66,65,60,60,60,56,59,62,63,57,62,63,46,63,60,58,64,63,74,52,69,51,60,56,55,54,77,63,55,52,64,60,60,58,59,61,40,61,41,57,63,59,51,59,42,55,63,62,56,53,68,53,60,62,59,51,61,57,56,58,69,67,58,65,63,55,57,65,54,72,75,49,51,60,64,58,61,67,62,65,63,69,51,62,55,75,40,67,58,60,63,35,62,43,63,68,65,48,63,64,61,50,59,55,45,65,61,49,72,50,64,55,63,59,56,62,74,54,57,62,76,54,70,61,48,48,61,66,68,55,62,71,74,53,58,75,56,58,64,54,54,59,55,57,61,41,71,38,55,56,69,64,72,69,56,62,67,57,69,51,48,69,69,64,57,53,37,67,74,63,58,61,64,58,60,57,55,55,56,57,61,61,58,74,68,51,62,53,62,46,54,62,55,58,62],\"xaxis\":\"x\",\"yaxis\":\"y\",\"type\":\"histogram\"}],                        {\"template\":{\"data\":{\"histogram2dcontour\":[{\"type\":\"histogram2dcontour\",\"colorbar\":{\"outlinewidth\":0,\"ticks\":\"\"},\"colorscale\":[[0.0,\"#0d0887\"],[0.1111111111111111,\"#46039f\"],[0.2222222222222222,\"#7201a8\"],[0.3333333333333333,\"#9c179e\"],[0.4444444444444444,\"#bd3786\"],[0.5555555555555556,\"#d8576b\"],[0.6666666666666666,\"#ed7953\"],[0.7777777777777778,\"#fb9f3a\"],[0.8888888888888888,\"#fdca26\"],[1.0,\"#f0f921\"]]}],\"choropleth\":[{\"type\":\"choropleth\",\"colorbar\":{\"outlinewidth\":0,\"ticks\":\"\"}}],\"histogram2d\":[{\"type\":\"histogram2d\",\"colorbar\":{\"outlinewidth\":0,\"ticks\":\"\"},\"colorscale\":[[0.0,\"#0d0887\"],[0.1111111111111111,\"#46039f\"],[0.2222222222222222,\"#7201a8\"],[0.3333333333333333,\"#9c179e\"],[0.4444444444444444,\"#bd3786\"],[0.5555555555555556,\"#d8576b\"],[0.6666666666666666,\"#ed7953\"],[0.7777777777777778,\"#fb9f3a\"],[0.8888888888888888,\"#fdca26\"],[1.0,\"#f0f921\"]]}],\"heatmap\":[{\"type\":\"heatmap\",\"colorbar\":{\"outlinewidth\":0,\"ticks\":\"\"},\"colorscale\":[[0.0,\"#0d0887\"],[0.1111111111111111,\"#46039f\"],[0.2222222222222222,\"#7201a8\"],[0.3333333333333333,\"#9c179e\"],[0.4444444444444444,\"#bd3786\"],[0.5555555555555556,\"#d8576b\"],[0.6666666666666666,\"#ed7953\"],[0.7777777777777778,\"#fb9f3a\"],[0.8888888888888888,\"#fdca26\"],[1.0,\"#f0f921\"]]}],\"heatmapgl\":[{\"type\":\"heatmapgl\",\"colorbar\":{\"outlinewidth\":0,\"ticks\":\"\"},\"colorscale\":[[0.0,\"#0d0887\"],[0.1111111111111111,\"#46039f\"],[0.2222222222222222,\"#7201a8\"],[0.3333333333333333,\"#9c179e\"],[0.4444444444444444,\"#bd3786\"],[0.5555555555555556,\"#d8576b\"],[0.6666666666666666,\"#ed7953\"],[0.7777777777777778,\"#fb9f3a\"],[0.8888888888888888,\"#fdca26\"],[1.0,\"#f0f921\"]]}],\"contourcarpet\":[{\"type\":\"contourcarpet\",\"colorbar\":{\"outlinewidth\":0,\"ticks\":\"\"}}],\"contour\":[{\"type\":\"contour\",\"colorbar\":{\"outlinewidth\":0,\"ticks\":\"\"},\"colorscale\":[[0.0,\"#0d0887\"],[0.1111111111111111,\"#46039f\"],[0.2222222222222222,\"#7201a8\"],[0.3333333333333333,\"#9c179e\"],[0.4444444444444444,\"#bd3786\"],[0.5555555555555556,\"#d8576b\"],[0.6666666666666666,\"#ed7953\"],[0.7777777777777778,\"#fb9f3a\"],[0.8888888888888888,\"#fdca26\"],[1.0,\"#f0f921\"]]}],\"surface\":[{\"type\":\"surface\",\"colorbar\":{\"outlinewidth\":0,\"ticks\":\"\"},\"colorscale\":[[0.0,\"#0d0887\"],[0.1111111111111111,\"#46039f\"],[0.2222222222222222,\"#7201a8\"],[0.3333333333333333,\"#9c179e\"],[0.4444444444444444,\"#bd3786\"],[0.5555555555555556,\"#d8576b\"],[0.6666666666666666,\"#ed7953\"],[0.7777777777777778,\"#fb9f3a\"],[0.8888888888888888,\"#fdca26\"],[1.0,\"#f0f921\"]]}],\"mesh3d\":[{\"type\":\"mesh3d\",\"colorbar\":{\"outlinewidth\":0,\"ticks\":\"\"}}],\"scatter\":[{\"fillpattern\":{\"fillmode\":\"overlay\",\"size\":10,\"solidity\":0.2},\"type\":\"scatter\"}],\"parcoords\":[{\"type\":\"parcoords\",\"line\":{\"colorbar\":{\"outlinewidth\":0,\"ticks\":\"\"}}}],\"scatterpolargl\":[{\"type\":\"scatterpolargl\",\"marker\":{\"colorbar\":{\"outlinewidth\":0,\"ticks\":\"\"}}}],\"bar\":[{\"error_x\":{\"color\":\"#2a3f5f\"},\"error_y\":{\"color\":\"#2a3f5f\"},\"marker\":{\"line\":{\"color\":\"#E5ECF6\",\"width\":0.5},\"pattern\":{\"fillmode\":\"overlay\",\"size\":10,\"solidity\":0.2}},\"type\":\"bar\"}],\"scattergeo\":[{\"type\":\"scattergeo\",\"marker\":{\"colorbar\":{\"outlinewidth\":0,\"ticks\":\"\"}}}],\"scatterpolar\":[{\"type\":\"scatterpolar\",\"marker\":{\"colorbar\":{\"outlinewidth\":0,\"ticks\":\"\"}}}],\"histogram\":[{\"marker\":{\"pattern\":{\"fillmode\":\"overlay\",\"size\":10,\"solidity\":0.2}},\"type\":\"histogram\"}],\"scattergl\":[{\"type\":\"scattergl\",\"marker\":{\"colorbar\":{\"outlinewidth\":0,\"ticks\":\"\"}}}],\"scatter3d\":[{\"type\":\"scatter3d\",\"line\":{\"colorbar\":{\"outlinewidth\":0,\"ticks\":\"\"}},\"marker\":{\"colorbar\":{\"outlinewidth\":0,\"ticks\":\"\"}}}],\"scattermapbox\":[{\"type\":\"scattermapbox\",\"marker\":{\"colorbar\":{\"outlinewidth\":0,\"ticks\":\"\"}}}],\"scatterternary\":[{\"type\":\"scatterternary\",\"marker\":{\"colorbar\":{\"outlinewidth\":0,\"ticks\":\"\"}}}],\"scattercarpet\":[{\"type\":\"scattercarpet\",\"marker\":{\"colorbar\":{\"outlinewidth\":0,\"ticks\":\"\"}}}],\"carpet\":[{\"aaxis\":{\"endlinecolor\":\"#2a3f5f\",\"gridcolor\":\"white\",\"linecolor\":\"white\",\"minorgridcolor\":\"white\",\"startlinecolor\":\"#2a3f5f\"},\"baxis\":{\"endlinecolor\":\"#2a3f5f\",\"gridcolor\":\"white\",\"linecolor\":\"white\",\"minorgridcolor\":\"white\",\"startlinecolor\":\"#2a3f5f\"},\"type\":\"carpet\"}],\"table\":[{\"cells\":{\"fill\":{\"color\":\"#EBF0F8\"},\"line\":{\"color\":\"white\"}},\"header\":{\"fill\":{\"color\":\"#C8D4E3\"},\"line\":{\"color\":\"white\"}},\"type\":\"table\"}],\"barpolar\":[{\"marker\":{\"line\":{\"color\":\"#E5ECF6\",\"width\":0.5},\"pattern\":{\"fillmode\":\"overlay\",\"size\":10,\"solidity\":0.2}},\"type\":\"barpolar\"}],\"pie\":[{\"automargin\":true,\"type\":\"pie\"}]},\"layout\":{\"autotypenumbers\":\"strict\",\"colorway\":[\"#636efa\",\"#EF553B\",\"#00cc96\",\"#ab63fa\",\"#FFA15A\",\"#19d3f3\",\"#FF6692\",\"#B6E880\",\"#FF97FF\",\"#FECB52\"],\"font\":{\"color\":\"#2a3f5f\"},\"hovermode\":\"closest\",\"hoverlabel\":{\"align\":\"left\"},\"paper_bgcolor\":\"white\",\"plot_bgcolor\":\"#E5ECF6\",\"polar\":{\"bgcolor\":\"#E5ECF6\",\"angularaxis\":{\"gridcolor\":\"white\",\"linecolor\":\"white\",\"ticks\":\"\"},\"radialaxis\":{\"gridcolor\":\"white\",\"linecolor\":\"white\",\"ticks\":\"\"}},\"ternary\":{\"bgcolor\":\"#E5ECF6\",\"aaxis\":{\"gridcolor\":\"white\",\"linecolor\":\"white\",\"ticks\":\"\"},\"baxis\":{\"gridcolor\":\"white\",\"linecolor\":\"white\",\"ticks\":\"\"},\"caxis\":{\"gridcolor\":\"white\",\"linecolor\":\"white\",\"ticks\":\"\"}},\"coloraxis\":{\"colorbar\":{\"outlinewidth\":0,\"ticks\":\"\"}},\"colorscale\":{\"sequential\":[[0.0,\"#0d0887\"],[0.1111111111111111,\"#46039f\"],[0.2222222222222222,\"#7201a8\"],[0.3333333333333333,\"#9c179e\"],[0.4444444444444444,\"#bd3786\"],[0.5555555555555556,\"#d8576b\"],[0.6666666666666666,\"#ed7953\"],[0.7777777777777778,\"#fb9f3a\"],[0.8888888888888888,\"#fdca26\"],[1.0,\"#f0f921\"]],\"sequentialminus\":[[0.0,\"#0d0887\"],[0.1111111111111111,\"#46039f\"],[0.2222222222222222,\"#7201a8\"],[0.3333333333333333,\"#9c179e\"],[0.4444444444444444,\"#bd3786\"],[0.5555555555555556,\"#d8576b\"],[0.6666666666666666,\"#ed7953\"],[0.7777777777777778,\"#fb9f3a\"],[0.8888888888888888,\"#fdca26\"],[1.0,\"#f0f921\"]],\"diverging\":[[0,\"#8e0152\"],[0.1,\"#c51b7d\"],[0.2,\"#de77ae\"],[0.3,\"#f1b6da\"],[0.4,\"#fde0ef\"],[0.5,\"#f7f7f7\"],[0.6,\"#e6f5d0\"],[0.7,\"#b8e186\"],[0.8,\"#7fbc41\"],[0.9,\"#4d9221\"],[1,\"#276419\"]]},\"xaxis\":{\"gridcolor\":\"white\",\"linecolor\":\"white\",\"ticks\":\"\",\"title\":{\"standoff\":15},\"zerolinecolor\":\"white\",\"automargin\":true,\"zerolinewidth\":2},\"yaxis\":{\"gridcolor\":\"white\",\"linecolor\":\"white\",\"ticks\":\"\",\"title\":{\"standoff\":15},\"zerolinecolor\":\"white\",\"automargin\":true,\"zerolinewidth\":2},\"scene\":{\"xaxis\":{\"backgroundcolor\":\"#E5ECF6\",\"gridcolor\":\"white\",\"linecolor\":\"white\",\"showbackground\":true,\"ticks\":\"\",\"zerolinecolor\":\"white\",\"gridwidth\":2},\"yaxis\":{\"backgroundcolor\":\"#E5ECF6\",\"gridcolor\":\"white\",\"linecolor\":\"white\",\"showbackground\":true,\"ticks\":\"\",\"zerolinecolor\":\"white\",\"gridwidth\":2},\"zaxis\":{\"backgroundcolor\":\"#E5ECF6\",\"gridcolor\":\"white\",\"linecolor\":\"white\",\"showbackground\":true,\"ticks\":\"\",\"zerolinecolor\":\"white\",\"gridwidth\":2}},\"shapedefaults\":{\"line\":{\"color\":\"#2a3f5f\"}},\"annotationdefaults\":{\"arrowcolor\":\"#2a3f5f\",\"arrowhead\":0,\"arrowwidth\":1},\"geo\":{\"bgcolor\":\"white\",\"landcolor\":\"#E5ECF6\",\"subunitcolor\":\"white\",\"showland\":true,\"showlakes\":true,\"lakecolor\":\"white\"},\"title\":{\"x\":0.05},\"mapbox\":{\"style\":\"light\"}}},\"xaxis\":{\"anchor\":\"y\",\"domain\":[0.0,1.0],\"title\":{\"text\":\"age\"}},\"yaxis\":{\"anchor\":\"x\",\"domain\":[0.0,1.0],\"title\":{\"text\":\"count\"}},\"legend\":{\"title\":{\"text\":\"dataset\"},\"tracegroupgap\":0},\"margin\":{\"t\":60},\"barmode\":\"relative\"},                        {\"responsive\": true}                    ).then(function(){\n",
       "                            \n",
       "var gd = document.getElementById('ab14a4ab-ae67-47c6-88c9-0c94a96bd8c4');\n",
       "var x = new MutationObserver(function (mutations, observer) {{\n",
       "        var display = window.getComputedStyle(gd).display;\n",
       "        if (!display || display === 'none') {{\n",
       "            console.log([gd, 'removed!']);\n",
       "            Plotly.purge(gd);\n",
       "            observer.disconnect();\n",
       "        }}\n",
       "}});\n",
       "\n",
       "// Listen for the removal of the full notebook cells\n",
       "var notebookContainer = gd.closest('#notebook-container');\n",
       "if (notebookContainer) {{\n",
       "    x.observe(notebookContainer, {childList: true});\n",
       "}}\n",
       "\n",
       "// Listen for the clearing of the current output cell\n",
       "var outputEl = gd.closest('.output');\n",
       "if (outputEl) {{\n",
       "    x.observe(outputEl, {childList: true});\n",
       "}}\n",
       "\n",
       "                        })                };                });            </script>        </div>"
      ]
     },
     "metadata": {},
     "output_type": "display_data"
    },
    {
     "name": "stdout",
     "output_type": "stream",
     "text": [
      "___________________________________________________________\n",
      "Mean of the dataset:  dataset\n",
      "Cleveland        54.351974\n",
      "Hungary          47.894198\n",
      "Switzerland      55.317073\n",
      "VA Long Beach    59.350000\n",
      "Name: age, dtype: float64\n",
      "___________________________________________________________\n",
      "Median of the dataset:  dataset\n",
      "Cleveland        55.5\n",
      "Hungary          49.0\n",
      "Switzerland      56.0\n",
      "VA Long Beach    60.0\n",
      "Name: age, dtype: float64\n",
      "___________________________________________________________\n",
      "Mode of the dataset:  dataset\n",
      "Cleveland              58\n",
      "Hungary                54\n",
      "Switzerland            61\n",
      "VA Long Beach    [62, 63]\n",
      "Name: age, dtype: object\n",
      "___________________________________________________________\n"
     ]
    }
   ],
   "source": [
    "# make a plot of age column using plotly and coloring by dataset\n",
    "\n",
    "fig = px.histogram(data_frame=df, x='age', color= 'dataset')\n",
    "fig.show()\n",
    "\n",
    "# print the mean median and mode of age column grouped by dataset column\n",
    "print(\"___________________________________________________________\")\n",
    "print (\"Mean of the dataset: \",df.groupby('dataset')['age'].mean())\n",
    "print(\"___________________________________________________________\")\n",
    "print (\"Median of the dataset: \",df.groupby('dataset')['age'].median())\n",
    "print(\"___________________________________________________________\")\n",
    "print (\"Mode of the dataset: \",df.groupby('dataset')['age'].agg(pd.Series.mode))\n",
    "print(\"___________________________________________________________\")"
   ]
  },
  {
   "cell_type": "markdown",
   "id": "2fb61cdf",
   "metadata": {
    "papermill": {
     "duration": 0.029823,
     "end_time": "2024-04-28T09:34:36.916821",
     "exception": false,
     "start_time": "2024-04-28T09:34:36.886998",
     "status": "completed"
    },
    "tags": []
   },
   "source": [
    "## Exploring CP (Chest Pain) column"
   ]
  },
  {
   "cell_type": "code",
   "execution_count": 18,
   "id": "4e981158",
   "metadata": {
    "execution": {
     "iopub.execute_input": "2024-04-28T09:34:36.977639Z",
     "iopub.status.busy": "2024-04-28T09:34:36.976894Z",
     "iopub.status.idle": "2024-04-28T09:34:36.984293Z",
     "shell.execute_reply": "2024-04-28T09:34:36.983363Z"
    },
    "papermill": {
     "duration": 0.039801,
     "end_time": "2024-04-28T09:34:36.986265",
     "exception": false,
     "start_time": "2024-04-28T09:34:36.946464",
     "status": "completed"
    },
    "tags": []
   },
   "outputs": [
    {
     "data": {
      "text/plain": [
       "cp\n",
       "asymptomatic       496\n",
       "non-anginal        204\n",
       "atypical angina    174\n",
       "typical angina      46\n",
       "Name: count, dtype: int64"
      ]
     },
     "execution_count": 18,
     "metadata": {},
     "output_type": "execute_result"
    }
   ],
   "source": [
    "# value count of cp column\n",
    "df['cp'].value_counts()"
   ]
  },
  {
   "cell_type": "code",
   "execution_count": 19,
   "id": "43bb23c5",
   "metadata": {
    "execution": {
     "iopub.execute_input": "2024-04-28T09:34:37.043676Z",
     "iopub.status.busy": "2024-04-28T09:34:37.043398Z",
     "iopub.status.idle": "2024-04-28T09:34:37.375367Z",
     "shell.execute_reply": "2024-04-28T09:34:37.374487Z"
    },
    "papermill": {
     "duration": 0.363492,
     "end_time": "2024-04-28T09:34:37.377674",
     "exception": false,
     "start_time": "2024-04-28T09:34:37.014182",
     "status": "completed"
    },
    "tags": []
   },
   "outputs": [
    {
     "data": {
      "text/plain": [
       "<Axes: xlabel='cp', ylabel='count'>"
      ]
     },
     "execution_count": 19,
     "metadata": {},
     "output_type": "execute_result"
    },
    {
     "data": {
      "image/png": "[encoded data removed]",
      "text/plain": [
       "<Figure size 800x550 with 1 Axes>"
      ]
     },
     "metadata": {},
     "output_type": "display_data"
    }
   ],
   "source": [
    "# count plot of cp column by sex column\n",
    "sns.countplot(df, x='cp', hue= 'sex')"
   ]
  },
  {
   "cell_type": "code",
   "execution_count": 20,
   "id": "3d6c5fc1",
   "metadata": {
    "execution": {
     "iopub.execute_input": "2024-04-28T09:34:37.440269Z",
     "iopub.status.busy": "2024-04-28T09:34:37.439978Z",
     "iopub.status.idle": "2024-04-28T09:34:37.823338Z",
     "shell.execute_reply": "2024-04-28T09:34:37.822350Z"
    },
    "papermill": {
     "duration": 0.417454,
     "end_time": "2024-04-28T09:34:37.825884",
     "exception": false,
     "start_time": "2024-04-28T09:34:37.408430",
     "status": "completed"
    },
    "tags": []
   },
   "outputs": [
    {
     "data": {
      "text/plain": [
       "<Axes: xlabel='cp', ylabel='count'>"
      ]
     },
     "execution_count": 20,
     "metadata": {},
     "output_type": "execute_result"
    },
    {
     "data": {
      "image/png": "[encoded data removed]",
      "text/plain": [
       "<Figure size 800x550 with 1 Axes>"
      ]
     },
     "metadata": {},
     "output_type": "display_data"
    }
   ],
   "source": [
    "# count plot of cp column by dataset column\n",
    "sns.countplot(df,x='cp',hue='dataset')"
   ]
  },
  {
   "cell_type": "markdown",
   "id": "046ae895",
   "metadata": {
    "papermill": {
     "duration": 0.031381,
     "end_time": "2024-04-28T09:34:37.889780",
     "exception": false,
     "start_time": "2024-04-28T09:34:37.858399",
     "status": "completed"
    },
    "tags": []
   },
   "source": []
  },
  {
   "cell_type": "code",
   "execution_count": 21,
   "id": "310c5afc",
   "metadata": {
    "execution": {
     "iopub.execute_input": "2024-04-28T09:34:37.954722Z",
     "iopub.status.busy": "2024-04-28T09:34:37.954348Z",
     "iopub.status.idle": "2024-04-28T09:34:38.038010Z",
     "shell.execute_reply": "2024-04-28T09:34:38.037088Z"
    },
    "papermill": {
     "duration": 0.117712,
     "end_time": "2024-04-28T09:34:38.040078",
     "exception": false,
     "start_time": "2024-04-28T09:34:37.922366",
     "status": "completed"
    },
    "tags": []
   },
   "outputs": [
    {
     "data": {
      "text/html": [
       "<div>                            <div id=\"20eff965-0729-41fa-ad96-17ad8a78c156\" class=\"plotly-graph-div\" style=\"height:525px; width:100%;\"></div>            <script type=\"text/javascript\">                require([\"plotly\"], function(Plotly) {                    window.PLOTLYENV=window.PLOTLYENV || {};                                    if (document.getElementById(\"20eff965-0729-41fa-ad96-17ad8a78c156\")) {                    Plotly.newPlot(                        \"20eff965-0729-41fa-ad96-17ad8a78c156\",                        [{\"alignmentgroup\":\"True\",\"bingroup\":\"x\",\"hovertemplate\":\"cp=typical angina\\u003cbr\\u003eage=%{x}\\u003cbr\\u003ecount=%{y}\\u003cextra\\u003e\\u003c\\u002fextra\\u003e\",\"legendgroup\":\"typical angina\",\"marker\":{\"color\":\"#636efa\",\"pattern\":{\"shape\":\"\"}},\"name\":\"typical angina\",\"offsetgroup\":\"typical angina\",\"orientation\":\"v\",\"showlegend\":true,\"x\":[63,64,58,66,69,40,51,34,52,65,59,52,42,59,69,59,38,56,61,60,59,64,45,30,35,43,47,54,57,62,34,43,46,55,32,62,62,67,67,65,49,62,61,68,74,62],\"xaxis\":\"x\",\"yaxis\":\"y\",\"type\":\"histogram\"},{\"alignmentgroup\":\"True\",\"bingroup\":\"x\",\"hovertemplate\":\"cp=asymptomatic\\u003cbr\\u003eage=%{x}\\u003cbr\\u003ecount=%{y}\\u003cextra\\u003e\\u003c\\u002fextra\\u003e\",\"legendgroup\":\"asymptomatic\",\"marker\":{\"color\":\"#EF553B\",\"pattern\":{\"shape\":\"\"}},\"name\":\"asymptomatic\",\"offsetgroup\":\"asymptomatic\",\"orientation\":\"v\",\"showlegend\":true,\"x\":[67,67,62,57,63,53,57,54,60,43,40,60,59,42,43,57,55,65,61,50,65,44,60,54,41,51,58,54,60,59,67,62,65,44,60,58,45,53,53,66,62,52,59,60,48,45,57,59,61,39,61,56,43,35,63,65,48,63,55,56,54,62,51,70,35,57,42,55,64,70,51,58,60,77,58,57,35,53,59,62,64,57,52,56,48,56,60,51,43,62,67,45,50,64,43,45,58,50,62,66,52,46,64,59,53,63,47,54,66,55,54,56,46,49,67,58,47,52,57,58,64,43,67,61,42,52,40,61,66,46,71,58,57,55,61,58,58,44,63,63,59,57,68,57,35,37,37,37,39,39,41,42,44,44,45,45,45,46,46,46,46,47,48,48,48,49,49,50,50,50,51,52,53,53,53,54,55,55,56,57,58,59,61,61,31,33,37,38,38,38,40,41,41,43,46,46,46,47,48,48,48,49,50,51,52,54,54,55,59,60,63,65,32,38,39,40,45,46,46,48,48,48,48,50,52,52,53,54,54,54,54,55,56,57,58,41,43,44,48,49,49,52,52,52,52,53,54,55,56,56,59,59,65,66,41,43,44,47,47,49,49,50,50,52,52,56,65,34,35,36,38,38,38,38,40,41,42,42,43,43,43,46,46,47,47,48,50,50,50,50,51,51,51,51,51,51,51,52,52,52,52,53,53,53,53,54,54,54,55,55,55,56,56,56,56,56,57,57,57,57,57,58,58,58,59,59,59,59,60,60,60,60,60,61,61,61,61,61,61,61,61,62,62,62,62,63,63,63,63,63,64,64,64,65,65,65,65,66,66,68,68,69,69,70,70,63,44,60,55,65,59,62,57,62,63,46,63,60,58,64,69,51,60,56,54,77,63,64,60,60,58,59,40,61,41,57,63,59,51,62,53,68,53,59,51,61,57,58,65,57,54,75,60,64,58,61,67,62,65,63,69,51,62,75,67,58,60,63,43,65,63,64,61,50,59,55,65,72,50,64,55,63,59,56,74,54,57,54,70,48,66,55,75,64,59,55,57,61,41,71,38,55,56,69,64,72,69,56,62,67,57,69,51,48,69,64,53,67,58,61,64,58,60,57,55,56,57,74,51,62,53,62,46,54,55,58],\"xaxis\":\"x\",\"yaxis\":\"y\",\"type\":\"histogram\"},{\"alignmentgroup\":\"True\",\"bingroup\":\"x\",\"hovertemplate\":\"cp=non-anginal\\u003cbr\\u003eage=%{x}\\u003cbr\\u003ecount=%{y}\\u003cextra\\u003e\\u003c\\u002fextra\\u003e\",\"legendgroup\":\"non-anginal\",\"marker\":{\"color\":\"#00cc96\",\"pattern\":{\"shape\":\"\"}},\"name\":\"non-anginal\",\"offsetgroup\":\"non-anginal\",\"orientation\":\"v\",\"showlegend\":true,\"x\":[37,56,52,57,48,58,50,58,64,44,61,59,58,51,65,53,50,54,46,54,60,54,46,65,65,51,39,68,44,47,53,51,62,44,63,71,49,57,62,58,51,54,51,43,51,64,58,47,41,60,67,68,54,48,52,70,43,53,42,69,50,68,57,64,37,41,41,54,39,67,52,49,54,60,51,42,76,44,44,59,42,66,39,47,67,38,33,36,36,36,37,37,38,39,39,39,40,40,40,42,42,42,43,45,46,46,47,48,48,49,49,51,51,51,52,52,53,53,54,54,55,55,56,56,56,58,59,59,60,47,49,49,50,58,54,58,47,51,53,54,38,38,45,47,47,53,53,56,56,56,57,59,60,61,62,72,73,66,66,60,60,63,63,74,52,55,55,52,61,59,42,55,60,56,69,72,51,55,40,35,63,68,48,45,49,62,62,76,48,62,71,53,58,56,58,54,69,37,74,55,61,61,58,68],\"xaxis\":\"x\",\"yaxis\":\"y\",\"type\":\"histogram\"},{\"alignmentgroup\":\"True\",\"bingroup\":\"x\",\"hovertemplate\":\"cp=atypical angina\\u003cbr\\u003eage=%{x}\\u003cbr\\u003ecount=%{y}\\u003cextra\\u003e\\u003c\\u002fextra\\u003e\",\"legendgroup\":\"atypical angina\",\"marker\":{\"color\":\"#ab63fa\",\"pattern\":{\"shape\":\"\"}},\"name\":\"atypical angina\",\"offsetgroup\":\"atypical angina\",\"orientation\":\"v\",\"showlegend\":true,\"x\":[41,56,56,44,48,49,58,71,41,44,48,52,52,54,41,45,44,29,55,62,59,52,45,46,54,45,63,66,54,50,55,46,34,74,49,42,41,41,62,70,57,58,57,35,58,56,56,55,41,57,28,29,29,31,32,32,32,34,34,34,35,35,36,37,37,38,38,39,39,39,39,39,40,40,41,41,41,41,41,41,42,42,42,43,43,43,43,43,43,44,44,45,45,45,46,47,47,48,48,48,48,48,48,49,49,49,49,50,50,50,50,51,51,51,52,52,52,52,52,53,53,53,53,54,54,54,54,54,54,54,54,54,54,54,54,55,55,55,55,55,55,56,57,58,58,59,59,62,35,36,57,44,55,56,58,58,53,53,55,74,60,56,63,56,62,58,63,55,61,61,54,57,63,62],\"xaxis\":\"x\",\"yaxis\":\"y\",\"type\":\"histogram\"}],                        {\"template\":{\"data\":{\"histogram2dcontour\":[{\"type\":\"histogram2dcontour\",\"colorbar\":{\"outlinewidth\":0,\"ticks\":\"\"},\"colorscale\":[[0.0,\"#0d0887\"],[0.1111111111111111,\"#46039f\"],[0.2222222222222222,\"#7201a8\"],[0.3333333333333333,\"#9c179e\"],[0.4444444444444444,\"#bd3786\"],[0.5555555555555556,\"#d8576b\"],[0.6666666666666666,\"#ed7953\"],[0.7777777777777778,\"#fb9f3a\"],[0.8888888888888888,\"#fdca26\"],[1.0,\"#f0f921\"]]}],\"choropleth\":[{\"type\":\"choropleth\",\"colorbar\":{\"outlinewidth\":0,\"ticks\":\"\"}}],\"histogram2d\":[{\"type\":\"histogram2d\",\"colorbar\":{\"outlinewidth\":0,\"ticks\":\"\"},\"colorscale\":[[0.0,\"#0d0887\"],[0.1111111111111111,\"#46039f\"],[0.2222222222222222,\"#7201a8\"],[0.3333333333333333,\"#9c179e\"],[0.4444444444444444,\"#bd3786\"],[0.5555555555555556,\"#d8576b\"],[0.6666666666666666,\"#ed7953\"],[0.7777777777777778,\"#fb9f3a\"],[0.8888888888888888,\"#fdca26\"],[1.0,\"#f0f921\"]]}],\"heatmap\":[{\"type\":\"heatmap\",\"colorbar\":{\"outlinewidth\":0,\"ticks\":\"\"},\"colorscale\":[[0.0,\"#0d0887\"],[0.1111111111111111,\"#46039f\"],[0.2222222222222222,\"#7201a8\"],[0.3333333333333333,\"#9c179e\"],[0.4444444444444444,\"#bd3786\"],[0.5555555555555556,\"#d8576b\"],[0.6666666666666666,\"#ed7953\"],[0.7777777777777778,\"#fb9f3a\"],[0.8888888888888888,\"#fdca26\"],[1.0,\"#f0f921\"]]}],\"heatmapgl\":[{\"type\":\"heatmapgl\",\"colorbar\":{\"outlinewidth\":0,\"ticks\":\"\"},\"colorscale\":[[0.0,\"#0d0887\"],[0.1111111111111111,\"#46039f\"],[0.2222222222222222,\"#7201a8\"],[0.3333333333333333,\"#9c179e\"],[0.4444444444444444,\"#bd3786\"],[0.5555555555555556,\"#d8576b\"],[0.6666666666666666,\"#ed7953\"],[0.7777777777777778,\"#fb9f3a\"],[0.8888888888888888,\"#fdca26\"],[1.0,\"#f0f921\"]]}],\"contourcarpet\":[{\"type\":\"contourcarpet\",\"colorbar\":{\"outlinewidth\":0,\"ticks\":\"\"}}],\"contour\":[{\"type\":\"contour\",\"colorbar\":{\"outlinewidth\":0,\"ticks\":\"\"},\"colorscale\":[[0.0,\"#0d0887\"],[0.1111111111111111,\"#46039f\"],[0.2222222222222222,\"#7201a8\"],[0.3333333333333333,\"#9c179e\"],[0.4444444444444444,\"#bd3786\"],[0.5555555555555556,\"#d8576b\"],[0.6666666666666666,\"#ed7953\"],[0.7777777777777778,\"#fb9f3a\"],[0.8888888888888888,\"#fdca26\"],[1.0,\"#f0f921\"]]}],\"surface\":[{\"type\":\"surface\",\"colorbar\":{\"outlinewidth\":0,\"ticks\":\"\"},\"colorscale\":[[0.0,\"#0d0887\"],[0.1111111111111111,\"#46039f\"],[0.2222222222222222,\"#7201a8\"],[0.3333333333333333,\"#9c179e\"],[0.4444444444444444,\"#bd3786\"],[0.5555555555555556,\"#d8576b\"],[0.6666666666666666,\"#ed7953\"],[0.7777777777777778,\"#fb9f3a\"],[0.8888888888888888,\"#fdca26\"],[1.0,\"#f0f921\"]]}],\"mesh3d\":[{\"type\":\"mesh3d\",\"colorbar\":{\"outlinewidth\":0,\"ticks\":\"\"}}],\"scatter\":[{\"fillpattern\":{\"fillmode\":\"overlay\",\"size\":10,\"solidity\":0.2},\"type\":\"scatter\"}],\"parcoords\":[{\"type\":\"parcoords\",\"line\":{\"colorbar\":{\"outlinewidth\":0,\"ticks\":\"\"}}}],\"scatterpolargl\":[{\"type\":\"scatterpolargl\",\"marker\":{\"colorbar\":{\"outlinewidth\":0,\"ticks\":\"\"}}}],\"bar\":[{\"error_x\":{\"color\":\"#2a3f5f\"},\"error_y\":{\"color\":\"#2a3f5f\"},\"marker\":{\"line\":{\"color\":\"#E5ECF6\",\"width\":0.5},\"pattern\":{\"fillmode\":\"overlay\",\"size\":10,\"solidity\":0.2}},\"type\":\"bar\"}],\"scattergeo\":[{\"type\":\"scattergeo\",\"marker\":{\"colorbar\":{\"outlinewidth\":0,\"ticks\":\"\"}}}],\"scatterpolar\":[{\"type\":\"scatterpolar\",\"marker\":{\"colorbar\":{\"outlinewidth\":0,\"ticks\":\"\"}}}],\"histogram\":[{\"marker\":{\"pattern\":{\"fillmode\":\"overlay\",\"size\":10,\"solidity\":0.2}},\"type\":\"histogram\"}],\"scattergl\":[{\"type\":\"scattergl\",\"marker\":{\"colorbar\":{\"outlinewidth\":0,\"ticks\":\"\"}}}],\"scatter3d\":[{\"type\":\"scatter3d\",\"line\":{\"colorbar\":{\"outlinewidth\":0,\"ticks\":\"\"}},\"marker\":{\"colorbar\":{\"outlinewidth\":0,\"ticks\":\"\"}}}],\"scattermapbox\":[{\"type\":\"scattermapbox\",\"marker\":{\"colorbar\":{\"outlinewidth\":0,\"ticks\":\"\"}}}],\"scatterternary\":[{\"type\":\"scatterternary\",\"marker\":{\"colorbar\":{\"outlinewidth\":0,\"ticks\":\"\"}}}],\"scattercarpet\":[{\"type\":\"scattercarpet\",\"marker\":{\"colorbar\":{\"outlinewidth\":0,\"ticks\":\"\"}}}],\"carpet\":[{\"aaxis\":{\"endlinecolor\":\"#2a3f5f\",\"gridcolor\":\"white\",\"linecolor\":\"white\",\"minorgridcolor\":\"white\",\"startlinecolor\":\"#2a3f5f\"},\"baxis\":{\"endlinecolor\":\"#2a3f5f\",\"gridcolor\":\"white\",\"linecolor\":\"white\",\"minorgridcolor\":\"white\",\"startlinecolor\":\"#2a3f5f\"},\"type\":\"carpet\"}],\"table\":[{\"cells\":{\"fill\":{\"color\":\"#EBF0F8\"},\"line\":{\"color\":\"white\"}},\"header\":{\"fill\":{\"color\":\"#C8D4E3\"},\"line\":{\"color\":\"white\"}},\"type\":\"table\"}],\"barpolar\":[{\"marker\":{\"line\":{\"color\":\"#E5ECF6\",\"width\":0.5},\"pattern\":{\"fillmode\":\"overlay\",\"size\":10,\"solidity\":0.2}},\"type\":\"barpolar\"}],\"pie\":[{\"automargin\":true,\"type\":\"pie\"}]},\"layout\":{\"autotypenumbers\":\"strict\",\"colorway\":[\"#636efa\",\"#EF553B\",\"#00cc96\",\"#ab63fa\",\"#FFA15A\",\"#19d3f3\",\"#FF6692\",\"#B6E880\",\"#FF97FF\",\"#FECB52\"],\"font\":{\"color\":\"#2a3f5f\"},\"hovermode\":\"closest\",\"hoverlabel\":{\"align\":\"left\"},\"paper_bgcolor\":\"white\",\"plot_bgcolor\":\"#E5ECF6\",\"polar\":{\"bgcolor\":\"#E5ECF6\",\"angularaxis\":{\"gridcolor\":\"white\",\"linecolor\":\"white\",\"ticks\":\"\"},\"radialaxis\":{\"gridcolor\":\"white\",\"linecolor\":\"white\",\"ticks\":\"\"}},\"ternary\":{\"bgcolor\":\"#E5ECF6\",\"aaxis\":{\"gridcolor\":\"white\",\"linecolor\":\"white\",\"ticks\":\"\"},\"baxis\":{\"gridcolor\":\"white\",\"linecolor\":\"white\",\"ticks\":\"\"},\"caxis\":{\"gridcolor\":\"white\",\"linecolor\":\"white\",\"ticks\":\"\"}},\"coloraxis\":{\"colorbar\":{\"outlinewidth\":0,\"ticks\":\"\"}},\"colorscale\":{\"sequential\":[[0.0,\"#0d0887\"],[0.1111111111111111,\"#46039f\"],[0.2222222222222222,\"#7201a8\"],[0.3333333333333333,\"#9c179e\"],[0.4444444444444444,\"#bd3786\"],[0.5555555555555556,\"#d8576b\"],[0.6666666666666666,\"#ed7953\"],[0.7777777777777778,\"#fb9f3a\"],[0.8888888888888888,\"#fdca26\"],[1.0,\"#f0f921\"]],\"sequentialminus\":[[0.0,\"#0d0887\"],[0.1111111111111111,\"#46039f\"],[0.2222222222222222,\"#7201a8\"],[0.3333333333333333,\"#9c179e\"],[0.4444444444444444,\"#bd3786\"],[0.5555555555555556,\"#d8576b\"],[0.6666666666666666,\"#ed7953\"],[0.7777777777777778,\"#fb9f3a\"],[0.8888888888888888,\"#fdca26\"],[1.0,\"#f0f921\"]],\"diverging\":[[0,\"#8e0152\"],[0.1,\"#c51b7d\"],[0.2,\"#de77ae\"],[0.3,\"#f1b6da\"],[0.4,\"#fde0ef\"],[0.5,\"#f7f7f7\"],[0.6,\"#e6f5d0\"],[0.7,\"#b8e186\"],[0.8,\"#7fbc41\"],[0.9,\"#4d9221\"],[1,\"#276419\"]]},\"xaxis\":{\"gridcolor\":\"white\",\"linecolor\":\"white\",\"ticks\":\"\",\"title\":{\"standoff\":15},\"zerolinecolor\":\"white\",\"automargin\":true,\"zerolinewidth\":2},\"yaxis\":{\"gridcolor\":\"white\",\"linecolor\":\"white\",\"ticks\":\"\",\"title\":{\"standoff\":15},\"zerolinecolor\":\"white\",\"automargin\":true,\"zerolinewidth\":2},\"scene\":{\"xaxis\":{\"backgroundcolor\":\"#E5ECF6\",\"gridcolor\":\"white\",\"linecolor\":\"white\",\"showbackground\":true,\"ticks\":\"\",\"zerolinecolor\":\"white\",\"gridwidth\":2},\"yaxis\":{\"backgroundcolor\":\"#E5ECF6\",\"gridcolor\":\"white\",\"linecolor\":\"white\",\"showbackground\":true,\"ticks\":\"\",\"zerolinecolor\":\"white\",\"gridwidth\":2},\"zaxis\":{\"backgroundcolor\":\"#E5ECF6\",\"gridcolor\":\"white\",\"linecolor\":\"white\",\"showbackground\":true,\"ticks\":\"\",\"zerolinecolor\":\"white\",\"gridwidth\":2}},\"shapedefaults\":{\"line\":{\"color\":\"#2a3f5f\"}},\"annotationdefaults\":{\"arrowcolor\":\"#2a3f5f\",\"arrowhead\":0,\"arrowwidth\":1},\"geo\":{\"bgcolor\":\"white\",\"landcolor\":\"#E5ECF6\",\"subunitcolor\":\"white\",\"showland\":true,\"showlakes\":true,\"lakecolor\":\"white\"},\"title\":{\"x\":0.05},\"mapbox\":{\"style\":\"light\"}}},\"xaxis\":{\"anchor\":\"y\",\"domain\":[0.0,1.0],\"title\":{\"text\":\"age\"}},\"yaxis\":{\"anchor\":\"x\",\"domain\":[0.0,1.0],\"title\":{\"text\":\"count\"}},\"legend\":{\"title\":{\"text\":\"cp\"},\"tracegroupgap\":0},\"margin\":{\"t\":60},\"barmode\":\"relative\"},                        {\"responsive\": true}                    ).then(function(){\n",
       "                            \n",
       "var gd = document.getElementById('20eff965-0729-41fa-ad96-17ad8a78c156');\n",
       "var x = new MutationObserver(function (mutations, observer) {{\n",
       "        var display = window.getComputedStyle(gd).display;\n",
       "        if (!display || display === 'none') {{\n",
       "            console.log([gd, 'removed!']);\n",
       "            Plotly.purge(gd);\n",
       "            observer.disconnect();\n",
       "        }}\n",
       "}});\n",
       "\n",
       "// Listen for the removal of the full notebook cells\n",
       "var notebookContainer = gd.closest('#notebook-container');\n",
       "if (notebookContainer) {{\n",
       "    x.observe(notebookContainer, {childList: true});\n",
       "}}\n",
       "\n",
       "// Listen for the clearing of the current output cell\n",
       "var outputEl = gd.closest('.output');\n",
       "if (outputEl) {{\n",
       "    x.observe(outputEl, {childList: true});\n",
       "}}\n",
       "\n",
       "                        })                };                });            </script>        </div>"
      ]
     },
     "metadata": {},
     "output_type": "display_data"
    }
   ],
   "source": [
    "# Draw the plot of age column group by cp column\n",
    "\n",
    "fig = px.histogram(data_frame=df, x='age', color='cp')\n",
    "fig.show()"
   ]
  },
  {
   "cell_type": "markdown",
   "id": "1cfcc079",
   "metadata": {
    "papermill": {
     "duration": 0.030657,
     "end_time": "2024-04-28T09:34:38.103520",
     "exception": false,
     "start_time": "2024-04-28T09:34:38.072863",
     "status": "completed"
    },
    "tags": []
   },
   "source": [
    "### Let's explore the trestbps (resting blood pressure) column:\n",
    "\n",
    "The normal resting blood pressure is 120/80 mm Hg.\\\n",
    "`Write here, what will happen if the blood pressure is high or low and then you canbin the data based on the those values.`"
   ]
  },
  {
   "cell_type": "code",
   "execution_count": 22,
   "id": "8169ac46",
   "metadata": {
    "execution": {
     "iopub.execute_input": "2024-04-28T09:34:38.168844Z",
     "iopub.status.busy": "2024-04-28T09:34:38.168140Z",
     "iopub.status.idle": "2024-04-28T09:34:38.179331Z",
     "shell.execute_reply": "2024-04-28T09:34:38.178298Z"
    },
    "papermill": {
     "duration": 0.046593,
     "end_time": "2024-04-28T09:34:38.181447",
     "exception": false,
     "start_time": "2024-04-28T09:34:38.134854",
     "status": "completed"
    },
    "tags": []
   },
   "outputs": [
    {
     "data": {
      "text/plain": [
       "count    861.000000\n",
       "mean     132.132404\n",
       "std       19.066070\n",
       "min        0.000000\n",
       "25%      120.000000\n",
       "50%      130.000000\n",
       "75%      140.000000\n",
       "max      200.000000\n",
       "Name: trestbps, dtype: float64"
      ]
     },
     "execution_count": 22,
     "metadata": {},
     "output_type": "execute_result"
    }
   ],
   "source": [
    "# lets summerize the trestbps column\n",
    "df['trestbps'].describe()"
   ]
  },
  {
   "cell_type": "markdown",
   "id": "8b07dd6a",
   "metadata": {
    "papermill": {
     "duration": 0.03304,
     "end_time": "2024-04-28T09:34:38.247753",
     "exception": false,
     "start_time": "2024-04-28T09:34:38.214713",
     "status": "completed"
    },
    "tags": []
   },
   "source": [
    "### **Handling missing values in trestbps column**"
   ]
  },
  {
   "cell_type": "markdown",
   "id": "26f5059f",
   "metadata": {
    "papermill": {
     "duration": 0.030317,
     "end_time": "2024-04-28T09:34:38.308030",
     "exception": false,
     "start_time": "2024-04-28T09:34:38.277713",
     "status": "completed"
    },
    "tags": []
   },
   "source": [
    "There are some missing values becuase total values is 920 but here we have 861"
   ]
  },
  {
   "cell_type": "code",
   "execution_count": 23,
   "id": "18d6e800",
   "metadata": {
    "execution": {
     "iopub.execute_input": "2024-04-28T09:34:38.370582Z",
     "iopub.status.busy": "2024-04-28T09:34:38.370259Z",
     "iopub.status.idle": "2024-04-28T09:34:38.375283Z",
     "shell.execute_reply": "2024-04-28T09:34:38.374394Z"
    },
    "papermill": {
     "duration": 0.039639,
     "end_time": "2024-04-28T09:34:38.377759",
     "exception": false,
     "start_time": "2024-04-28T09:34:38.338120",
     "status": "completed"
    },
    "tags": []
   },
   "outputs": [
    {
     "name": "stdout",
     "output_type": "stream",
     "text": [
      "Percentage of missing values in trestbps column: 6.41%\n"
     ]
    }
   ],
   "source": [
    "# Dealing with Missing values in trestbps column.\n",
    "# find the percentage of misssing values in trestbps column\n",
    "print(f\"Percentage of missing values in trestbps column: {df['trestbps'].isnull().sum() /len(df) *100:.2f}%\")"
   ]
  },
  {
   "cell_type": "markdown",
   "id": "e49731c8",
   "metadata": {
    "papermill": {
     "duration": 0.030917,
     "end_time": "2024-04-28T09:34:38.439798",
     "exception": false,
     "start_time": "2024-04-28T09:34:38.408881",
     "status": "completed"
    },
    "tags": []
   },
   "source": [
    "`Removing missing values using Iterative imputer`"
   ]
  },
  {
   "cell_type": "code",
   "execution_count": 24,
   "id": "d7d7a723",
   "metadata": {
    "execution": {
     "iopub.execute_input": "2024-04-28T09:34:38.502758Z",
     "iopub.status.busy": "2024-04-28T09:34:38.502197Z",
     "iopub.status.idle": "2024-04-28T09:34:38.516314Z",
     "shell.execute_reply": "2024-04-28T09:34:38.515228Z"
    },
    "papermill": {
     "duration": 0.048528,
     "end_time": "2024-04-28T09:34:38.518358",
     "exception": false,
     "start_time": "2024-04-28T09:34:38.469830",
     "status": "completed"
    },
    "tags": []
   },
   "outputs": [
    {
     "name": "stdout",
     "output_type": "stream",
     "text": [
      "Missing values in trestbps column: 0\n"
     ]
    }
   ],
   "source": [
    "# Impute the missing values of trestbps column using iterative imputer\n",
    "# create an object of iteratvie imputer\n",
    "imputer1 = IterativeImputer(max_iter=10, random_state=42)\n",
    "\n",
    "# Fit the imputer on trestbps column\n",
    "imputer1.fit(df[['trestbps']])\n",
    "\n",
    "# Transform the data\n",
    "df['trestbps'] = imputer1.transform(df[['trestbps']])\n",
    "\n",
    "# Check the missing values in trestbps column\n",
    "print(f\"Missing values in trestbps column: {df['trestbps'].isnull().sum()}\")\n"
   ]
  },
  {
   "cell_type": "markdown",
   "id": "771916f9",
   "metadata": {
    "papermill": {
     "duration": 0.031771,
     "end_time": "2024-04-28T09:34:38.581881",
     "exception": false,
     "start_time": "2024-04-28T09:34:38.550110",
     "status": "completed"
    },
    "tags": []
   },
   "source": [
    "`Let impute other columns with missing values:`"
   ]
  },
  {
   "cell_type": "code",
   "execution_count": 25,
   "id": "555bce73",
   "metadata": {
    "execution": {
     "iopub.execute_input": "2024-04-28T09:34:38.647548Z",
     "iopub.status.busy": "2024-04-28T09:34:38.646947Z",
     "iopub.status.idle": "2024-04-28T09:34:38.658793Z",
     "shell.execute_reply": "2024-04-28T09:34:38.657524Z"
    },
    "papermill": {
     "duration": 0.047026,
     "end_time": "2024-04-28T09:34:38.660822",
     "exception": false,
     "start_time": "2024-04-28T09:34:38.613796",
     "status": "completed"
    },
    "tags": []
   },
   "outputs": [
    {
     "name": "stdout",
     "output_type": "stream",
     "text": [
      "<class 'pandas.core.frame.DataFrame'>\n",
      "RangeIndex: 920 entries, 0 to 919\n",
      "Data columns (total 16 columns):\n",
      " #   Column    Non-Null Count  Dtype  \n",
      "---  ------    --------------  -----  \n",
      " 0   id        920 non-null    int64  \n",
      " 1   age       920 non-null    int64  \n",
      " 2   sex       920 non-null    object \n",
      " 3   dataset   920 non-null    object \n",
      " 4   cp        920 non-null    object \n",
      " 5   trestbps  920 non-null    float64\n",
      " 6   chol      890 non-null    float64\n",
      " 7   fbs       830 non-null    object \n",
      " 8   restecg   918 non-null    object \n",
      " 9   thalch    865 non-null    float64\n",
      " 10  exang     865 non-null    object \n",
      " 11  oldpeak   858 non-null    float64\n",
      " 12  slope     611 non-null    object \n",
      " 13  ca        309 non-null    float64\n",
      " 14  thal      434 non-null    object \n",
      " 15  num       920 non-null    int64  \n",
      "dtypes: float64(5), int64(3), object(8)\n",
      "memory usage: 115.1+ KB\n"
     ]
    }
   ],
   "source": [
    "# First lets see data types or category of columns\n",
    "df.info()"
   ]
  },
  {
   "cell_type": "code",
   "execution_count": 26,
   "id": "4755f658",
   "metadata": {
    "execution": {
     "iopub.execute_input": "2024-04-28T09:34:38.726276Z",
     "iopub.status.busy": "2024-04-28T09:34:38.725958Z",
     "iopub.status.idle": "2024-04-28T09:34:38.736077Z",
     "shell.execute_reply": "2024-04-28T09:34:38.735134Z"
    },
    "papermill": {
     "duration": 0.045304,
     "end_time": "2024-04-28T09:34:38.738430",
     "exception": false,
     "start_time": "2024-04-28T09:34:38.693126",
     "status": "completed"
    },
    "tags": []
   },
   "outputs": [
    {
     "data": {
      "text/plain": [
       "ca          66.413043\n",
       "thal        52.826087\n",
       "slope       33.586957\n",
       "fbs          9.782609\n",
       "oldpeak      6.739130\n",
       "thalch       5.978261\n",
       "exang        5.978261\n",
       "chol         3.260870\n",
       "restecg      0.217391\n",
       "trestbps     0.000000\n",
       "cp           0.000000\n",
       "dataset      0.000000\n",
       "age          0.000000\n",
       "id           0.000000\n",
       "sex          0.000000\n",
       "num          0.000000\n",
       "dtype: float64"
      ]
     },
     "execution_count": 26,
     "metadata": {},
     "output_type": "execute_result"
    }
   ],
   "source": [
    "# let's see which columns has missing values\n",
    "(df.isnull().sum()/ len(df)* 100).sort_values(ascending=False)"
   ]
  },
  {
   "cell_type": "markdown",
   "id": "76da622a",
   "metadata": {
    "papermill": {
     "duration": 0.030972,
     "end_time": "2024-04-28T09:34:38.804167",
     "exception": false,
     "start_time": "2024-04-28T09:34:38.773195",
     "status": "completed"
    },
    "tags": []
   },
   "source": [
    "`Impute missing values using iterative imputer for selected columns.`\n",
    "\n",
    "columns are selected based on data types (floating data type)\n",
    "because imputer only works with the floating data types.\n",
    "\n",
    "selected columns are:\n",
    "1. ca.\n",
    "2. oldpeak\n",
    "3. thal\n",
    "4. chol\n",
    "5. thalch"
   ]
  },
  {
   "cell_type": "code",
   "execution_count": 27,
   "id": "f199a940",
   "metadata": {
    "execution": {
     "iopub.execute_input": "2024-04-28T09:34:38.868612Z",
     "iopub.status.busy": "2024-04-28T09:34:38.868047Z",
     "iopub.status.idle": "2024-04-28T09:34:38.890629Z",
     "shell.execute_reply": "2024-04-28T09:34:38.889822Z"
    },
    "papermill": {
     "duration": 0.057786,
     "end_time": "2024-04-28T09:34:38.892992",
     "exception": false,
     "start_time": "2024-04-28T09:34:38.835206",
     "status": "completed"
    },
    "tags": []
   },
   "outputs": [],
   "source": [
    "# create an object of iterative imputer \n",
    "imputer2 = IterativeImputer(max_iter=10, random_state=42)\n",
    "\n",
    "# fit transform on ca,oldpeak, thal,chol and thalch columns\n",
    "df['ca'] = imputer2.fit_transform(df[['ca']])\n",
    "df['oldpeak']= imputer2.fit_transform(df[['oldpeak']])\n",
    "df['chol'] = imputer2.fit_transform(df[['chol']])\n",
    "df['thalch'] = imputer2.fit_transform(df[['thalch']])\n",
    "\n"
   ]
  },
  {
   "cell_type": "code",
   "execution_count": 28,
   "id": "691a9fb2",
   "metadata": {
    "execution": {
     "iopub.execute_input": "2024-04-28T09:34:38.960883Z",
     "iopub.status.busy": "2024-04-28T09:34:38.960558Z",
     "iopub.status.idle": "2024-04-28T09:34:38.970207Z",
     "shell.execute_reply": "2024-04-28T09:34:38.969307Z"
    },
    "papermill": {
     "duration": 0.044692,
     "end_time": "2024-04-28T09:34:38.972070",
     "exception": false,
     "start_time": "2024-04-28T09:34:38.927378",
     "status": "completed"
    },
    "tags": []
   },
   "outputs": [
    {
     "data": {
      "text/plain": [
       "thal        52.826087\n",
       "slope       33.586957\n",
       "fbs          9.782609\n",
       "exang        5.978261\n",
       "restecg      0.217391\n",
       "id           0.000000\n",
       "sex          0.000000\n",
       "age          0.000000\n",
       "chol         0.000000\n",
       "trestbps     0.000000\n",
       "cp           0.000000\n",
       "dataset      0.000000\n",
       "oldpeak      0.000000\n",
       "thalch       0.000000\n",
       "ca           0.000000\n",
       "num          0.000000\n",
       "dtype: float64"
      ]
     },
     "execution_count": 28,
     "metadata": {},
     "output_type": "execute_result"
    }
   ],
   "source": [
    "# let's check again for missing values\n",
    "(df.isnull().sum()/ len(df)* 100).sort_values(ascending=False)"
   ]
  },
  {
   "cell_type": "markdown",
   "id": "8da158ec",
   "metadata": {
    "papermill": {
     "duration": 0.029926,
     "end_time": "2024-04-28T09:34:39.032261",
     "exception": false,
     "start_time": "2024-04-28T09:34:39.002335",
     "status": "completed"
    },
    "tags": []
   },
   "source": [
    "##### `***Lets impute the missing values in thal column by using ML models***`\n",
    "All the coloumns are imputed which has floating data types and now lets impute the columns which has object data type.\n",
    "\n",
    "* To handle the column having object data type we will use ML models."
   ]
  },
  {
   "cell_type": "code",
   "execution_count": 29,
   "id": "0b5a734c",
   "metadata": {
    "execution": {
     "iopub.execute_input": "2024-04-28T09:34:39.094718Z",
     "iopub.status.busy": "2024-04-28T09:34:39.094426Z",
     "iopub.status.idle": "2024-04-28T09:34:39.099413Z",
     "shell.execute_reply": "2024-04-28T09:34:39.098478Z"
    },
    "papermill": {
     "duration": 0.038878,
     "end_time": "2024-04-28T09:34:39.101385",
     "exception": false,
     "start_time": "2024-04-28T09:34:39.062507",
     "status": "completed"
    },
    "tags": []
   },
   "outputs": [
    {
     "name": "stdout",
     "output_type": "stream",
     "text": [
      "The missing values in thal column are: 486\n"
     ]
    }
   ],
   "source": [
    "print(f\"The missing values in thal column are: {df['thal'].isnull().sum()}\")\n"
   ]
  },
  {
   "cell_type": "code",
   "execution_count": 30,
   "id": "4c07187e",
   "metadata": {
    "execution": {
     "iopub.execute_input": "2024-04-28T09:34:39.166482Z",
     "iopub.status.busy": "2024-04-28T09:34:39.166230Z",
     "iopub.status.idle": "2024-04-28T09:34:39.173418Z",
     "shell.execute_reply": "2024-04-28T09:34:39.172562Z"
    },
    "papermill": {
     "duration": 0.042151,
     "end_time": "2024-04-28T09:34:39.175365",
     "exception": false,
     "start_time": "2024-04-28T09:34:39.133214",
     "status": "completed"
    },
    "tags": []
   },
   "outputs": [
    {
     "data": {
      "text/plain": [
       "thal\n",
       "normal               196\n",
       "reversable defect    192\n",
       "fixed defect          46\n",
       "Name: count, dtype: int64"
      ]
     },
     "execution_count": 30,
     "metadata": {},
     "output_type": "execute_result"
    }
   ],
   "source": [
    "df['thal'].value_counts()"
   ]
  },
  {
   "cell_type": "code",
   "execution_count": 31,
   "id": "aea3a6ca",
   "metadata": {
    "execution": {
     "iopub.execute_input": "2024-04-28T09:34:39.240250Z",
     "iopub.status.busy": "2024-04-28T09:34:39.239731Z",
     "iopub.status.idle": "2024-04-28T09:34:39.257801Z",
     "shell.execute_reply": "2024-04-28T09:34:39.256957Z"
    },
    "papermill": {
     "duration": 0.053524,
     "end_time": "2024-04-28T09:34:39.259698",
     "exception": false,
     "start_time": "2024-04-28T09:34:39.206174",
     "status": "completed"
    },
    "tags": []
   },
   "outputs": [
    {
     "data": {
      "text/html": [
       "<div>\n",
       "<style scoped>\n",
       "    .dataframe tbody tr th:only-of-type {\n",
       "        vertical-align: middle;\n",
       "    }\n",
       "\n",
       "    .dataframe tbody tr th {\n",
       "        vertical-align: top;\n",
       "    }\n",
       "\n",
       "    .dataframe thead th {\n",
       "        text-align: right;\n",
       "    }\n",
       "</style>\n",
       "<table border=\"1\" class=\"dataframe\">\n",
       "  <thead>\n",
       "    <tr style=\"text-align: right;\">\n",
       "      <th></th>\n",
       "      <th>id</th>\n",
       "      <th>age</th>\n",
       "      <th>sex</th>\n",
       "      <th>dataset</th>\n",
       "      <th>cp</th>\n",
       "      <th>trestbps</th>\n",
       "      <th>chol</th>\n",
       "      <th>fbs</th>\n",
       "      <th>restecg</th>\n",
       "      <th>thalch</th>\n",
       "      <th>exang</th>\n",
       "      <th>oldpeak</th>\n",
       "      <th>slope</th>\n",
       "      <th>ca</th>\n",
       "      <th>thal</th>\n",
       "      <th>num</th>\n",
       "    </tr>\n",
       "  </thead>\n",
       "  <tbody>\n",
       "    <tr>\n",
       "      <th>915</th>\n",
       "      <td>916</td>\n",
       "      <td>54</td>\n",
       "      <td>Female</td>\n",
       "      <td>VA Long Beach</td>\n",
       "      <td>asymptomatic</td>\n",
       "      <td>127.000000</td>\n",
       "      <td>333.0</td>\n",
       "      <td>True</td>\n",
       "      <td>st-t abnormality</td>\n",
       "      <td>154.000000</td>\n",
       "      <td>False</td>\n",
       "      <td>0.000000</td>\n",
       "      <td>NaN</td>\n",
       "      <td>0.676375</td>\n",
       "      <td>NaN</td>\n",
       "      <td>1</td>\n",
       "    </tr>\n",
       "    <tr>\n",
       "      <th>916</th>\n",
       "      <td>917</td>\n",
       "      <td>62</td>\n",
       "      <td>Male</td>\n",
       "      <td>VA Long Beach</td>\n",
       "      <td>typical angina</td>\n",
       "      <td>132.132404</td>\n",
       "      <td>139.0</td>\n",
       "      <td>False</td>\n",
       "      <td>st-t abnormality</td>\n",
       "      <td>137.545665</td>\n",
       "      <td>NaN</td>\n",
       "      <td>0.878788</td>\n",
       "      <td>NaN</td>\n",
       "      <td>0.676375</td>\n",
       "      <td>NaN</td>\n",
       "      <td>0</td>\n",
       "    </tr>\n",
       "    <tr>\n",
       "      <th>917</th>\n",
       "      <td>918</td>\n",
       "      <td>55</td>\n",
       "      <td>Male</td>\n",
       "      <td>VA Long Beach</td>\n",
       "      <td>asymptomatic</td>\n",
       "      <td>122.000000</td>\n",
       "      <td>223.0</td>\n",
       "      <td>True</td>\n",
       "      <td>st-t abnormality</td>\n",
       "      <td>100.000000</td>\n",
       "      <td>False</td>\n",
       "      <td>0.000000</td>\n",
       "      <td>NaN</td>\n",
       "      <td>0.676375</td>\n",
       "      <td>fixed defect</td>\n",
       "      <td>2</td>\n",
       "    </tr>\n",
       "    <tr>\n",
       "      <th>918</th>\n",
       "      <td>919</td>\n",
       "      <td>58</td>\n",
       "      <td>Male</td>\n",
       "      <td>VA Long Beach</td>\n",
       "      <td>asymptomatic</td>\n",
       "      <td>132.132404</td>\n",
       "      <td>385.0</td>\n",
       "      <td>True</td>\n",
       "      <td>lv hypertrophy</td>\n",
       "      <td>137.545665</td>\n",
       "      <td>NaN</td>\n",
       "      <td>0.878788</td>\n",
       "      <td>NaN</td>\n",
       "      <td>0.676375</td>\n",
       "      <td>NaN</td>\n",
       "      <td>0</td>\n",
       "    </tr>\n",
       "    <tr>\n",
       "      <th>919</th>\n",
       "      <td>920</td>\n",
       "      <td>62</td>\n",
       "      <td>Male</td>\n",
       "      <td>VA Long Beach</td>\n",
       "      <td>atypical angina</td>\n",
       "      <td>120.000000</td>\n",
       "      <td>254.0</td>\n",
       "      <td>False</td>\n",
       "      <td>lv hypertrophy</td>\n",
       "      <td>93.000000</td>\n",
       "      <td>True</td>\n",
       "      <td>0.000000</td>\n",
       "      <td>NaN</td>\n",
       "      <td>0.676375</td>\n",
       "      <td>NaN</td>\n",
       "      <td>1</td>\n",
       "    </tr>\n",
       "  </tbody>\n",
       "</table>\n",
       "</div>"
      ],
      "text/plain": [
       "      id  age     sex        dataset               cp    trestbps   chol  \\\n",
       "915  916   54  Female  VA Long Beach     asymptomatic  127.000000  333.0   \n",
       "916  917   62    Male  VA Long Beach   typical angina  132.132404  139.0   \n",
       "917  918   55    Male  VA Long Beach     asymptomatic  122.000000  223.0   \n",
       "918  919   58    Male  VA Long Beach     asymptomatic  132.132404  385.0   \n",
       "919  920   62    Male  VA Long Beach  atypical angina  120.000000  254.0   \n",
       "\n",
       "       fbs           restecg      thalch  exang   oldpeak slope        ca  \\\n",
       "915   True  st-t abnormality  154.000000  False  0.000000   NaN  0.676375   \n",
       "916  False  st-t abnormality  137.545665    NaN  0.878788   NaN  0.676375   \n",
       "917   True  st-t abnormality  100.000000  False  0.000000   NaN  0.676375   \n",
       "918   True    lv hypertrophy  137.545665    NaN  0.878788   NaN  0.676375   \n",
       "919  False    lv hypertrophy   93.000000   True  0.000000   NaN  0.676375   \n",
       "\n",
       "             thal  num  \n",
       "915           NaN    1  \n",
       "916           NaN    0  \n",
       "917  fixed defect    2  \n",
       "918           NaN    0  \n",
       "919           NaN    1  "
      ]
     },
     "execution_count": 31,
     "metadata": {},
     "output_type": "execute_result"
    }
   ],
   "source": [
    "df.tail()"
   ]
  },
  {
   "cell_type": "markdown",
   "id": "2c44c8e3",
   "metadata": {
    "papermill": {
     "duration": 0.03091,
     "end_time": "2024-04-28T09:34:39.322277",
     "exception": false,
     "start_time": "2024-04-28T09:34:39.291367",
     "status": "completed"
    },
    "tags": []
   },
   "source": [
    "\n",
    "## Dealing with Missing  values (Categorical with Machine learning Models)"
   ]
  },
  {
   "cell_type": "markdown",
   "id": "16f86532",
   "metadata": {
    "papermill": {
     "duration": 0.031608,
     "end_time": "2024-04-28T09:34:39.386428",
     "exception": false,
     "start_time": "2024-04-28T09:34:39.354820",
     "status": "completed"
    },
    "tags": []
   },
   "source": [
    "### Steps: \n",
    "\n",
    "1. FInd the collumns with missing values and store in an object\n",
    "3. FInd the Columns based on data type\n",
    "    1. Numeric columns.\n",
    "    2. Categorical Columns.\n",
    "    3. Boolean.\n",
    "4. Define the function to impute missing values.\n",
    "5. Apply the function to our dataset with missing values.\n",
    "6. Check the missing values after imputation."
   ]
  },
  {
   "cell_type": "code",
   "execution_count": 32,
   "id": "92bff693",
   "metadata": {
    "execution": {
     "iopub.execute_input": "2024-04-28T09:34:39.450314Z",
     "iopub.status.busy": "2024-04-28T09:34:39.449688Z",
     "iopub.status.idle": "2024-04-28T09:34:39.461334Z",
     "shell.execute_reply": "2024-04-28T09:34:39.460506Z"
    },
    "papermill": {
     "duration": 0.045359,
     "end_time": "2024-04-28T09:34:39.463286",
     "exception": false,
     "start_time": "2024-04-28T09:34:39.417927",
     "status": "completed"
    },
    "tags": []
   },
   "outputs": [
    {
     "data": {
      "text/plain": [
       "thal       486\n",
       "slope      309\n",
       "fbs         90\n",
       "exang       55\n",
       "restecg      2\n",
       "dtype: int64"
      ]
     },
     "execution_count": 32,
     "metadata": {},
     "output_type": "execute_result"
    }
   ],
   "source": [
    "# find missing values.\n",
    "df.isnull().sum()[df.isnull().sum()>0].sort_values(ascending=False)\n"
   ]
  },
  {
   "cell_type": "code",
   "execution_count": 33,
   "id": "480aaa10",
   "metadata": {
    "execution": {
     "iopub.execute_input": "2024-04-28T09:34:39.526838Z",
     "iopub.status.busy": "2024-04-28T09:34:39.526332Z",
     "iopub.status.idle": "2024-04-28T09:34:39.536354Z",
     "shell.execute_reply": "2024-04-28T09:34:39.535502Z"
    },
    "papermill": {
     "duration": 0.044272,
     "end_time": "2024-04-28T09:34:39.538317",
     "exception": false,
     "start_time": "2024-04-28T09:34:39.494045",
     "status": "completed"
    },
    "tags": []
   },
   "outputs": [
    {
     "data": {
      "text/plain": [
       "['fbs', 'restecg', 'exang', 'slope', 'thal']"
      ]
     },
     "execution_count": 33,
     "metadata": {},
     "output_type": "execute_result"
    }
   ],
   "source": [
    "\n",
    "missing_data_cols = df.isnull().sum()[df.isnull().sum()>0].index.tolist()\n",
    "\n",
    "missing_data_cols"
   ]
  },
  {
   "cell_type": "code",
   "execution_count": 34,
   "id": "2a831c7b",
   "metadata": {
    "execution": {
     "iopub.execute_input": "2024-04-28T09:34:39.608003Z",
     "iopub.status.busy": "2024-04-28T09:34:39.607712Z",
     "iopub.status.idle": "2024-04-28T09:34:39.615113Z",
     "shell.execute_reply": "2024-04-28T09:34:39.614047Z"
    },
    "papermill": {
     "duration": 0.0453,
     "end_time": "2024-04-28T09:34:39.617203",
     "exception": false,
     "start_time": "2024-04-28T09:34:39.571903",
     "status": "completed"
    },
    "tags": []
   },
   "outputs": [
    {
     "name": "stdout",
     "output_type": "stream",
     "text": [
      "categorical Columns: ['sex', 'dataset', 'cp', 'fbs', 'restecg', 'exang', 'slope', 'thal']\n",
      "numerical Columns: ['id', 'age', 'trestbps', 'chol', 'thalch', 'oldpeak', 'ca', 'num']\n"
     ]
    }
   ],
   "source": [
    "# find categorical Columns\n",
    "cat_cols = df.select_dtypes(include='object').columns.tolist()\n",
    "cat_cols\n",
    "\n",
    "# find Numerical Columns\n",
    "Num_cols = df.select_dtypes(exclude='object').columns.tolist()\n",
    "Num_cols\n",
    "\n",
    "print(f'categorical Columns: {cat_cols}')\n",
    "print(f'numerical Columns: {Num_cols}')"
   ]
  },
  {
   "cell_type": "code",
   "execution_count": 35,
   "id": "a16b0e59",
   "metadata": {
    "execution": {
     "iopub.execute_input": "2024-04-28T09:34:39.688286Z",
     "iopub.status.busy": "2024-04-28T09:34:39.687799Z",
     "iopub.status.idle": "2024-04-28T09:34:39.692757Z",
     "shell.execute_reply": "2024-04-28T09:34:39.691819Z"
    },
    "papermill": {
     "duration": 0.042715,
     "end_time": "2024-04-28T09:34:39.694978",
     "exception": false,
     "start_time": "2024-04-28T09:34:39.652263",
     "status": "completed"
    },
    "tags": []
   },
   "outputs": [],
   "source": [
    "# FInd columns \n",
    "categorical_cols = ['thal', 'ca', 'slope', 'exang', 'restecg','fbs', 'cp', 'sex', 'num']\n",
    "bool_cols = ['fbs', 'exang']\n",
    "numerical_cols = ['oldpeak', 'thalch', 'chol', 'trestbps', 'age']"
   ]
  },
  {
   "cell_type": "markdown",
   "id": "58c4abb4",
   "metadata": {
    "papermill": {
     "duration": 0.035763,
     "end_time": "2024-04-28T09:34:39.765104",
     "exception": false,
     "start_time": "2024-04-28T09:34:39.729341",
     "status": "completed"
    },
    "tags": []
   },
   "source": [
    "### Imputing Missing Values with Machine learning model"
   ]
  },
  {
   "cell_type": "code",
   "execution_count": 36,
   "id": "8dd6a37a",
   "metadata": {
    "execution": {
     "iopub.execute_input": "2024-04-28T09:34:39.833937Z",
     "iopub.status.busy": "2024-04-28T09:34:39.833576Z",
     "iopub.status.idle": "2024-04-28T09:34:39.858470Z",
     "shell.execute_reply": "2024-04-28T09:34:39.857624Z"
    },
    "papermill": {
     "duration": 0.059581,
     "end_time": "2024-04-28T09:34:39.860416",
     "exception": false,
     "start_time": "2024-04-28T09:34:39.800835",
     "status": "completed"
    },
    "tags": []
   },
   "outputs": [],
   "source": [
    "# This function imputes missing values in categorical columnsdef impute_categorical_missing_data(passed_col):\n",
    "passed_col = categorical_cols\n",
    "def impute_categorical_missing_data(passed_col):\n",
    "    \n",
    "    df_null = df[df[passed_col].isnull()]\n",
    "    df_not_null = df[df[passed_col].notnull()]\n",
    "\n",
    "    X = df_not_null.drop(passed_col, axis=1)\n",
    "    y = df_not_null[passed_col]\n",
    "    \n",
    "    other_missing_cols = [col for col in missing_data_cols if col != passed_col]\n",
    "    \n",
    "    label_encoder = LabelEncoder()\n",
    "    for col in X.columns:\n",
    "        if X[col].dtype == 'object' or X[col].dtype == 'category':\n",
    "            X[col] = label_encoder.fit_transform(X[col])\n",
    "\n",
    "    if passed_col in bool_cols:\n",
    "        y = label_encoder.fit_transform(y)\n",
    "        \n",
    "    iterative_imputer = IterativeImputer(estimator=RandomForestRegressor(random_state=42), add_indicator=True)\n",
    "\n",
    "    for col in other_missing_cols:\n",
    "        if X[col].isnull().sum() > 0:\n",
    "            col_with_missing_values = X[col].values.reshape(-1, 1)\n",
    "            imputed_values = iterative_imputer.fit_transform(col_with_missing_values)\n",
    "            X[col] = imputed_values[:, 0]\n",
    "        else:\n",
    "            pass\n",
    "    \n",
    "    X_train, X_test, y_train, y_test = train_test_split(X, y, test_size=0.2, random_state=42)\n",
    "\n",
    "    rf_classifier = RandomForestClassifier()\n",
    "\n",
    "    rf_classifier.fit(X_train, y_train)\n",
    "\n",
    "    y_pred = rf_classifier.predict(X_test)\n",
    "\n",
    "    acc_score = accuracy_score(y_test, y_pred)\n",
    "\n",
    "    print(\"The feature '\"+ passed_col+ \"' has been imputed with\", round((acc_score * 100), 2), \"accuracy\\n\")\n",
    "\n",
    "    X = df_null.drop(passed_col, axis=1)\n",
    "\n",
    "    for col in X.columns:\n",
    "        if X[col].dtype == 'object' or X[col].dtype == 'category':\n",
    "            X[col] = label_encoder.fit_transform(X[col])\n",
    "\n",
    "    for col in other_missing_cols:\n",
    "        if X[col].isnull().sum() > 0:\n",
    "            col_with_missing_values = X[col].values.reshape(-1, 1)\n",
    "            imputed_values = iterative_imputer.fit_transform(col_with_missing_values)\n",
    "            X[col] = imputed_values[:, 0]\n",
    "        else:\n",
    "            pass\n",
    "                \n",
    "    if len(df_null) > 0: \n",
    "        df_null[passed_col] = rf_classifier.predict(X)\n",
    "        if passed_col in bool_cols:\n",
    "            df_null[passed_col] = df_null[passed_col].map({0: False, 1: True})\n",
    "        else:\n",
    "            pass\n",
    "    else:\n",
    "        pass\n",
    "\n",
    "    df_combined = pd.concat([df_not_null, df_null])\n",
    "    \n",
    "    return df_combined[passed_col]\n",
    "\n",
    "def impute_continuous_missing_data(passed_col):\n",
    "    \n",
    "    df_null = df[df[passed_col].isnull()]\n",
    "    df_not_null = df[df[passed_col].notnull()]\n",
    "\n",
    "    X = df_not_null.drop(passed_col, axis=1)\n",
    "    y = df_not_null[passed_col]\n",
    "    \n",
    "    other_missing_cols = [col for col in missing_data_cols if col != passed_col]\n",
    "    \n",
    "    label_encoder = LabelEncoder()\n",
    "\n",
    "    for col in X.columns:\n",
    "        if X[col].dtype == 'object' or X[col].dtype == 'category':\n",
    "            X[col] = label_encoder.fit_transform(X[col])\n",
    "    \n",
    "    iterative_imputer = IterativeImputer(estimator=RandomForestRegressor(random_state=42), add_indicator=True)\n",
    "\n",
    "    for col in other_missing_cols:\n",
    "        if X[col].isnull().sum() > 0:\n",
    "            col_with_missing_values = X[col].values.reshape(-1, 1)\n",
    "            imputed_values = iterative_imputer.fit_transform(col_with_missing_values)\n",
    "            X[col] = imputed_values[:, 0]\n",
    "        else:\n",
    "            pass\n",
    "    \n",
    "    X_train, X_test, y_train, y_test = train_test_split(X, y, test_size=0.2, random_state=42)\n",
    "\n",
    "    rf_regressor = RandomForestRegressor()\n",
    "\n",
    "    rf_regressor.fit(X_train, y_train)\n",
    "\n",
    "    y_pred = rf_regressor.predict(X_test)\n",
    "\n",
    "    print(\"MAE =\", mean_absolute_error(y_test, y_pred), \"\\n\")\n",
    "    print(\"RMSE =\", mean_squared_error(y_test, y_pred, squared=False), \"\\n\")\n",
    "    print(\"R2 =\", r2_score(y_test, y_pred), \"\\n\")\n",
    "\n",
    "    X = df_null.drop(passed_col, axis=1)\n",
    "\n",
    "    for col in X.columns:\n",
    "        if X[col].dtype == 'object' or X[col].dtype == 'category':\n",
    "            X[col] = label_encoder.fit_transform(X[col])\n",
    "\n",
    "    for col in other_missing_cols:\n",
    "        if X[col].isnull().sum() > 0:\n",
    "            col_with_missing_values = X[col].values.reshape(-1, 1)\n",
    "            imputed_values = iterative_imputer.fit_transform(col_with_missing_values)\n",
    "            X[col] = imputed_values[:, 0]\n",
    "        else:\n",
    "            pass\n",
    "                \n",
    "    if len(df_null) > 0: \n",
    "        df_null[passed_col] = rf_regressor.predict(X)\n",
    "    else:\n",
    "        pass\n",
    "\n",
    "    df_combined = pd.concat([df_not_null, df_null])\n",
    "    \n",
    "    return df_combined[passed_col]"
   ]
  },
  {
   "cell_type": "code",
   "execution_count": 37,
   "id": "0dbe582a",
   "metadata": {
    "execution": {
     "iopub.execute_input": "2024-04-28T09:34:39.932531Z",
     "iopub.status.busy": "2024-04-28T09:34:39.931907Z",
     "iopub.status.idle": "2024-04-28T09:34:39.941976Z",
     "shell.execute_reply": "2024-04-28T09:34:39.940978Z"
    },
    "papermill": {
     "duration": 0.048846,
     "end_time": "2024-04-28T09:34:39.944251",
     "exception": false,
     "start_time": "2024-04-28T09:34:39.895405",
     "status": "completed"
    },
    "tags": []
   },
   "outputs": [
    {
     "data": {
      "text/plain": [
       "thal        486\n",
       "slope       309\n",
       "fbs          90\n",
       "exang        55\n",
       "restecg       2\n",
       "id            0\n",
       "sex           0\n",
       "age           0\n",
       "chol          0\n",
       "trestbps      0\n",
       "cp            0\n",
       "dataset       0\n",
       "oldpeak       0\n",
       "thalch        0\n",
       "ca            0\n",
       "num           0\n",
       "dtype: int64"
      ]
     },
     "execution_count": 37,
     "metadata": {},
     "output_type": "execute_result"
    }
   ],
   "source": [
    "df.isnull().sum().sort_values(ascending=False)"
   ]
  },
  {
   "cell_type": "code",
   "execution_count": 38,
   "id": "f998f15e",
   "metadata": {
    "execution": {
     "iopub.execute_input": "2024-04-28T09:34:40.013545Z",
     "iopub.status.busy": "2024-04-28T09:34:40.012866Z",
     "iopub.status.idle": "2024-04-28T09:34:41.579221Z",
     "shell.execute_reply": "2024-04-28T09:34:41.578102Z"
    },
    "papermill": {
     "duration": 1.601947,
     "end_time": "2024-04-28T09:34:41.581252",
     "exception": false,
     "start_time": "2024-04-28T09:34:39.979305",
     "status": "completed"
    },
    "tags": []
   },
   "outputs": [
    {
     "name": "stdout",
     "output_type": "stream",
     "text": [
      "Missing Values fbs : 9.78%\n",
      "The feature 'fbs' has been imputed with 78.31 accuracy\n",
      "\n",
      "Missing Values restecg : 0.22%\n",
      "The feature 'restecg' has been imputed with 64.67 accuracy\n",
      "\n",
      "Missing Values exang : 5.98%\n",
      "The feature 'exang' has been imputed with 79.19 accuracy\n",
      "\n",
      "Missing Values slope : 33.59%\n",
      "The feature 'slope' has been imputed with 69.11 accuracy\n",
      "\n",
      "Missing Values thal : 52.83%\n",
      "The feature 'thal' has been imputed with 73.56 accuracy\n",
      "\n"
     ]
    }
   ],
   "source": [
    "# remove warning\n",
    "import warnings\n",
    "warnings.filterwarnings('ignore')\n",
    "\n",
    "# impute missing values using our functions\n",
    "for col in missing_data_cols:\n",
    "    print(\"Missing Values\", col, \":\", str(round((df[col].isnull().sum() / len(df)) * 100, 2))+\"%\")\n",
    "    if col in categorical_cols:\n",
    "        df[col] = impute_categorical_missing_data(col)\n",
    "    elif col in numeric_cols:\n",
    "        df[col] = impute_continuous_missing_data(col)\n",
    "    else:\n",
    "        pass"
   ]
  },
  {
   "cell_type": "code",
   "execution_count": 39,
   "id": "c059d5de",
   "metadata": {
    "execution": {
     "iopub.execute_input": "2024-04-28T09:34:41.651138Z",
     "iopub.status.busy": "2024-04-28T09:34:41.650165Z",
     "iopub.status.idle": "2024-04-28T09:34:41.660849Z",
     "shell.execute_reply": "2024-04-28T09:34:41.659894Z"
    },
    "papermill": {
     "duration": 0.048827,
     "end_time": "2024-04-28T09:34:41.662825",
     "exception": false,
     "start_time": "2024-04-28T09:34:41.613998",
     "status": "completed"
    },
    "tags": []
   },
   "outputs": [
    {
     "data": {
      "text/plain": [
       "id          0\n",
       "age         0\n",
       "sex         0\n",
       "dataset     0\n",
       "cp          0\n",
       "trestbps    0\n",
       "chol        0\n",
       "fbs         0\n",
       "restecg     0\n",
       "thalch      0\n",
       "exang       0\n",
       "oldpeak     0\n",
       "slope       0\n",
       "ca          0\n",
       "thal        0\n",
       "num         0\n",
       "dtype: int64"
      ]
     },
     "execution_count": 39,
     "metadata": {},
     "output_type": "execute_result"
    }
   ],
   "source": [
    "df.isnull().sum().sort_values(ascending=False)\n"
   ]
  },
  {
   "cell_type": "markdown",
   "id": "efed1c6f",
   "metadata": {
    "papermill": {
     "duration": 0.033536,
     "end_time": "2024-04-28T09:34:41.730691",
     "exception": false,
     "start_time": "2024-04-28T09:34:41.697155",
     "status": "completed"
    },
    "tags": []
   },
   "source": [
    ">`Now Missing values are imputed and there is no missing values in the columns....`"
   ]
  },
  {
   "cell_type": "markdown",
   "id": "8dcde675",
   "metadata": {
    "papermill": {
     "duration": 0.033674,
     "end_time": "2024-04-28T09:34:41.798531",
     "exception": false,
     "start_time": "2024-04-28T09:34:41.764857",
     "status": "completed"
    },
    "tags": []
   },
   "source": [
    "## `Dealing With Outliers`"
   ]
  },
  {
   "cell_type": "markdown",
   "id": "ba2b832e",
   "metadata": {
    "papermill": {
     "duration": 0.032603,
     "end_time": "2024-04-28T09:34:41.866814",
     "exception": false,
     "start_time": "2024-04-28T09:34:41.834211",
     "status": "completed"
    },
    "tags": []
   },
   "source": [
    ">Let's create a box plots for all the numeric columns using for loop and subplot.\n",
    "* By doing we will be able to analyze outliers in the columns."
   ]
  },
  {
   "cell_type": "code",
   "execution_count": 40,
   "id": "f2c57cf0",
   "metadata": {
    "execution": {
     "iopub.execute_input": "2024-04-28T09:34:41.932882Z",
     "iopub.status.busy": "2024-04-28T09:34:41.932501Z",
     "iopub.status.idle": "2024-04-28T09:34:43.056046Z",
     "shell.execute_reply": "2024-04-28T09:34:43.055125Z"
    },
    "papermill": {
     "duration": 1.159612,
     "end_time": "2024-04-28T09:34:43.058315",
     "exception": false,
     "start_time": "2024-04-28T09:34:41.898703",
     "status": "completed"
    },
    "tags": []
   },
   "outputs": [
    {
     "name": "stdout",
     "output_type": "stream",
     "text": [
      "_________________________________________________________________________________________________________________________________________________\n"
     ]
    },
    {
     "data": {
      "image/png": "[encoded data removed]",
      "text/plain": [
       "<Figure size 1000x800 with 5 Axes>"
      ]
     },
     "metadata": {},
     "output_type": "display_data"
    }
   ],
   "source": [
    "print(\"_________________________________________________________________________________________________________________________________________________\")\n",
    "\n",
    "sns.set(rc={\"axes.facecolor\":\"#87CEEB\",\"figure.facecolor\":\"#EEE8AA\"})  # Change figure background color\n",
    "\n",
    "palette = [\"#682F2F\", \"#9E726F\", \"#D6B2B1\", \"#B9C0C9\", \"#9F8A78\", \"#F3AB60\"]\n",
    "cmap = ListedColormap([\"#682F2F\", \"#9E726F\", \"#D6B2B1\", \"#B9C0C9\", \"#9F8A78\", \"#F3AB60\"])\n",
    "\n",
    "plt.figure(figsize=(10,8))\n",
    "\n",
    "for i, col in enumerate(numerical_cols):\n",
    "    plt.subplot(3,2, i+1)\n",
    "    sns.boxenplot(x=df[col], color=palette[i % len(palette)])  # Use modulo to cycle through colors\n",
    "    plt.title(col)\n",
    "    \n",
    "plt.show()\n",
    "##E6E6FA"
   ]
  },
  {
   "cell_type": "markdown",
   "id": "2bb923b7",
   "metadata": {
    "papermill": {
     "duration": 0.035139,
     "end_time": "2024-04-28T09:34:43.126183",
     "exception": false,
     "start_time": "2024-04-28T09:34:43.091044",
     "status": "completed"
    },
    "tags": []
   },
   "source": [
    "### `ANALYSIS OF PLOT`\n",
    "It seems there are outliers in the columns but we will examine it that its really the outliers or not because sometime these values come in outliers range but it really not.\\\n",
    "The outliers totally depends on the range which is different for every column in the dataset. \n",
    "##### `For Example:`\n",
    "when we look into the plot and the column of age we can see that there are outliers. but these are not outliers lets the values.\n",
    "* below 32 is all considere here is outliers but the age of 30 is possible and cannot be an outliers.\n",
    "* `Let's explore the columns one by one`"
   ]
  },
  {
   "cell_type": "markdown",
   "id": "da6e614e",
   "metadata": {
    "papermill": {
     "duration": 0.03978,
     "end_time": "2024-04-28T09:34:43.205908",
     "exception": false,
     "start_time": "2024-04-28T09:34:43.166128",
     "status": "completed"
    },
    "tags": []
   },
   "source": [
    "## `1. Handling Outliers in Trestbps column`"
   ]
  },
  {
   "cell_type": "code",
   "execution_count": 41,
   "id": "b048225a",
   "metadata": {
    "execution": {
     "iopub.execute_input": "2024-04-28T09:34:43.280780Z",
     "iopub.status.busy": "2024-04-28T09:34:43.280079Z",
     "iopub.status.idle": "2024-04-28T09:34:43.301939Z",
     "shell.execute_reply": "2024-04-28T09:34:43.300638Z"
    },
    "papermill": {
     "duration": 0.064155,
     "end_time": "2024-04-28T09:34:43.304913",
     "exception": false,
     "start_time": "2024-04-28T09:34:43.240758",
     "status": "completed"
    },
    "tags": []
   },
   "outputs": [
    {
     "data": {
      "text/html": [
       "<div>\n",
       "<style scoped>\n",
       "    .dataframe tbody tr th:only-of-type {\n",
       "        vertical-align: middle;\n",
       "    }\n",
       "\n",
       "    .dataframe tbody tr th {\n",
       "        vertical-align: top;\n",
       "    }\n",
       "\n",
       "    .dataframe thead th {\n",
       "        text-align: right;\n",
       "    }\n",
       "</style>\n",
       "<table border=\"1\" class=\"dataframe\">\n",
       "  <thead>\n",
       "    <tr style=\"text-align: right;\">\n",
       "      <th></th>\n",
       "      <th>id</th>\n",
       "      <th>age</th>\n",
       "      <th>sex</th>\n",
       "      <th>dataset</th>\n",
       "      <th>cp</th>\n",
       "      <th>trestbps</th>\n",
       "      <th>chol</th>\n",
       "      <th>fbs</th>\n",
       "      <th>restecg</th>\n",
       "      <th>thalch</th>\n",
       "      <th>exang</th>\n",
       "      <th>oldpeak</th>\n",
       "      <th>slope</th>\n",
       "      <th>ca</th>\n",
       "      <th>thal</th>\n",
       "      <th>num</th>\n",
       "    </tr>\n",
       "  </thead>\n",
       "  <tbody>\n",
       "    <tr>\n",
       "      <th>753</th>\n",
       "      <td>754</td>\n",
       "      <td>55</td>\n",
       "      <td>Male</td>\n",
       "      <td>VA Long Beach</td>\n",
       "      <td>non-anginal</td>\n",
       "      <td>0.0</td>\n",
       "      <td>0.0</td>\n",
       "      <td>False</td>\n",
       "      <td>normal</td>\n",
       "      <td>155.0</td>\n",
       "      <td>False</td>\n",
       "      <td>1.5</td>\n",
       "      <td>flat</td>\n",
       "      <td>0.676375</td>\n",
       "      <td>reversable defect</td>\n",
       "      <td>3</td>\n",
       "    </tr>\n",
       "  </tbody>\n",
       "</table>\n",
       "</div>"
      ],
      "text/plain": [
       "      id  age   sex        dataset           cp  trestbps  chol    fbs  \\\n",
       "753  754   55  Male  VA Long Beach  non-anginal       0.0   0.0  False   \n",
       "\n",
       "    restecg  thalch  exang  oldpeak slope        ca               thal  num  \n",
       "753  normal   155.0  False      1.5  flat  0.676375  reversable defect    3  "
      ]
     },
     "execution_count": 41,
     "metadata": {},
     "output_type": "execute_result"
    }
   ],
   "source": [
    "# print the row from df where trestbps value is 0\n",
    "df[df['trestbps']==0]\n"
   ]
  },
  {
   "cell_type": "code",
   "execution_count": 42,
   "id": "aa76f1cb",
   "metadata": {
    "execution": {
     "iopub.execute_input": "2024-04-28T09:34:43.399117Z",
     "iopub.status.busy": "2024-04-28T09:34:43.398749Z",
     "iopub.status.idle": "2024-04-28T09:34:43.405184Z",
     "shell.execute_reply": "2024-04-28T09:34:43.404385Z"
    },
    "papermill": {
     "duration": 0.051008,
     "end_time": "2024-04-28T09:34:43.407188",
     "exception": false,
     "start_time": "2024-04-28T09:34:43.356180",
     "status": "completed"
    },
    "tags": []
   },
   "outputs": [],
   "source": [
    "# Remove the column because it is an outlier because trestbps cannot be zero.\n",
    "df= df[df['trestbps']!=0]"
   ]
  },
  {
   "cell_type": "markdown",
   "id": "c473b476",
   "metadata": {
    "papermill": {
     "duration": 0.03748,
     "end_time": "2024-04-28T09:34:43.479708",
     "exception": false,
     "start_time": "2024-04-28T09:34:43.442228",
     "status": "completed"
    },
    "tags": []
   },
   "source": [
    "##### `Let's see again to check the outliers:`"
   ]
  },
  {
   "cell_type": "code",
   "execution_count": 43,
   "id": "23fd64c7",
   "metadata": {
    "execution": {
     "iopub.execute_input": "2024-04-28T09:34:43.553994Z",
     "iopub.status.busy": "2024-04-28T09:34:43.553411Z",
     "iopub.status.idle": "2024-04-28T09:34:44.568033Z",
     "shell.execute_reply": "2024-04-28T09:34:44.566994Z"
    },
    "papermill": {
     "duration": 1.050313,
     "end_time": "2024-04-28T09:34:44.570401",
     "exception": false,
     "start_time": "2024-04-28T09:34:43.520088",
     "status": "completed"
    },
    "tags": []
   },
   "outputs": [
    {
     "data": {
      "image/png": "[encoded data removed]",
      "text/plain": [
       "<Figure size 1000x800 with 5 Axes>"
      ]
     },
     "metadata": {},
     "output_type": "display_data"
    }
   ],
   "source": [
    "sns.set(rc={\"axes.facecolor\":\"#B76E79\",\"figure.facecolor\":\"#C0C0C0\"})\n",
    "modified_palette = [\"#C44D53\", \"#B76E79\", \"#DDA4A5\", \"#B3BCC4\", \"#A2867E\", \"#F3AB60\"]\n",
    "cmap = ListedColormap(modified_palette)\n",
    "\n",
    "plt.figure(figsize=(10,8))\n",
    "\n",
    "\n",
    "\n",
    "for i, col in enumerate(numerical_cols):\n",
    "    plt.subplot(3,2, i+1)\n",
    "    sns.boxenplot(x=df[col], color=modified_palette[i % len(modified_palette)])  # Use modulo to cycle through colors\n",
    "    plt.title(col)\n",
    "    \n",
    "plt.show()"
   ]
  },
  {
   "cell_type": "markdown",
   "id": "e6d8bd1e",
   "metadata": {
    "papermill": {
     "duration": 0.034131,
     "end_time": "2024-04-28T09:34:44.641260",
     "exception": false,
     "start_time": "2024-04-28T09:34:44.607129",
     "status": "completed"
    },
    "tags": []
   },
   "source": [
    "##### `Analysis of the plot`"
   ]
  },
  {
   "cell_type": "markdown",
   "id": "e467039d",
   "metadata": {
    "papermill": {
     "duration": 0.033083,
     "end_time": "2024-04-28T09:34:44.707962",
     "exception": false,
     "start_time": "2024-04-28T09:34:44.674879",
     "status": "completed"
    },
    "tags": []
   },
   "source": [
    "According to the plot in the trestbps column there are come values which are too far from the data. but they are not outliers if we look the other attributes of the data"
   ]
  },
  {
   "cell_type": "code",
   "execution_count": 44,
   "id": "2a9e3f14",
   "metadata": {
    "execution": {
     "iopub.execute_input": "2024-04-28T09:34:44.777915Z",
     "iopub.status.busy": "2024-04-28T09:34:44.777544Z",
     "iopub.status.idle": "2024-04-28T09:34:44.787502Z",
     "shell.execute_reply": "2024-04-28T09:34:44.786629Z"
    },
    "papermill": {
     "duration": 0.047877,
     "end_time": "2024-04-28T09:34:44.789429",
     "exception": false,
     "start_time": "2024-04-28T09:34:44.741552",
     "status": "completed"
    },
    "tags": []
   },
   "outputs": [
    {
     "data": {
      "text/plain": [
       "count    919.000000\n",
       "mean     132.276183\n",
       "std       17.930662\n",
       "min       80.000000\n",
       "25%      120.000000\n",
       "50%      130.000000\n",
       "75%      140.000000\n",
       "max      200.000000\n",
       "Name: trestbps, dtype: float64"
      ]
     },
     "execution_count": 44,
     "metadata": {},
     "output_type": "execute_result"
    }
   ],
   "source": [
    "df.trestbps.describe()"
   ]
  },
  {
   "cell_type": "markdown",
   "id": "fec83765",
   "metadata": {
    "papermill": {
     "duration": 0.033007,
     "end_time": "2024-04-28T09:34:44.855735",
     "exception": false,
     "start_time": "2024-04-28T09:34:44.822728",
     "status": "completed"
    },
    "tags": []
   },
   "source": [
    "## `2. Handling Oldpeak Outliers`"
   ]
  },
  {
   "cell_type": "code",
   "execution_count": 45,
   "id": "f55bad7b",
   "metadata": {
    "execution": {
     "iopub.execute_input": "2024-04-28T09:34:44.923531Z",
     "iopub.status.busy": "2024-04-28T09:34:44.923162Z",
     "iopub.status.idle": "2024-04-28T09:34:44.954081Z",
     "shell.execute_reply": "2024-04-28T09:34:44.953046Z"
    },
    "papermill": {
     "duration": 0.067584,
     "end_time": "2024-04-28T09:34:44.956326",
     "exception": false,
     "start_time": "2024-04-28T09:34:44.888742",
     "status": "completed"
    },
    "tags": []
   },
   "outputs": [
    {
     "data": {
      "text/html": [
       "<div>\n",
       "<style scoped>\n",
       "    .dataframe tbody tr th:only-of-type {\n",
       "        vertical-align: middle;\n",
       "    }\n",
       "\n",
       "    .dataframe tbody tr th {\n",
       "        vertical-align: top;\n",
       "    }\n",
       "\n",
       "    .dataframe thead th {\n",
       "        text-align: right;\n",
       "    }\n",
       "</style>\n",
       "<table border=\"1\" class=\"dataframe\">\n",
       "  <thead>\n",
       "    <tr style=\"text-align: right;\">\n",
       "      <th></th>\n",
       "      <th>id</th>\n",
       "      <th>age</th>\n",
       "      <th>trestbps</th>\n",
       "      <th>chol</th>\n",
       "      <th>thalch</th>\n",
       "      <th>oldpeak</th>\n",
       "      <th>ca</th>\n",
       "      <th>num</th>\n",
       "    </tr>\n",
       "  </thead>\n",
       "  <tbody>\n",
       "    <tr>\n",
       "      <th>count</th>\n",
       "      <td>919.000000</td>\n",
       "      <td>919.000000</td>\n",
       "      <td>919.000000</td>\n",
       "      <td>919.000000</td>\n",
       "      <td>919.000000</td>\n",
       "      <td>919.000000</td>\n",
       "      <td>919.000000</td>\n",
       "      <td>919.000000</td>\n",
       "    </tr>\n",
       "    <tr>\n",
       "      <th>mean</th>\n",
       "      <td>460.180631</td>\n",
       "      <td>53.509249</td>\n",
       "      <td>132.276183</td>\n",
       "      <td>199.347019</td>\n",
       "      <td>137.526672</td>\n",
       "      <td>0.878112</td>\n",
       "      <td>0.676375</td>\n",
       "      <td>0.993471</td>\n",
       "    </tr>\n",
       "    <tr>\n",
       "      <th>std</th>\n",
       "      <td>265.693391</td>\n",
       "      <td>9.429689</td>\n",
       "      <td>17.930662</td>\n",
       "      <td>108.818455</td>\n",
       "      <td>25.145577</td>\n",
       "      <td>1.054148</td>\n",
       "      <td>0.541962</td>\n",
       "      <td>1.141398</td>\n",
       "    </tr>\n",
       "    <tr>\n",
       "      <th>min</th>\n",
       "      <td>1.000000</td>\n",
       "      <td>28.000000</td>\n",
       "      <td>80.000000</td>\n",
       "      <td>0.000000</td>\n",
       "      <td>60.000000</td>\n",
       "      <td>-2.600000</td>\n",
       "      <td>0.000000</td>\n",
       "      <td>0.000000</td>\n",
       "    </tr>\n",
       "    <tr>\n",
       "      <th>25%</th>\n",
       "      <td>230.500000</td>\n",
       "      <td>47.000000</td>\n",
       "      <td>120.000000</td>\n",
       "      <td>178.500000</td>\n",
       "      <td>120.000000</td>\n",
       "      <td>0.000000</td>\n",
       "      <td>0.676375</td>\n",
       "      <td>0.000000</td>\n",
       "    </tr>\n",
       "    <tr>\n",
       "      <th>50%</th>\n",
       "      <td>460.000000</td>\n",
       "      <td>54.000000</td>\n",
       "      <td>130.000000</td>\n",
       "      <td>221.000000</td>\n",
       "      <td>138.000000</td>\n",
       "      <td>0.800000</td>\n",
       "      <td>0.676375</td>\n",
       "      <td>1.000000</td>\n",
       "    </tr>\n",
       "    <tr>\n",
       "      <th>75%</th>\n",
       "      <td>689.500000</td>\n",
       "      <td>60.000000</td>\n",
       "      <td>140.000000</td>\n",
       "      <td>267.000000</td>\n",
       "      <td>156.000000</td>\n",
       "      <td>1.500000</td>\n",
       "      <td>0.676375</td>\n",
       "      <td>2.000000</td>\n",
       "    </tr>\n",
       "    <tr>\n",
       "      <th>max</th>\n",
       "      <td>920.000000</td>\n",
       "      <td>77.000000</td>\n",
       "      <td>200.000000</td>\n",
       "      <td>603.000000</td>\n",
       "      <td>202.000000</td>\n",
       "      <td>6.200000</td>\n",
       "      <td>3.000000</td>\n",
       "      <td>4.000000</td>\n",
       "    </tr>\n",
       "  </tbody>\n",
       "</table>\n",
       "</div>"
      ],
      "text/plain": [
       "               id         age    trestbps        chol      thalch     oldpeak  \\\n",
       "count  919.000000  919.000000  919.000000  919.000000  919.000000  919.000000   \n",
       "mean   460.180631   53.509249  132.276183  199.347019  137.526672    0.878112   \n",
       "std    265.693391    9.429689   17.930662  108.818455   25.145577    1.054148   \n",
       "min      1.000000   28.000000   80.000000    0.000000   60.000000   -2.600000   \n",
       "25%    230.500000   47.000000  120.000000  178.500000  120.000000    0.000000   \n",
       "50%    460.000000   54.000000  130.000000  221.000000  138.000000    0.800000   \n",
       "75%    689.500000   60.000000  140.000000  267.000000  156.000000    1.500000   \n",
       "max    920.000000   77.000000  200.000000  603.000000  202.000000    6.200000   \n",
       "\n",
       "               ca         num  \n",
       "count  919.000000  919.000000  \n",
       "mean     0.676375    0.993471  \n",
       "std      0.541962    1.141398  \n",
       "min      0.000000    0.000000  \n",
       "25%      0.676375    0.000000  \n",
       "50%      0.676375    1.000000  \n",
       "75%      0.676375    2.000000  \n",
       "max      3.000000    4.000000  "
      ]
     },
     "execution_count": 45,
     "metadata": {},
     "output_type": "execute_result"
    }
   ],
   "source": [
    "df.describe()"
   ]
  },
  {
   "cell_type": "code",
   "execution_count": 46,
   "id": "b1ab344c",
   "metadata": {
    "execution": {
     "iopub.execute_input": "2024-04-28T09:34:45.026473Z",
     "iopub.status.busy": "2024-04-28T09:34:45.025668Z",
     "iopub.status.idle": "2024-04-28T09:34:46.070152Z",
     "shell.execute_reply": "2024-04-28T09:34:46.069205Z"
    },
    "papermill": {
     "duration": 1.082412,
     "end_time": "2024-04-28T09:34:46.072735",
     "exception": false,
     "start_time": "2024-04-28T09:34:44.990323",
     "status": "completed"
    },
    "tags": []
   },
   "outputs": [
    {
     "name": "stdout",
     "output_type": "stream",
     "text": [
      "___________________________________________________________________________________________________________________________________________________________________\n"
     ]
    },
    {
     "data": {
      "image/png": "[encoded data removed]",
      "text/plain": [
       "<Figure size 1000x800 with 5 Axes>"
      ]
     },
     "metadata": {},
     "output_type": "display_data"
    }
   ],
   "source": [
    "print(\"___________________________________________________________________________________________________________________________________________________________________\")\n",
    "\n",
    "# Set facecolors\n",
    "sns.set(rc={\"axes.facecolor\": \"#FFF9ED\", \"figure.facecolor\": \"#FFF9ED\"})\n",
    "\n",
    "# Define the \"night vision\" color palette\n",
    "night_vision_palette = [\"#00FF00\", \"#FF00FF\", \"#00FFFF\", \"#FFFF00\", \"#FF0000\", \"#0000FF\"]\n",
    "\n",
    "# Use the \"night vision\" palette for the plots\n",
    "plt.figure(figsize=(10, 8))\n",
    "for i, col in enumerate(numerical_cols):\n",
    "    plt.subplot(3, 2, i + 1)\n",
    "    sns.boxenplot(x=df[col], color=night_vision_palette[i % len(night_vision_palette)])  # Use modulo to cycle through colors\n",
    "    plt.title(col)\n",
    "\n",
    "plt.show()\n"
   ]
  },
  {
   "cell_type": "markdown",
   "id": "b2ea5b67",
   "metadata": {
    "papermill": {
     "duration": 0.035558,
     "end_time": "2024-04-28T09:34:46.147438",
     "exception": false,
     "start_time": "2024-04-28T09:34:46.111880",
     "status": "completed"
    },
    "tags": []
   },
   "source": [
    "#### `Analysis of the plot`"
   ]
  },
  {
   "cell_type": "markdown",
   "id": "bf116ba7",
   "metadata": {
    "papermill": {
     "duration": 0.034663,
     "end_time": "2024-04-28T09:34:46.216910",
     "exception": false,
     "start_time": "2024-04-28T09:34:46.182247",
     "status": "completed"
    },
    "tags": []
   },
   "source": [
    "we can observe in the plot that -2 has removed."
   ]
  },
  {
   "cell_type": "markdown",
   "id": "2eda0bc2",
   "metadata": {
    "papermill": {
     "duration": 0.034902,
     "end_time": "2024-04-28T09:34:46.285661",
     "exception": false,
     "start_time": "2024-04-28T09:34:46.250759",
     "status": "completed"
    },
    "tags": []
   },
   "source": [
    "## `3. Handling Outliers in Age Column`"
   ]
  },
  {
   "cell_type": "code",
   "execution_count": 47,
   "id": "8c91e87d",
   "metadata": {
    "execution": {
     "iopub.execute_input": "2024-04-28T09:34:46.355059Z",
     "iopub.status.busy": "2024-04-28T09:34:46.354703Z",
     "iopub.status.idle": "2024-04-28T09:34:46.365003Z",
     "shell.execute_reply": "2024-04-28T09:34:46.364164Z"
    },
    "papermill": {
     "duration": 0.047303,
     "end_time": "2024-04-28T09:34:46.367061",
     "exception": false,
     "start_time": "2024-04-28T09:34:46.319758",
     "status": "completed"
    },
    "tags": []
   },
   "outputs": [
    {
     "data": {
      "text/plain": [
       "count    919.000000\n",
       "mean      53.509249\n",
       "std        9.429689\n",
       "min       28.000000\n",
       "25%       47.000000\n",
       "50%       54.000000\n",
       "75%       60.000000\n",
       "max       77.000000\n",
       "Name: age, dtype: float64"
      ]
     },
     "execution_count": 47,
     "metadata": {},
     "output_type": "execute_result"
    }
   ],
   "source": [
    "df.age.describe()"
   ]
  },
  {
   "cell_type": "markdown",
   "id": "98ede345",
   "metadata": {
    "papermill": {
     "duration": 0.034284,
     "end_time": "2024-04-28T09:34:46.435401",
     "exception": false,
     "start_time": "2024-04-28T09:34:46.401117",
     "status": "completed"
    },
    "tags": []
   },
   "source": [
    ">* `Minimum age is 31 to have chest pain which can be possible so its not an outlier.`\\\n",
    "_We have observed that the minimum age for experiencing chest pain is 31, any observation at this age wouldn't be considered an outlier within the context of age-related data. Outliers typically deviate significantly from the majority of observations, but in this case, 31 falls within the expected range for experiencing chest pain._\n",
    ">* `max age is 77 which is also possible so its not an outlier as well.`\\\n",
    "_The maximum age for experiencing chest pain is 77, any observation at this age wouldn't be classified as an outlier within the dataset. Outliers are typically defined as values that significantly deviate from the majority, but in this case, 77 falls within the expected range for chest pain occurrences._\n"
   ]
  },
  {
   "cell_type": "markdown",
   "id": "fa2707d6",
   "metadata": {
    "papermill": {
     "duration": 0.034299,
     "end_time": "2024-04-28T09:34:46.503538",
     "exception": false,
     "start_time": "2024-04-28T09:34:46.469239",
     "status": "completed"
    },
    "tags": []
   },
   "source": [
    "## `4. Handling trestbps column outliers`"
   ]
  },
  {
   "cell_type": "code",
   "execution_count": 48,
   "id": "a0c35b9a",
   "metadata": {
    "execution": {
     "iopub.execute_input": "2024-04-28T09:34:46.575337Z",
     "iopub.status.busy": "2024-04-28T09:34:46.574995Z",
     "iopub.status.idle": "2024-04-28T09:34:47.135056Z",
     "shell.execute_reply": "2024-04-28T09:34:47.134005Z"
    },
    "papermill": {
     "duration": 0.599319,
     "end_time": "2024-04-28T09:34:47.137295",
     "exception": false,
     "start_time": "2024-04-28T09:34:46.537976",
     "status": "completed"
    },
    "tags": []
   },
   "outputs": [
    {
     "data": {
      "image/png": "[encoded data removed]",
      "text/plain": [
       "<Figure size 800x550 with 1 Axes>"
      ]
     },
     "metadata": {},
     "output_type": "display_data"
    }
   ],
   "source": [
    "palette = [\"#999999\", \"#666666\", \"#333333\"]\n",
    "\n",
    "sns.histplot(data=df, \n",
    "             x='trestbps', \n",
    "             kde=True,\n",
    "             color=palette[0])\n",
    "\n",
    "plt.title('Resting Blood Pressure')\n",
    "plt.xlabel('Pressure (mmHg)')\n",
    "plt.ylabel('Count')\n",
    "\n",
    "plt.style.use('default')\n",
    "plt.rcParams['figure.facecolor'] = palette[1]\n",
    "plt.rcParams['axes.facecolor'] = palette[2] \n",
    " "
   ]
  },
  {
   "cell_type": "code",
   "execution_count": 49,
   "id": "5d2de810",
   "metadata": {
    "execution": {
     "iopub.execute_input": "2024-04-28T09:34:47.213829Z",
     "iopub.status.busy": "2024-04-28T09:34:47.213481Z",
     "iopub.status.idle": "2024-04-28T09:34:47.761179Z",
     "shell.execute_reply": "2024-04-28T09:34:47.760146Z"
    },
    "papermill": {
     "duration": 0.590303,
     "end_time": "2024-04-28T09:34:47.764915",
     "exception": false,
     "start_time": "2024-04-28T09:34:47.174612",
     "status": "completed"
    },
    "tags": []
   },
   "outputs": [
    {
     "data": {
      "text/plain": [
       "<Axes: xlabel='trestbps', ylabel='Count'>"
      ]
     },
     "execution_count": 49,
     "metadata": {},
     "output_type": "execute_result"
    },
    {
     "data": {
      "image/png": "[encoded data removed]",
      "text/plain": [
       "<Figure size 640x480 with 1 Axes>"
      ]
     },
     "metadata": {},
     "output_type": "display_data"
    }
   ],
   "source": [
    "# create a histplot trestbops column to analyse with sex column\n",
    "sns.histplot(df, x='trestbps', kde=True, palette = \"Spectral\", hue ='sex') "
   ]
  },
  {
   "cell_type": "markdown",
   "id": "3d93be60",
   "metadata": {
    "papermill": {
     "duration": 0.041249,
     "end_time": "2024-04-28T09:34:47.848461",
     "exception": false,
     "start_time": "2024-04-28T09:34:47.807212",
     "status": "completed"
    },
    "tags": []
   },
   "source": [
    "##### `Analysis of plot`\n",
    "\n"
   ]
  },
  {
   "cell_type": "markdown",
   "id": "2a0a4da6",
   "metadata": {
    "papermill": {
     "duration": 0.036601,
     "end_time": "2024-04-28T09:34:47.926349",
     "exception": false,
     "start_time": "2024-04-28T09:34:47.889748",
     "status": "completed"
    },
    "tags": []
   },
   "source": [
    "> * Everything seems ok and there is no outliers in the columns.\n",
    "> * Columns are cleaned from outliers and missing values and we have already analysis the data.\n",
    "> * The next step should be Model building."
   ]
  },
  {
   "cell_type": "markdown",
   "id": "52a3a476",
   "metadata": {
    "papermill": {
     "duration": 0.034814,
     "end_time": "2024-04-28T09:34:47.996536",
     "exception": false,
     "start_time": "2024-04-28T09:34:47.961722",
     "status": "completed"
    },
    "tags": []
   },
   "source": [
    "# `Machine Learning Models`"
   ]
  },
  {
   "cell_type": "code",
   "execution_count": 50,
   "id": "a2a534c7",
   "metadata": {
    "execution": {
     "iopub.execute_input": "2024-04-28T09:34:48.069341Z",
     "iopub.status.busy": "2024-04-28T09:34:48.068712Z",
     "iopub.status.idle": "2024-04-28T09:34:48.081498Z",
     "shell.execute_reply": "2024-04-28T09:34:48.080318Z"
    },
    "papermill": {
     "duration": 0.05195,
     "end_time": "2024-04-28T09:34:48.083611",
     "exception": false,
     "start_time": "2024-04-28T09:34:48.031661",
     "status": "completed"
    },
    "tags": []
   },
   "outputs": [
    {
     "name": "stdout",
     "output_type": "stream",
     "text": [
      "<class 'pandas.core.frame.DataFrame'>\n",
      "Index: 919 entries, 0 to 919\n",
      "Data columns (total 16 columns):\n",
      " #   Column    Non-Null Count  Dtype  \n",
      "---  ------    --------------  -----  \n",
      " 0   id        919 non-null    int64  \n",
      " 1   age       919 non-null    int64  \n",
      " 2   sex       919 non-null    object \n",
      " 3   dataset   919 non-null    object \n",
      " 4   cp        919 non-null    object \n",
      " 5   trestbps  919 non-null    float64\n",
      " 6   chol      919 non-null    float64\n",
      " 7   fbs       919 non-null    object \n",
      " 8   restecg   919 non-null    object \n",
      " 9   thalch    919 non-null    float64\n",
      " 10  exang     919 non-null    object \n",
      " 11  oldpeak   919 non-null    float64\n",
      " 12  slope     919 non-null    object \n",
      " 13  ca        919 non-null    float64\n",
      " 14  thal      919 non-null    object \n",
      " 15  num       919 non-null    int64  \n",
      "dtypes: float64(5), int64(3), object(8)\n",
      "memory usage: 122.1+ KB\n"
     ]
    }
   ],
   "source": [
    "df.info()"
   ]
  },
  {
   "cell_type": "code",
   "execution_count": 51,
   "id": "d24ac59d",
   "metadata": {
    "execution": {
     "iopub.execute_input": "2024-04-28T09:34:48.160446Z",
     "iopub.status.busy": "2024-04-28T09:34:48.159885Z",
     "iopub.status.idle": "2024-04-28T09:34:48.165690Z",
     "shell.execute_reply": "2024-04-28T09:34:48.164834Z"
    },
    "papermill": {
     "duration": 0.046424,
     "end_time": "2024-04-28T09:34:48.167617",
     "exception": false,
     "start_time": "2024-04-28T09:34:48.121193",
     "status": "completed"
    },
    "tags": []
   },
   "outputs": [
    {
     "data": {
      "text/plain": [
       "Index(['id', 'age', 'sex', 'dataset', 'cp', 'trestbps', 'chol', 'fbs',\n",
       "       'restecg', 'thalch', 'exang', 'oldpeak', 'slope', 'ca', 'thal', 'num'],\n",
       "      dtype='object')"
      ]
     },
     "execution_count": 51,
     "metadata": {},
     "output_type": "execute_result"
    }
   ],
   "source": [
    "df.columns"
   ]
  },
  {
   "cell_type": "code",
   "execution_count": 52,
   "id": "0b286320",
   "metadata": {
    "execution": {
     "iopub.execute_input": "2024-04-28T09:34:48.240466Z",
     "iopub.status.busy": "2024-04-28T09:34:48.240193Z",
     "iopub.status.idle": "2024-04-28T09:34:48.260227Z",
     "shell.execute_reply": "2024-04-28T09:34:48.259331Z"
    },
    "papermill": {
     "duration": 0.059413,
     "end_time": "2024-04-28T09:34:48.262535",
     "exception": false,
     "start_time": "2024-04-28T09:34:48.203122",
     "status": "completed"
    },
    "tags": []
   },
   "outputs": [
    {
     "data": {
      "text/html": [
       "<div>\n",
       "<style scoped>\n",
       "    .dataframe tbody tr th:only-of-type {\n",
       "        vertical-align: middle;\n",
       "    }\n",
       "\n",
       "    .dataframe tbody tr th {\n",
       "        vertical-align: top;\n",
       "    }\n",
       "\n",
       "    .dataframe thead th {\n",
       "        text-align: right;\n",
       "    }\n",
       "</style>\n",
       "<table border=\"1\" class=\"dataframe\">\n",
       "  <thead>\n",
       "    <tr style=\"text-align: right;\">\n",
       "      <th></th>\n",
       "      <th>id</th>\n",
       "      <th>age</th>\n",
       "      <th>sex</th>\n",
       "      <th>dataset</th>\n",
       "      <th>cp</th>\n",
       "      <th>trestbps</th>\n",
       "      <th>chol</th>\n",
       "      <th>fbs</th>\n",
       "      <th>restecg</th>\n",
       "      <th>thalch</th>\n",
       "      <th>exang</th>\n",
       "      <th>oldpeak</th>\n",
       "      <th>slope</th>\n",
       "      <th>ca</th>\n",
       "      <th>thal</th>\n",
       "      <th>num</th>\n",
       "    </tr>\n",
       "  </thead>\n",
       "  <tbody>\n",
       "    <tr>\n",
       "      <th>0</th>\n",
       "      <td>1</td>\n",
       "      <td>63</td>\n",
       "      <td>Male</td>\n",
       "      <td>Cleveland</td>\n",
       "      <td>typical angina</td>\n",
       "      <td>145.0</td>\n",
       "      <td>233.0</td>\n",
       "      <td>True</td>\n",
       "      <td>lv hypertrophy</td>\n",
       "      <td>150.0</td>\n",
       "      <td>False</td>\n",
       "      <td>2.3</td>\n",
       "      <td>downsloping</td>\n",
       "      <td>0.0</td>\n",
       "      <td>fixed defect</td>\n",
       "      <td>0</td>\n",
       "    </tr>\n",
       "    <tr>\n",
       "      <th>1</th>\n",
       "      <td>2</td>\n",
       "      <td>67</td>\n",
       "      <td>Male</td>\n",
       "      <td>Cleveland</td>\n",
       "      <td>asymptomatic</td>\n",
       "      <td>160.0</td>\n",
       "      <td>286.0</td>\n",
       "      <td>False</td>\n",
       "      <td>lv hypertrophy</td>\n",
       "      <td>108.0</td>\n",
       "      <td>True</td>\n",
       "      <td>1.5</td>\n",
       "      <td>flat</td>\n",
       "      <td>3.0</td>\n",
       "      <td>normal</td>\n",
       "      <td>2</td>\n",
       "    </tr>\n",
       "    <tr>\n",
       "      <th>2</th>\n",
       "      <td>3</td>\n",
       "      <td>67</td>\n",
       "      <td>Male</td>\n",
       "      <td>Cleveland</td>\n",
       "      <td>asymptomatic</td>\n",
       "      <td>120.0</td>\n",
       "      <td>229.0</td>\n",
       "      <td>False</td>\n",
       "      <td>lv hypertrophy</td>\n",
       "      <td>129.0</td>\n",
       "      <td>True</td>\n",
       "      <td>2.6</td>\n",
       "      <td>flat</td>\n",
       "      <td>2.0</td>\n",
       "      <td>reversable defect</td>\n",
       "      <td>1</td>\n",
       "    </tr>\n",
       "    <tr>\n",
       "      <th>3</th>\n",
       "      <td>4</td>\n",
       "      <td>37</td>\n",
       "      <td>Male</td>\n",
       "      <td>Cleveland</td>\n",
       "      <td>non-anginal</td>\n",
       "      <td>130.0</td>\n",
       "      <td>250.0</td>\n",
       "      <td>False</td>\n",
       "      <td>normal</td>\n",
       "      <td>187.0</td>\n",
       "      <td>False</td>\n",
       "      <td>3.5</td>\n",
       "      <td>downsloping</td>\n",
       "      <td>0.0</td>\n",
       "      <td>normal</td>\n",
       "      <td>0</td>\n",
       "    </tr>\n",
       "    <tr>\n",
       "      <th>4</th>\n",
       "      <td>5</td>\n",
       "      <td>41</td>\n",
       "      <td>Female</td>\n",
       "      <td>Cleveland</td>\n",
       "      <td>atypical angina</td>\n",
       "      <td>130.0</td>\n",
       "      <td>204.0</td>\n",
       "      <td>False</td>\n",
       "      <td>lv hypertrophy</td>\n",
       "      <td>172.0</td>\n",
       "      <td>False</td>\n",
       "      <td>1.4</td>\n",
       "      <td>upsloping</td>\n",
       "      <td>0.0</td>\n",
       "      <td>normal</td>\n",
       "      <td>0</td>\n",
       "    </tr>\n",
       "  </tbody>\n",
       "</table>\n",
       "</div>"
      ],
      "text/plain": [
       "   id  age     sex    dataset               cp  trestbps   chol    fbs  \\\n",
       "0   1   63    Male  Cleveland   typical angina     145.0  233.0   True   \n",
       "1   2   67    Male  Cleveland     asymptomatic     160.0  286.0  False   \n",
       "2   3   67    Male  Cleveland     asymptomatic     120.0  229.0  False   \n",
       "3   4   37    Male  Cleveland      non-anginal     130.0  250.0  False   \n",
       "4   5   41  Female  Cleveland  atypical angina     130.0  204.0  False   \n",
       "\n",
       "          restecg  thalch  exang  oldpeak        slope   ca  \\\n",
       "0  lv hypertrophy   150.0  False      2.3  downsloping  0.0   \n",
       "1  lv hypertrophy   108.0   True      1.5         flat  3.0   \n",
       "2  lv hypertrophy   129.0   True      2.6         flat  2.0   \n",
       "3          normal   187.0  False      3.5  downsloping  0.0   \n",
       "4  lv hypertrophy   172.0  False      1.4    upsloping  0.0   \n",
       "\n",
       "                thal  num  \n",
       "0       fixed defect    0  \n",
       "1             normal    2  \n",
       "2  reversable defect    1  \n",
       "3             normal    0  \n",
       "4             normal    0  "
      ]
     },
     "execution_count": 52,
     "metadata": {},
     "output_type": "execute_result"
    }
   ],
   "source": [
    "df.head()"
   ]
  },
  {
   "cell_type": "markdown",
   "id": "a035629a",
   "metadata": {
    "papermill": {
     "duration": 0.036613,
     "end_time": "2024-04-28T09:34:48.339695",
     "exception": false,
     "start_time": "2024-04-28T09:34:48.303082",
     "status": "completed"
    },
    "tags": []
   },
   "source": [
    "`Feature that we will be using in Machine Learning Models building`"
   ]
  },
  {
   "cell_type": "markdown",
   "id": "ff116f25",
   "metadata": {
    "papermill": {
     "duration": 0.036224,
     "end_time": "2024-04-28T09:34:48.413706",
     "exception": false,
     "start_time": "2024-04-28T09:34:48.377482",
     "status": "completed"
    },
    "tags": []
   },
   "source": [
    "The Targeted column is `num` which is the predicted attribute. We will use this column to predict the heart disease.\n",
    "The unique values in this column are: [0,1,2,3,4], which states that there are 5 types of heart diseases.\n",
    "\n",
    "* `0 = no heart disease.`\n",
    "* `1 = Mild Heart Disease types.`\n",
    "* `2 = Moderate Heart Disease type.`\n",
    "* `3 =  Severe Heart Disease type.`\n",
    "* `4 =  Critical Heart Disease type.`"
   ]
  },
  {
   "cell_type": "code",
   "execution_count": 53,
   "id": "709ca0cf",
   "metadata": {
    "execution": {
     "iopub.execute_input": "2024-04-28T09:34:48.491839Z",
     "iopub.status.busy": "2024-04-28T09:34:48.491139Z",
     "iopub.status.idle": "2024-04-28T09:34:48.509806Z",
     "shell.execute_reply": "2024-04-28T09:34:48.508622Z"
    },
    "papermill": {
     "duration": 0.061809,
     "end_time": "2024-04-28T09:34:48.512006",
     "exception": false,
     "start_time": "2024-04-28T09:34:48.450197",
     "status": "completed"
    },
    "tags": []
   },
   "outputs": [],
   "source": [
    "# split the data into X and y\n",
    "X= df.drop('num', axis=1)\n",
    "y = df['num']\n",
    "\n",
    "\"\"\"encode X data using separate label encoder for all categorical columns and save it for inverse transform\"\"\"\n",
    "# Task: Separate Encoder for all categorical and object columns and inverse transform at the end. \n",
    "Label_Encoder = LabelEncoder()\n",
    "\n",
    "for col in X.columns:\n",
    "    if X[col].dtype == 'object' or X[col].dtype == 'category':\n",
    "        X[col] = Label_Encoder.fit_transform(X[col])\n",
    "    else:\n",
    "        pass\n",
    "        \n",
    "\n",
    "# split the data into train and test\n",
    "X_train, X_test, y_train, y_test = train_test_split(X, y, test_size=0.1, random_state=42)\n",
    "\n"
   ]
  },
  {
   "cell_type": "markdown",
   "id": "24294f90",
   "metadata": {
    "papermill": {
     "duration": 0.04099,
     "end_time": "2024-04-28T09:34:48.594090",
     "exception": false,
     "start_time": "2024-04-28T09:34:48.553100",
     "status": "completed"
    },
    "tags": []
   },
   "source": [
    "Enlist all the models that you will use to predict the heart disease. These models should be classifiers for multi_class classification.\n",
    "\n",
    "1. logistic regression.\n",
    "2. KNN\n",
    "3. NB\n",
    "4. SVM\n",
    "5. Decision Tree\n",
    "6. Random Forest\n",
    "7. XGBoost\n",
    "8. GradientBoosting\n",
    "9. AdaBoost\n",
    "10. lightGBM"
   ]
  },
  {
   "cell_type": "code",
   "execution_count": 54,
   "id": "74481bba",
   "metadata": {
    "execution": {
     "iopub.execute_input": "2024-04-28T09:34:48.678353Z",
     "iopub.status.busy": "2024-04-28T09:34:48.677680Z",
     "iopub.status.idle": "2024-04-28T09:34:51.677782Z",
     "shell.execute_reply": "2024-04-28T09:34:51.676936Z"
    },
    "papermill": {
     "duration": 3.044876,
     "end_time": "2024-04-28T09:34:51.680201",
     "exception": false,
     "start_time": "2024-04-28T09:34:48.635325",
     "status": "completed"
    },
    "tags": []
   },
   "outputs": [],
   "source": [
    "# improt ALl models.\n",
    "from sklearn.linear_model import LogisticRegression\n",
    "from sklearn.neighbors import KNeighborsClassifier\n",
    "from sklearn.svm import SVC\n",
    "from sklearn.tree import DecisionTreeClassifier, plot_tree\n",
    "from sklearn.ensemble import RandomForestClassifier, AdaBoostClassifier, GradientBoostingClassifier\n",
    "from xgboost import XGBClassifier\n",
    "from lightgbm import LGBMClassifier\n",
    "from sklearn.naive_bayes import GaussianNB\n",
    "\n",
    "#importing pipeline\n",
    "from sklearn.pipeline import Pipeline\n",
    "\n",
    "# import metrics\n",
    "from sklearn.metrics import accuracy_score, confusion_matrix, classification_report, mean_absolute_error, mean_squared_error\n",
    "\n",
    "\n"
   ]
  },
  {
   "cell_type": "markdown",
   "id": "03eb9959",
   "metadata": {
    "papermill": {
     "duration": 0.035999,
     "end_time": "2024-04-28T09:34:51.752569",
     "exception": false,
     "start_time": "2024-04-28T09:34:51.716570",
     "status": "completed"
    },
    "tags": []
   },
   "source": [
    "`Create a function for models and evaluate them`"
   ]
  },
  {
   "cell_type": "code",
   "execution_count": 55,
   "id": "7b6eedc9",
   "metadata": {
    "execution": {
     "iopub.execute_input": "2024-04-28T09:34:51.826898Z",
     "iopub.status.busy": "2024-04-28T09:34:51.826552Z",
     "iopub.status.idle": "2024-04-28T09:34:51.830823Z",
     "shell.execute_reply": "2024-04-28T09:34:51.829944Z"
    },
    "papermill": {
     "duration": 0.043578,
     "end_time": "2024-04-28T09:34:51.832734",
     "exception": false,
     "start_time": "2024-04-28T09:34:51.789156",
     "status": "completed"
    },
    "tags": []
   },
   "outputs": [],
   "source": [
    "import warnings\n",
    "warnings.filterwarnings('ignore')\n",
    "\n",
    "\n",
    " \n",
    "    "
   ]
  },
  {
   "cell_type": "code",
   "execution_count": 56,
   "id": "33c25bc2",
   "metadata": {
    "execution": {
     "iopub.execute_input": "2024-04-28T09:34:51.907950Z",
     "iopub.status.busy": "2024-04-28T09:34:51.907639Z",
     "iopub.status.idle": "2024-04-28T09:35:02.903424Z",
     "shell.execute_reply": "2024-04-28T09:35:02.902359Z"
    },
    "papermill": {
     "duration": 11.036191,
     "end_time": "2024-04-28T09:35:02.905412",
     "exception": false,
     "start_time": "2024-04-28T09:34:51.869221",
     "status": "completed"
    },
    "tags": []
   },
   "outputs": [
    {
     "name": "stdout",
     "output_type": "stream",
     "text": [
      "Model Logistic Regression\n",
      "Cross Validatino accuracy:  0.5090763052208835\n",
      "Test Accuracy:  0.5\n",
      "\n",
      "Model Gradient Boosting\n",
      "Cross Validatino accuracy:  0.6360058415480102\n",
      "Test Accuracy:  0.6739130434782609\n",
      "\n",
      "Model KNeighbors Classifier\n",
      "Cross Validatino accuracy:  0.576736035049288\n",
      "Test Accuracy:  0.5869565217391305\n",
      "\n",
      "Model Decision Tree Classifier\n",
      "Cross Validatino accuracy:  0.5852354874041621\n",
      "Test Accuracy:  0.5760869565217391\n",
      "\n",
      "Model AdaBoost Classifier\n",
      "Cross Validatino accuracy:  0.6118218327856881\n",
      "Test Accuracy:  0.6304347826086957\n",
      "\n",
      "Model Random Forest\n",
      "Cross Validatino accuracy:  0.6420664476086163\n",
      "Test Accuracy:  0.6847826086956522\n",
      "\n",
      "Model XGboost Classifier\n",
      "Cross Validatino accuracy:  0.6311646586345381\n",
      "Test Accuracy:  0.6630434782608695\n",
      "\n",
      "Model Support Vector Machine\n",
      "Cross Validatino accuracy:  0.5877035414384812\n",
      "Test Accuracy:  0.5869565217391305\n",
      "\n",
      "Model Naye base Classifier\n",
      "Cross Validatino accuracy:  0.5719313618108799\n",
      "Test Accuracy:  0.532608695652174\n",
      "\n",
      "Best Model:  Pipeline(steps=[('model', RandomForestClassifier(random_state=42))])\n"
     ]
    }
   ],
   "source": [
    "# create a list of models to evaluate\n",
    "\n",
    "models = [\n",
    "    ('Logistic Regression', LogisticRegression(random_state=42)),\n",
    "    ('Gradient Boosting', GradientBoostingClassifier(random_state=42)),\n",
    "    ('KNeighbors Classifier', KNeighborsClassifier()),\n",
    "    ('Decision Tree Classifier', DecisionTreeClassifier(random_state=42)),\n",
    "    ('AdaBoost Classifier', AdaBoostClassifier(random_state=42)),\n",
    "    ('Random Forest', RandomForestClassifier(random_state=42)),\n",
    "    ('XGboost Classifier', XGBClassifier(random_state=42)),   \n",
    "    \n",
    "    ('Support Vector Machine', SVC(random_state=42)),\n",
    "    \n",
    "    ('Naye base Classifier', GaussianNB())\n",
    "    \n",
    "    \n",
    "]\n",
    "\n",
    "best_model = None\n",
    "best_accuracy = 0.0\n",
    "\n",
    "#Iterate over the models and evaluate their performance\n",
    "for name, model in models:\n",
    "    #create a pipeline for each model\n",
    "    pipeline = Pipeline([\n",
    "        # ('imputer', SimpleImputer(strategy='most_frequent)),\n",
    "        #('encoder', OneHotEncoder(handle_unknow='ignore'))\n",
    "        ('model', model)\n",
    "    ])\n",
    "    \n",
    "    # perform cross validation\n",
    "    scores = cross_val_score(pipeline, X_train, y_train, cv=5)\n",
    "    \n",
    "    # Calculate mean accuracy\n",
    "    mean_accuracy = scores.mean()\n",
    "    \n",
    "    #fit the pipeline on the training data\n",
    "    pipeline.fit(X_train, y_train)\n",
    "    \n",
    "    # make prediction on the test data\n",
    "    y_pred = pipeline.predict(X_test)\n",
    "    \n",
    "    #Calculate accuracy score\n",
    "    accuracy = accuracy_score(y_test, y_pred)\n",
    "    \n",
    "    #print the performance metrics\n",
    "    print(\"Model\", name)\n",
    "    print(\"Cross Validatino accuracy: \", mean_accuracy)\n",
    "    print(\"Test Accuracy: \", accuracy)\n",
    "    print()\n",
    "    \n",
    "    #Check if the current model has the best accuracy\n",
    "    if accuracy > best_accuracy:\n",
    "        best_accuracy = accuracy\n",
    "        best_model = pipeline\n",
    "    \n",
    "# Retrieve the best model\n",
    "print(\"Best Model: \", best_model)\n",
    "    \n",
    "    \n",
    "    \n",
    "    "
   ]
  },
  {
   "cell_type": "markdown",
   "id": "55bdaa1b",
   "metadata": {
    "papermill": {
     "duration": 0.0362,
     "end_time": "2024-04-28T09:35:02.978737",
     "exception": false,
     "start_time": "2024-04-28T09:35:02.942537",
     "status": "completed"
    },
    "tags": []
   },
   "source": [
    "# `Evaluation of Models`"
   ]
  },
  {
   "cell_type": "code",
   "execution_count": 57,
   "id": "2f0c2d63",
   "metadata": {
    "execution": {
     "iopub.execute_input": "2024-04-28T09:35:03.052321Z",
     "iopub.status.busy": "2024-04-28T09:35:03.051998Z",
     "iopub.status.idle": "2024-04-28T09:35:03.056323Z",
     "shell.execute_reply": "2024-04-28T09:35:03.055410Z"
    },
    "papermill": {
     "duration": 0.043318,
     "end_time": "2024-04-28T09:35:03.058149",
     "exception": false,
     "start_time": "2024-04-28T09:35:03.014831",
     "status": "completed"
    },
    "tags": []
   },
   "outputs": [],
   "source": [
    "categorical_cols = ['thal', 'ca', 'slope', 'exang', 'restecg','fbs', 'cp', 'sex']"
   ]
  },
  {
   "cell_type": "code",
   "execution_count": 58,
   "id": "d94f3f96",
   "metadata": {
    "execution": {
     "iopub.execute_input": "2024-04-28T09:35:03.134102Z",
     "iopub.status.busy": "2024-04-28T09:35:03.133814Z",
     "iopub.status.idle": "2024-04-28T09:35:05.016220Z",
     "shell.execute_reply": "2024-04-28T09:35:05.015237Z"
    },
    "papermill": {
     "duration": 1.923103,
     "end_time": "2024-04-28T09:35:05.018626",
     "exception": false,
     "start_time": "2024-04-28T09:35:03.095523",
     "status": "completed"
    },
    "tags": []
   },
   "outputs": [
    {
     "name": "stdout",
     "output_type": "stream",
     "text": [
      "Model accuracies: {'Logistic Regression': 0.4945652173913043, 'KNN': 0.592391304347826, 'NB': 0.5054347826086957, 'SVM': 0.5815217391304348, 'Decision Tree': 0.6141304347826086, 'Random Forest': 0.6141304347826086, 'XGBoost': 0.625, 'GradientBoosting': 0.6413043478260869, 'AdaBoost': 0.5597826086956522}\n",
      "Best model: GradientBoosting\n"
     ]
    }
   ],
   "source": [
    "def evaluate_classification_models(X, y, categorical_columns):\n",
    "    # Encode categorical columns\n",
    "    X_encoded = X.copy()\n",
    "    label_encoders = {}\n",
    "    for col in categorical_columns:\n",
    "        label_encoders[col] = LabelEncoder()\n",
    "        X_encoded[col] = label_encoders[col].fit_transform(X[col])\n",
    "    \n",
    "    # Split data into train and test sets\n",
    "    X_train, X_test, y_train, y_test = train_test_split(X_encoded, y, test_size=0.2, random_state=42)\n",
    "    \n",
    "    # Define models\n",
    "    models = {\n",
    "        \"Logistic Regression\": LogisticRegression(),\n",
    "        \"KNN\": KNeighborsClassifier(),\n",
    "        \"NB\": GaussianNB(),\n",
    "        \"SVM\": SVC(),\n",
    "        \"Decision Tree\": DecisionTreeClassifier(),\n",
    "        \"Random Forest\": RandomForestClassifier(),\n",
    "        \"XGBoost\": XGBClassifier(),\n",
    "        \"GradientBoosting\": GradientBoostingClassifier(),\n",
    "        \"AdaBoost\": AdaBoostClassifier()\n",
    "    }\n",
    "    \n",
    "    # Train and evaluate models\n",
    "    results = {}\n",
    "    best_model = None\n",
    "    best_accuracy = 0.0\n",
    "    for name, model in models.items():\n",
    "        model.fit(X_train, y_train)\n",
    "        y_pred = model.predict(X_test)\n",
    "        accuracy = accuracy_score(y_test, y_pred)\n",
    "        results[name] = accuracy\n",
    "        if accuracy > best_accuracy:\n",
    "            best_accuracy = accuracy\n",
    "            best_model = name\n",
    "    \n",
    "    return results, best_model\n",
    "\n",
    "# Example usage:\n",
    "results, best_model = evaluate_classification_models(X, y, categorical_cols)\n",
    "print(\"Model accuracies:\", results)\n",
    "print(\"Best model:\", best_model)\n"
   ]
  },
  {
   "cell_type": "markdown",
   "id": "8f882d21",
   "metadata": {
    "papermill": {
     "duration": 0.037965,
     "end_time": "2024-04-28T09:35:05.095562",
     "exception": false,
     "start_time": "2024-04-28T09:35:05.057597",
     "status": "completed"
    },
    "tags": []
   },
   "source": [
    "# `Hyper Parameter Tuning `"
   ]
  },
  {
   "cell_type": "code",
   "execution_count": 59,
   "id": "a09e1054",
   "metadata": {
    "execution": {
     "iopub.execute_input": "2024-04-28T09:35:05.175258Z",
     "iopub.status.busy": "2024-04-28T09:35:05.174654Z",
     "iopub.status.idle": "2024-04-28T09:35:05.180556Z",
     "shell.execute_reply": "2024-04-28T09:35:05.179662Z"
    },
    "papermill": {
     "duration": 0.048421,
     "end_time": "2024-04-28T09:35:05.182610",
     "exception": false,
     "start_time": "2024-04-28T09:35:05.134189",
     "status": "completed"
    },
    "tags": []
   },
   "outputs": [],
   "source": [
    "\n",
    "X = df[categorical_cols]  # Select the categorical columns as input features\n",
    "y = df['num']  # Sele"
   ]
  },
  {
   "cell_type": "code",
   "execution_count": 60,
   "id": "7c62c234",
   "metadata": {
    "execution": {
     "iopub.execute_input": "2024-04-28T09:35:05.262175Z",
     "iopub.status.busy": "2024-04-28T09:35:05.261483Z",
     "iopub.status.idle": "2024-04-28T09:35:18.080239Z",
     "shell.execute_reply": "2024-04-28T09:35:18.079202Z"
    },
    "papermill": {
     "duration": 12.861032,
     "end_time": "2024-04-28T09:35:18.082725",
     "exception": false,
     "start_time": "2024-04-28T09:35:05.221693",
     "status": "completed"
    },
    "tags": []
   },
   "outputs": [
    {
     "name": "stdout",
     "output_type": "stream",
     "text": [
      "Model: AdaBoost\n",
      "Best hyperparameters: {'learning_rate': 0.1, 'n_estimators': 200}\n",
      "Accuracy: 0.5543478260869565\n",
      "\n"
     ]
    }
   ],
   "source": [
    "def hyperparameter_tuning(X, y, categorical_columns, models):\n",
    "    # Define dictionary to store results\n",
    "    results = {}\n",
    "    \n",
    "    # Encode categorical columns\n",
    "    X_encoded = X.copy()\n",
    "    label_encoders = {}\n",
    "    for col in categorical_columns:\n",
    "        label_encoders[col] = LabelEncoder()\n",
    "        X_encoded[col] = label_encoders[col].fit_transform(X[col])\n",
    "    \n",
    "    # Split data into train and test sets\n",
    "    X_train, X_test, y_train, y_test = train_test_split(X_encoded, y, test_size=0.2, random_state=42)\n",
    "    \n",
    "    # Perform hyperparameter tuning for each model\n",
    "    for model_name, model in models.items():\n",
    "    # Define parameter grid for hyperparameter tuning\n",
    "        param_grid = {}\n",
    "    if model_name == 'Logistic Regression':\n",
    "        param_grid = {'C': [0.1, 1, 10, 100]}\n",
    "    elif model_name == 'KNN':\n",
    "        param_grid = {'n_neighbors': [3, 5, 7, 9]}\n",
    "    elif model_name == 'NB':\n",
    "        param_grid = {'var_smoothing': [1e-9, 1e-8, 1e-7, 1e-6]}\n",
    "    elif model_name == 'SVM':\n",
    "        param_grid = {'C': [0.1, 1, 10, 100], 'gamma': [0.1, 1, 10, 100]}\n",
    "    elif model_name == 'Decision Tree':\n",
    "        param_grid = {'max_depth': [None, 10, 20, 30], 'min_samples_split': [2, 5, 10]}\n",
    "    elif model_name == 'Random Forest':\n",
    "        param_grid = {'n_estimators': [100, 200, 300], 'max_depth': [None, 10, 20, 30], 'min_samples_split': [2, 5, 10]}\n",
    "    elif model_name == 'XGBoost':\n",
    "        param_grid = {'learning_rate': [0.01, 0.1, 0.2], 'n_estimators': [100, 200, 300], 'max_depth': [3, 5, 7]}\n",
    "    elif model_name == 'GradientBoosting':\n",
    "        param_grid = {'learning_rate': [0.01, 0.1, 0.2], 'n_estimators': [100, 200, 300], 'max_depth': [3, 5, 7]}\n",
    "    elif model_name == 'AdaBoost':\n",
    "        param_grid = {'learning_rate': [0.01, 0.1, 0.2], 'n_estimators': [50, 100, 200]}\n",
    "\n",
    "        \n",
    "        # Perform hyperparameter tuning using GridSearchCV\n",
    "        grid_search = GridSearchCV(model, param_grid, cv=5, scoring='accuracy')\n",
    "        grid_search.fit(X_train, y_train)\n",
    "        \n",
    "        # Get best hyperparameters and evaluate on test set\n",
    "        best_params = grid_search.best_params_\n",
    "        best_model = grid_search.best_estimator_\n",
    "        y_pred = best_model.predict(X_test)\n",
    "        accuracy = accuracy_score(y_test, y_pred)\n",
    "        \n",
    "        # Store results in dictionary\n",
    "        results[model_name] = {'best_params': best_params, 'accuracy': accuracy}\n",
    "    \n",
    "    return results\n",
    "\n",
    "# Define models dictionary\n",
    "models = {\n",
    "    \"Logistic Regression\": LogisticRegression(),\n",
    "    \"KNN\": KNeighborsClassifier(),\n",
    "    \"NB\": GaussianNB(),\n",
    "    \"SVM\": SVC(),\n",
    "    \"Decision Tree\": DecisionTreeClassifier(),\n",
    "    \"Random Forest\": RandomForestClassifier(),\n",
    "    \"XGBoost\": XGBClassifier(),\n",
    "    \"GradientBoosting\": GradientBoostingClassifier(),\n",
    "    \"AdaBoost\": AdaBoostClassifier()\n",
    "}\n",
    "\n",
    "# Example usage:\n",
    "results = hyperparameter_tuning(X, y, categorical_cols, models)\n",
    "for model_name, result in results.items():\n",
    "    print(\"Model:\", model_name)\n",
    "    print(\"Best hyperparameters:\", result['best_params'])\n",
    "    print(\"Accuracy:\", result['accuracy'])\n",
    "    print()\n"
   ]
  },
  {
   "cell_type": "markdown",
   "id": "0abd5055",
   "metadata": {
    "papermill": {
     "duration": 0.040986,
     "end_time": "2024-04-28T09:35:18.165832",
     "exception": false,
     "start_time": "2024-04-28T09:35:18.124846",
     "status": "completed"
    },
    "tags": []
   },
   "source": [
    "#### `Outputs:`\n",
    "1. The minimum age to have a heart disease start from 28 years old.\n",
    "2. Most of the people get heart disease at the age of 53 to 54 years.\n",
    "3. Most of the males and females get are with heart disease at the age of 54 to 55 years.\n",
    "4. Male percentage i the data: 78.91%\n",
    "5. Female percentage in the data : 21.09%\n",
    "6. Males are 274.23% more than female in the data.\n",
    "7. We have the highest number of people from Clveland(304) and lowest from Switzerland (123).\n",
    "   \n",
    "   `***..Age vs Sex and origin..***`\n",
    "   1. The highest number of female in this dataset are from Cleveland(97) and lowest are from VA Long Beach(6).\n",
    "   2. The highest number of male are from Hungary(212) and lowest from Switzerland(113).\n",
    "   \n",
    "   `***..Chest pain according to Origins..***`\n",
    "8. The high number of Typical angina, Asymptomatic and Non anginal chest pain is in the Cleveland while Atypical anigna is highly occured in Hungary.\n",
    "9.  Lowest number of chest pain (Typical angina, Asymptomatic, Non anginal and Atypical angina)is happened in Switzerland as compare to other origins.\n",
    "    \n",
    "    `***..Chest pain according to Age..***`\n",
    "10. The highest number of chest pain is happened is Asymtomatic Angina and the lowest number of cp is that happened is Typical Angina.\n",
    "    1. The age in which highest number of `Typical Angina` happened is `62 to 63 years`.\n",
    "    2. The age in which highest number of `Asymtomatic Angina` happened is `56 to 57 years`.\n",
    "    3. The age in which highest number of `Non Anginal` happened is `54 to 55 years`.\n",
    "    4. The age in which highest number of `Atypical Angina` happened is `54 to 55 years`.\n",
    "11. "
   ]
  }
 ],
 "metadata": {
  "kaggle": {
   "accelerator": "gpu",
   "dataSources": [
    {
     "datasetId": 23651,
     "sourceId": 30233,
     "sourceType": "datasetVersion"
    },
    {
     "datasetId": 216167,
     "sourceId": 477177,
     "sourceType": "datasetVersion"
    },
    {
     "datasetId": 576697,
     "sourceId": 1043970,
     "sourceType": "datasetVersion"
    },
    {
     "datasetId": 605543,
     "sourceId": 1085957,
     "sourceType": "datasetVersion"
    },
    {
     "datasetId": 727551,
     "sourceId": 1263738,
     "sourceType": "datasetVersion"
    },
    {
     "datasetId": 863468,
     "sourceId": 1471761,
     "sourceType": "datasetVersion"
    },
    {
     "datasetId": 888463,
     "sourceId": 1508992,
     "sourceType": "datasetVersion"
    },
    {
     "datasetId": 1511119,
     "sourceId": 2495857,
     "sourceType": "datasetVersion"
    },
    {
     "datasetId": 1582403,
     "sourceId": 2603715,
     "sourceType": "datasetVersion"
    },
    {
     "datasetId": 1828813,
     "sourceId": 2983853,
     "sourceType": "datasetVersion"
    },
    {
     "datasetId": 1690571,
     "sourceId": 3277449,
     "sourceType": "datasetVersion"
    },
    {
     "datasetId": 2827380,
     "sourceId": 4876162,
     "sourceType": "datasetVersion"
    },
    {
     "datasetId": 3059233,
     "sourceId": 5257176,
     "sourceType": "datasetVersion"
    },
    {
     "datasetId": 3309453,
     "sourceId": 5780739,
     "sourceType": "datasetVersion"
    },
    {
     "datasetId": 3786485,
     "sourceId": 6552418,
     "sourceType": "datasetVersion"
    },
    {
     "datasetId": 1936563,
     "sourceId": 6674905,
     "sourceType": "datasetVersion"
    }
   ],
   "dockerImageVersionId": 30699,
   "isGpuEnabled": true,
   "isInternetEnabled": true,
   "language": "python",
   "sourceType": "notebook"
  },
  "kernelspec": {
   "display_name": "Python 3",
   "language": "python",
   "name": "python3"
  },
  "language_info": {
   "codemirror_mode": {
    "name": "ipython",
    "version": 3
   },
   "file_extension": ".py",
   "mimetype": "text/x-python",
   "name": "python",
   "nbconvert_exporter": "python",
   "pygments_lexer": "ipython3",
   "version": "3.10.13"
  },
  "papermill": {
   "default_parameters": {},
   "duration": 52.993997,
   "end_time": "2024-04-28T09:35:19.025980",
   "environment_variables": {},
   "exception": null,
   "input_path": "__notebook__.ipynb",
   "output_path": "__notebook__.ipynb",
   "parameters": {},
   "start_time": "2024-04-28T09:34:26.031983",
   "version": "2.5.0"
  }
 },
 "nbformat": 4,
 "nbformat_minor": 5
}
